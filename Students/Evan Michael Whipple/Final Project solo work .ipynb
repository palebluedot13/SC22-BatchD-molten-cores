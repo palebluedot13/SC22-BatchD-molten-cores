{
 "cells": [
  {
   "cell_type": "code",
   "execution_count": 59,
   "metadata": {
    "collapsed": false
   },
   "outputs": [
   ],
   "source": [
    "import pandas as pd\n",
    "import numpy as np\n",
    "import matplotlib.pyplot as plt\n",
    "import seaborn as sns\n",
    "import sklearn\n",
    "from sklearn.model_selection import train_test_split\n",
    "from sklearn import preprocessing\n",
    "from sklearn.ensemble import RandomForestClassifier\n",
    "from sklearn.preprocessing import LabelEncoder\n",
    "from sklearn.ensemble import RandomForestClassifier\n",
    "from sklearn.model_selection import train_test_split\n",
    "from sklearn.metrics import classification_report\n",
    "from sklearn.metrics import confusion_matrix\n",
    "from sklearn.model_selection import GridSearchCV\n",
    "suicide_risk = pd.read_csv(\"foreveralone.csv\")"
   ]
  },
  {
   "cell_type": "code",
   "execution_count": 60,
   "metadata": {
    "collapsed": false
   },
   "outputs": [
   ],
   "source": [
    "suicide_risk_test = pd.read_csv(\"foreveralone.csv\") #cleaned data\n",
    "suicide_risk_test2 = pd.read_csv(\"foreveralone.csv\") #cleaned and labelencoded data"
   ]
  },
  {
   "cell_type": "code",
   "execution_count": 61,
   "metadata": {
    "collapsed": false
   },
   "outputs": [
   ],
   "source": [
    "columns_to_drop = [\"time\"]\n",
    "suicide_risk_test2.drop(columns_to_drop, axis=1, inplace=True)"
   ]
  },
  {
   "cell_type": "code",
   "execution_count": 0,
   "metadata": {
    "collapsed": false
   },
   "outputs": [
   ],
   "source": [
   ]
  },
  {
   "cell_type": "code",
   "execution_count": 62,
   "metadata": {
    "collapsed": false
   },
   "outputs": [
    {
     "data": {
      "text/plain": [
       "Index(['gender', 'sexuallity', 'age', 'income', 'race', 'bodyweight', 'virgin',\n",
       "       'prostitution_legal', 'pay_for_sex', 'friends', 'social_fear',\n",
       "       'depressed', 'what_help_from_others', 'attempt_suicide', 'employment',\n",
       "       'job_title', 'edu_level', 'improve_yourself_how'],\n",
       "      dtype='object')"
      ]
     },
     "execution_count": 62,
     "metadata": {
     },
     "output_type": "execute_result"
    }
   ],
   "source": [
    "suicide_risk_test2.columns"
   ]
  },
  {
   "cell_type": "code",
   "execution_count": 63,
   "metadata": {
    "collapsed": false
   },
   "outputs": [
    {
     "data": {
      "text/plain": [
       "Therapy             130\n",
       "Go to/join a gym    124\n",
       "Other               109\n",
       "None                106\n",
       "Name: improve_yourself_how, dtype: int64"
      ]
     },
     "execution_count": 63,
     "metadata": {
     },
     "output_type": "execute_result"
    }
   ],
   "source": [
    "race_freq = (suicide_risk_test['race'].value_counts())/suicide_risk_test.shape[0]\n",
    "less_freq_race = race_freq[race_freq<=0.04]\n",
    "suicide_risk_test.loc[suicide_risk_test['race'].isin(less_freq_race.index.tolist()), \"race\"] = \"other\"\n",
    "suicide_risk_test[\"race\"].value_counts()\n",
    "\n",
    "#paysex_freq = (suicide_risk_test['pay_for_sex'].value_counts())/suicide_risk_test.shape[0]\n",
    "#less_freq_paysex = paysex_freq[paysex_freq<=0.3]\n",
    "#suicide_risk_test.loc[suicide_risk_test['pay_for_sex'].isin(less_freq_paysex.index.tolist()), \"pay_for_sex\"] = \"Yes\"\n",
    "#suicide_risk_test[\"pay_for_sex\"].value_counts()\n",
    "\n",
    "sxlty_freq = (suicide_risk_test['sexuallity'].value_counts())/suicide_risk_test.shape[0]\n",
    "less_freq_sxlty = sxlty_freq[sxlty_freq<=0.1]\n",
    "suicide_risk_test.loc[suicide_risk_test['sexuallity'].isin(less_freq_sxlty.index.tolist()), \"sexuallity\"] = \"Bi/Gay/Lesbian\"\n",
    "suicide_risk_test[\"sexuallity\"].value_counts()\n",
    "\n",
    "help_freq = (suicide_risk_test['what_help_from_others'].value_counts())/suicide_risk_test.shape[0]\n",
    "less_freq_help = help_freq[help_freq<=0.15]\n",
    "suicide_risk_test.loc[suicide_risk_test['what_help_from_others'].isin(less_freq_help.index.tolist()), \"what_help_from_others\"] = \"Some form of help\"\n",
    "suicide_risk_test[\"what_help_from_others\"].value_counts()\n",
    "\n",
    "suicide_risk_test = suicide_risk_test.replace({'employment':  {'A homemaker': \"Employed\", 'Retired': \"Unemployed\", 'Military': \"Employed\", 'Unable to work': \"Unemployed\", 'Self-employed': \"Employed\", 'Out of work and looking for work': \"Unemployed\", 'Out of work but not currently looking for work': \"Unemployed\", 'Employed for wages': \"Employed\", 'A student': \"Student\"}})\n",
    "\n",
    "suicide_risk_test.loc[suicide_risk['gender'].isin([\"Transgender female\"]),\"gender\"] = \"Female\"\n",
    "suicide_risk_test.loc[suicide_risk['gender'].isin([\"Transgender male\"]),\"gender\"] = \"Male\"\n",
    "\n",
    "suicide_risk_test.loc[suicide_risk_test.improve_yourself_how.str.contains(\"Therapy\"), \"improve_yourself_how\"] = \"Therapy\"\n",
    "suicide_risk_test.loc[suicide_risk_test.improve_yourself_how.str.contains(\"gym\"), \"improve_yourself_how\"] = \"Go to/join a gym\"\n",
    "\n",
    "improve_freq = (suicide_risk_test['improve_yourself_how'].value_counts())/suicide_risk_test.shape[0]\n",
    "less_freq_improve = improve_freq[improve_freq<=0.2]\n",
    "suicide_risk_test.loc[suicide_risk_test['improve_yourself_how'].isin(less_freq_improve.index.tolist()), \"improve_yourself_how\"] = \"Other\"\n",
    "suicide_risk_test[\"improve_yourself_how\"].value_counts()\n"
   ]
  },
  {
   "cell_type": "code",
   "execution_count": 64,
   "metadata": {
    "collapsed": false
   },
   "outputs": [
    {
     "data": {
      "text/plain": [
       "Male      395\n",
       "Female     74\n",
       "Name: gender, dtype: int64"
      ]
     },
     "execution_count": 64,
     "metadata": {
     },
     "output_type": "execute_result"
    }
   ],
   "source": [
    "race_freq = (suicide_risk_test2['race'].value_counts())/suicide_risk_test2.shape[0]\n",
    "less_freq_race = race_freq[race_freq<=0.04]\n",
    "suicide_risk_test2.loc[suicide_risk_test2['race'].isin(less_freq_race.index.tolist()), \"race\"] = \"other\"\n",
    "suicide_risk_test2[\"race\"].value_counts()\n",
    "\n",
    "#paysex_freq = (suicide_risk_test2['pay_for_sex'].value_counts())/suicide_risk_test2.shape[0]\n",
    "#less_freq_paysex = paysex_freq[paysex_freq<=0.3]\n",
    "#suicide_risk_test2.loc[suicide_risk_test2['pay_for_sex'].isin(less_freq_paysex.index.tolist()), \"pay_for_sex\"] = \"Yes\"\n",
    "#suicide_risk_test2[\"pay_for_sex\"].value_counts()\n",
    "\n",
    "sxlty_freq = (suicide_risk_test2['sexuallity'].value_counts())/suicide_risk_test2.shape[0]\n",
    "less_freq_sxlty = sxlty_freq[sxlty_freq<=0.1]\n",
    "suicide_risk_test2.loc[suicide_risk_test2['sexuallity'].isin(less_freq_sxlty.index.tolist()), \"sexuallity\"] = \"Bi/Gay/Lesbian\"\n",
    "suicide_risk_test2[\"sexuallity\"].value_counts()\n",
    "\n",
    "help_freq = (suicide_risk_test2['what_help_from_others'].value_counts())/suicide_risk_test2.shape[0]\n",
    "less_freq_help = help_freq[help_freq<=0.15]\n",
    "suicide_risk_test2.loc[suicide_risk_test2['what_help_from_others'].isin(less_freq_help.index.tolist()), \"what_help_from_others\"] = \"Some form of help\"\n",
    "suicide_risk_test2[\"what_help_from_others\"].value_counts()\n",
    "\n",
    "suicide_risk_test2 = suicide_risk_test2.replace({'employment':  {'A homemaker': \"Employed\", 'Retired': \"Unemployed\", 'Military': \"Employed\", 'Unable to work': \"Unemployed\", 'Self-employed': \"Employed\", 'Out of work and looking for work': \"Unemployed\", 'Out of work but not currently looking for work': \"Unemployed\", 'Employed for wages': \"Employed\", 'A student': \"Student\"}})\n",
    "\n",
    "suicide_risk_test2.loc[suicide_risk['gender'].isin([\"Transgender female\"]),\"gender\"] = \"Female\"\n",
    "suicide_risk_test2.loc[suicide_risk['gender'].isin([\"Transgender male\"]),\"gender\"] = \"Male\"\n",
    "\n",
    "suicide_risk_test2.loc[suicide_risk_test2.improve_yourself_how.str.contains(\"Therapy\"), \"improve_yourself_how\"] = \"Therapy\"\n",
    "suicide_risk_test2.loc[suicide_risk_test2.improve_yourself_how.str.contains(\"gym\"), \"improve_yourself_how\"] = \"Go to/join a gym\"\n",
    "\n",
    "improve_freq = (suicide_risk_test2['improve_yourself_how'].value_counts())/suicide_risk_test2.shape[0]\n",
    "less_freq_improve = improve_freq[improve_freq<=0.2]\n",
    "suicide_risk_test2.loc[suicide_risk_test2['improve_yourself_how'].isin(less_freq_improve.index.tolist()), \"improve_yourself_how\"] = \"Other\"\n",
    "suicide_risk_test2[\"improve_yourself_how\"].value_counts()\n",
    "\n",
    "suicide_risk_test[\"gender\"].value_counts()"
   ]
  },
  {
   "cell_type": "code",
   "execution_count": 65,
   "metadata": {
    "collapsed": false
   },
   "outputs": [
   ],
   "source": [
    "# le.fit_transform(suicide_risk_test[\"\"])\n",
    "# le = preprocessing.LabelEncoder()\n",
    "# updated_race = le.fit_transform(suicide_risk_test2['race'])\n",
    "# updated_gender = le.fit_transform(suicide_risk_test2[\"gender\"])\n",
    "# updated_sexuallity = le.fit_transform(suicide_risk_test2[\"sexuallity\"])\n",
    "# updated_bodyweight = le.fit_transform(suicide_risk_test2[\"bodyweight\"])\n",
    "# updated_virgin = le.fit_transform(suicide_risk_test2[\"virgin\"])\n",
    "# updated_prostitution_legal = le.fit_transform(suicide_risk_test2[\"prostitution_legal\"])\n",
    "# updated_pay_for_sex = le.fit_transform(suicide_risk_test2[\"pay_for_sex\"])\n",
    "# updated_social_fear = le.fit_transform(suicide_risk_test2[\"social_fear\"])\n",
    "# updated_depressed = le.fit_transform(suicide_risk_test2[\"depressed\"])\n",
    "# updated_what_help_from_others = le.fit_transform(suicide_risk_test2[\"what_help_from_others\"])\n",
    "# updated_attempt_suicide = le.fit_transform(suicide_risk_test2[\"attempt_suicide\"])\n",
    "# updated_employment = le.fit_transform(suicide_risk_test2[\"employment\"])\n",
    "# updated_improve_yourself_how = le.fit_transform(suicide_risk_test2[\"improve_yourself_how\"])"
   ]
  },
  {
   "cell_type": "code",
   "execution_count": 0,
   "metadata": {
    "collapsed": false
   },
   "outputs": [
   ],
   "source": [
   ]
  },
  {
   "cell_type": "code",
   "execution_count": 66,
   "metadata": {
    "collapsed": false
   },
   "outputs": [
    {
     "data": {
      "text/plain": [
       "Therapy             130\n",
       "Go to/join a gym    124\n",
       "Other               109\n",
       "None                106\n",
       "Name: improve_yourself_how, dtype: int64"
      ]
     },
     "execution_count": 66,
     "metadata": {
     },
     "output_type": "execute_result"
    }
   ],
   "source": [
    "suicide_risk_test2[\"improve_yourself_how\"].value_counts()"
   ]
  },
  {
   "cell_type": "code",
   "execution_count": 67,
   "metadata": {
    "collapsed": false
   },
   "outputs": [
    {
     "name": "stdout",
     "output_type": "stream",
     "text": [
      "Encoded data\n"
     ]
    },
    {
     "data": {
      "text/html": [
       "<div>\n",
       "<style scoped>\n",
       "    .dataframe tbody tr th:only-of-type {\n",
       "        vertical-align: middle;\n",
       "    }\n",
       "\n",
       "    .dataframe tbody tr th {\n",
       "        vertical-align: top;\n",
       "    }\n",
       "\n",
       "    .dataframe thead th {\n",
       "        text-align: right;\n",
       "    }\n",
       "</style>\n",
       "<table border=\"1\" class=\"dataframe\">\n",
       "  <thead>\n",
       "    <tr style=\"text-align: right;\">\n",
       "      <th></th>\n",
       "      <th>gender</th>\n",
       "      <th>sexuallity</th>\n",
       "      <th>age</th>\n",
       "      <th>income</th>\n",
       "      <th>race</th>\n",
       "      <th>bodyweight</th>\n",
       "      <th>virgin</th>\n",
       "      <th>prostitution_legal</th>\n",
       "      <th>pay_for_sex</th>\n",
       "      <th>friends</th>\n",
       "      <th>social_fear</th>\n",
       "      <th>depressed</th>\n",
       "      <th>what_help_from_others</th>\n",
       "      <th>attempt_suicide</th>\n",
       "      <th>employment</th>\n",
       "      <th>job_title</th>\n",
       "      <th>edu_level</th>\n",
       "      <th>improve_yourself_how</th>\n",
       "    </tr>\n",
       "  </thead>\n",
       "  <tbody>\n",
       "    <tr>\n",
       "      <th>0</th>\n",
       "      <td>1</td>\n",
       "      <td>1</td>\n",
       "      <td>35</td>\n",
       "      <td>9</td>\n",
       "      <td>3</td>\n",
       "      <td>0</td>\n",
       "      <td>1</td>\n",
       "      <td>0</td>\n",
       "      <td>0</td>\n",
       "      <td>0.0</td>\n",
       "      <td>1</td>\n",
       "      <td>1</td>\n",
       "      <td>1</td>\n",
       "      <td>1</td>\n",
       "      <td>0</td>\n",
       "      <td>242</td>\n",
       "      <td>0</td>\n",
       "      <td>1</td>\n",
       "    </tr>\n",
       "    <tr>\n",
       "      <th>1</th>\n",
       "      <td>1</td>\n",
       "      <td>0</td>\n",
       "      <td>21</td>\n",
       "      <td>1</td>\n",
       "      <td>3</td>\n",
       "      <td>3</td>\n",
       "      <td>1</td>\n",
       "      <td>0</td>\n",
       "      <td>0</td>\n",
       "      <td>0.0</td>\n",
       "      <td>1</td>\n",
       "      <td>1</td>\n",
       "      <td>1</td>\n",
       "      <td>0</td>\n",
       "      <td>2</td>\n",
       "      <td>4</td>\n",
       "      <td>6</td>\n",
       "      <td>2</td>\n",
       "    </tr>\n",
       "    <tr>\n",
       "      <th>2</th>\n",
       "      <td>1</td>\n",
       "      <td>1</td>\n",
       "      <td>22</td>\n",
       "      <td>0</td>\n",
       "      <td>3</td>\n",
       "      <td>2</td>\n",
       "      <td>1</td>\n",
       "      <td>0</td>\n",
       "      <td>0</td>\n",
       "      <td>10.0</td>\n",
       "      <td>1</td>\n",
       "      <td>1</td>\n",
       "      <td>0</td>\n",
       "      <td>0</td>\n",
       "      <td>2</td>\n",
       "      <td>271</td>\n",
       "      <td>6</td>\n",
       "      <td>2</td>\n",
       "    </tr>\n",
       "    <tr>\n",
       "      <th>3</th>\n",
       "      <td>1</td>\n",
       "      <td>1</td>\n",
       "      <td>19</td>\n",
       "      <td>1</td>\n",
       "      <td>3</td>\n",
       "      <td>2</td>\n",
       "      <td>1</td>\n",
       "      <td>1</td>\n",
       "      <td>0</td>\n",
       "      <td>8.0</td>\n",
       "      <td>1</td>\n",
       "      <td>1</td>\n",
       "      <td>1</td>\n",
       "      <td>0</td>\n",
       "      <td>1</td>\n",
       "      <td>262</td>\n",
       "      <td>6</td>\n",
       "      <td>0</td>\n",
       "    </tr>\n",
       "    <tr>\n",
       "      <th>4</th>\n",
       "      <td>1</td>\n",
       "      <td>1</td>\n",
       "      <td>23</td>\n",
       "      <td>9</td>\n",
       "      <td>3</td>\n",
       "      <td>2</td>\n",
       "      <td>0</td>\n",
       "      <td>0</td>\n",
       "      <td>1</td>\n",
       "      <td>10.0</td>\n",
       "      <td>0</td>\n",
       "      <td>1</td>\n",
       "      <td>0</td>\n",
       "      <td>0</td>\n",
       "      <td>0</td>\n",
       "      <td>61</td>\n",
       "      <td>3</td>\n",
       "      <td>1</td>\n",
       "    </tr>\n",
       "  </tbody>\n",
       "</table>\n",
       "</div>"
      ],
      "text/plain": [
       "   gender  sexuallity  age  income  race  bodyweight  virgin  \\\n",
       "0       1           1   35       9     3           0       1   \n",
       "1       1           0   21       1     3           3       1   \n",
       "2       1           1   22       0     3           2       1   \n",
       "3       1           1   19       1     3           2       1   \n",
       "4       1           1   23       9     3           2       0   \n",
       "\n",
       "   prostitution_legal  pay_for_sex  friends  social_fear  depressed  \\\n",
       "0                   0            0      0.0            1          1   \n",
       "1                   0            0      0.0            1          1   \n",
       "2                   0            0     10.0            1          1   \n",
       "3                   1            0      8.0            1          1   \n",
       "4                   0            1     10.0            0          1   \n",
       "\n",
       "   what_help_from_others  attempt_suicide  employment  job_title  edu_level  \\\n",
       "0                      1                1           0        242          0   \n",
       "1                      1                0           2          4          6   \n",
       "2                      0                0           2        271          6   \n",
       "3                      1                0           1        262          6   \n",
       "4                      0                0           0         61          3   \n",
       "\n",
       "   improve_yourself_how  \n",
       "0                     1  \n",
       "1                     2  \n",
       "2                     2  \n",
       "3                     0  \n",
       "4                     1  "
      ]
     },
     "execution_count": 67,
     "metadata": {
     },
     "output_type": "execute_result"
    }
   ],
   "source": [
    "#\n",
    "suicide_risk_numeric = suicide_risk_test2.select_dtypes(exclude=np.number).columns\n",
    "from sklearn.preprocessing import LabelEncoder\n",
    "label_encoder = LabelEncoder()\n",
    "for i in suicide_risk_numeric:\n",
    "    suicide_risk_test2[i] = label_encoder.fit_transform(suicide_risk_test2[i])\n",
    "print(\"Encoded data\")\n",
    "suicide_risk_test2.head()"
   ]
  },
  {
   "cell_type": "code",
   "execution_count": 0,
   "metadata": {
    "collapsed": false
   },
   "outputs": [
   ],
   "source": [
   ]
  },
  {
   "cell_type": "code",
   "execution_count": 68,
   "metadata": {
    "collapsed": false
   },
   "outputs": [
    {
     "data": {
      "text/plain": [
       "Therapy             130\n",
       "Go to/join a gym    124\n",
       "Other               109\n",
       "None                106\n",
       "Name: improve_yourself_how, dtype: int64"
      ]
     },
     "execution_count": 68,
     "metadata": {
     },
     "output_type": "execute_result"
    }
   ],
   "source": [
    "suicide_risk_test[\"improve_yourself_how\"].value_counts()\n",
    "#help_cat = (suicide_risk_test['improve_yourself_how'].value_counts())/suicide_risk_test.shape[0]\n",
    "#print(help_cat)\n",
    "#suicide_risk_test[\"employment\"].value_counts()"
   ]
  },
  {
   "cell_type": "code",
   "execution_count": 69,
   "metadata": {
    "collapsed": false,
    "scrolled": true
   },
   "outputs": [
    {
     "name": "stdout",
     "output_type": "stream",
     "text": [
      "0      1\n",
      "1      1\n",
      "2      1\n",
      "3      1\n",
      "4      1\n",
      "      ..\n",
      "464    0\n",
      "465    1\n",
      "466    0\n",
      "467    1\n",
      "468    1\n",
      "Name: gender, Length: 469, dtype: int64\n"
     ]
    }
   ],
   "source": [
    "#print(updated_gender)\n",
    "print(suicide_risk_test2[\"gender\"])"
   ]
  },
  {
   "cell_type": "code",
   "execution_count": 70,
   "metadata": {
    "collapsed": false,
    "scrolled": true
   },
   "outputs": [
    {
     "name": "stdout",
     "output_type": "stream",
     "text": [
      "Fitting 3 folds for each of 1 candidates, totalling 3 fits\n"
     ]
    },
    {
     "data": {
      "text/html": [
       "<style>#sk-container-id-3 {color: black;background-color: white;}#sk-container-id-3 pre{padding: 0;}#sk-container-id-3 div.sk-toggleable {background-color: white;}#sk-container-id-3 label.sk-toggleable__label {cursor: pointer;display: block;width: 100%;margin-bottom: 0;padding: 0.3em;box-sizing: border-box;text-align: center;}#sk-container-id-3 label.sk-toggleable__label-arrow:before {content: \"▸\";float: left;margin-right: 0.25em;color: #696969;}#sk-container-id-3 label.sk-toggleable__label-arrow:hover:before {color: black;}#sk-container-id-3 div.sk-estimator:hover label.sk-toggleable__label-arrow:before {color: black;}#sk-container-id-3 div.sk-toggleable__content {max-height: 0;max-width: 0;overflow: hidden;text-align: left;background-color: #f0f8ff;}#sk-container-id-3 div.sk-toggleable__content pre {margin: 0.2em;color: black;border-radius: 0.25em;background-color: #f0f8ff;}#sk-container-id-3 input.sk-toggleable__control:checked~div.sk-toggleable__content {max-height: 200px;max-width: 100%;overflow: auto;}#sk-container-id-3 input.sk-toggleable__control:checked~label.sk-toggleable__label-arrow:before {content: \"▾\";}#sk-container-id-3 div.sk-estimator input.sk-toggleable__control:checked~label.sk-toggleable__label {background-color: #d4ebff;}#sk-container-id-3 div.sk-label input.sk-toggleable__control:checked~label.sk-toggleable__label {background-color: #d4ebff;}#sk-container-id-3 input.sk-hidden--visually {border: 0;clip: rect(1px 1px 1px 1px);clip: rect(1px, 1px, 1px, 1px);height: 1px;margin: -1px;overflow: hidden;padding: 0;position: absolute;width: 1px;}#sk-container-id-3 div.sk-estimator {font-family: monospace;background-color: #f0f8ff;border: 1px dotted black;border-radius: 0.25em;box-sizing: border-box;margin-bottom: 0.5em;}#sk-container-id-3 div.sk-estimator:hover {background-color: #d4ebff;}#sk-container-id-3 div.sk-parallel-item::after {content: \"\";width: 100%;border-bottom: 1px solid gray;flex-grow: 1;}#sk-container-id-3 div.sk-label:hover label.sk-toggleable__label {background-color: #d4ebff;}#sk-container-id-3 div.sk-serial::before {content: \"\";position: absolute;border-left: 1px solid gray;box-sizing: border-box;top: 0;bottom: 0;left: 50%;z-index: 0;}#sk-container-id-3 div.sk-serial {display: flex;flex-direction: column;align-items: center;background-color: white;padding-right: 0.2em;padding-left: 0.2em;position: relative;}#sk-container-id-3 div.sk-item {position: relative;z-index: 1;}#sk-container-id-3 div.sk-parallel {display: flex;align-items: stretch;justify-content: center;background-color: white;position: relative;}#sk-container-id-3 div.sk-item::before, #sk-container-id-3 div.sk-parallel-item::before {content: \"\";position: absolute;border-left: 1px solid gray;box-sizing: border-box;top: 0;bottom: 0;left: 50%;z-index: -1;}#sk-container-id-3 div.sk-parallel-item {display: flex;flex-direction: column;z-index: 1;position: relative;background-color: white;}#sk-container-id-3 div.sk-parallel-item:first-child::after {align-self: flex-end;width: 50%;}#sk-container-id-3 div.sk-parallel-item:last-child::after {align-self: flex-start;width: 50%;}#sk-container-id-3 div.sk-parallel-item:only-child::after {width: 0;}#sk-container-id-3 div.sk-dashed-wrapped {border: 1px dashed gray;margin: 0 0.4em 0.5em 0.4em;box-sizing: border-box;padding-bottom: 0.4em;background-color: white;}#sk-container-id-3 div.sk-label label {font-family: monospace;font-weight: bold;display: inline-block;line-height: 1.2em;}#sk-container-id-3 div.sk-label-container {text-align: center;}#sk-container-id-3 div.sk-container {/* jupyter's `normalize.less` sets `[hidden] { display: none; }` but bootstrap.min.css set `[hidden] { display: none !important; }` so we also need the `!important` here to be able to override the default hidden behavior on the sphinx rendered scikit-learn.org. See: https://github.com/scikit-learn/scikit-learn/issues/21755 */display: inline-block !important;position: relative;}#sk-container-id-3 div.sk-text-repr-fallback {display: none;}</style><div id=\"sk-container-id-3\" class=\"sk-top-container\"><div class=\"sk-text-repr-fallback\"><pre>GridSearchCV(cv=3, estimator=RandomForestClassifier(), n_jobs=-1,\n",
       "             param_grid={&#x27;bootstrap&#x27;: [True], &#x27;max_depth&#x27;: [80],\n",
       "                         &#x27;max_features&#x27;: [2], &#x27;min_samples_leaf&#x27;: [3],\n",
       "                         &#x27;min_samples_split&#x27;: [8], &#x27;n_estimators&#x27;: [100]},\n",
       "             verbose=2)</pre><b>In a Jupyter environment, please rerun this cell to show the HTML representation or trust the notebook. <br />On GitHub, the HTML representation is unable to render, please try loading this page with nbviewer.org.</b></div><div class=\"sk-container\" hidden><div class=\"sk-item sk-dashed-wrapped\"><div class=\"sk-label-container\"><div class=\"sk-label sk-toggleable\"><input class=\"sk-toggleable__control sk-hidden--visually\" id=\"sk-estimator-id-7\" type=\"checkbox\" ><label for=\"sk-estimator-id-7\" class=\"sk-toggleable__label sk-toggleable__label-arrow\">GridSearchCV</label><div class=\"sk-toggleable__content\"><pre>GridSearchCV(cv=3, estimator=RandomForestClassifier(), n_jobs=-1,\n",
       "             param_grid={&#x27;bootstrap&#x27;: [True], &#x27;max_depth&#x27;: [80],\n",
       "                         &#x27;max_features&#x27;: [2], &#x27;min_samples_leaf&#x27;: [3],\n",
       "                         &#x27;min_samples_split&#x27;: [8], &#x27;n_estimators&#x27;: [100]},\n",
       "             verbose=2)</pre></div></div></div><div class=\"sk-parallel\"><div class=\"sk-parallel-item\"><div class=\"sk-item\"><div class=\"sk-label-container\"><div class=\"sk-label sk-toggleable\"><input class=\"sk-toggleable__control sk-hidden--visually\" id=\"sk-estimator-id-8\" type=\"checkbox\" ><label for=\"sk-estimator-id-8\" class=\"sk-toggleable__label sk-toggleable__label-arrow\">estimator: RandomForestClassifier</label><div class=\"sk-toggleable__content\"><pre>RandomForestClassifier()</pre></div></div></div><div class=\"sk-serial\"><div class=\"sk-item\"><div class=\"sk-estimator sk-toggleable\"><input class=\"sk-toggleable__control sk-hidden--visually\" id=\"sk-estimator-id-9\" type=\"checkbox\" ><label for=\"sk-estimator-id-9\" class=\"sk-toggleable__label sk-toggleable__label-arrow\">RandomForestClassifier</label><div class=\"sk-toggleable__content\"><pre>RandomForestClassifier()</pre></div></div></div></div></div></div></div></div></div></div>"
      ],
      "text/plain": [
       "GridSearchCV(cv=3, estimator=RandomForestClassifier(), n_jobs=-1,\n",
       "             param_grid={'bootstrap': [True], 'max_depth': [80],\n",
       "                         'max_features': [2], 'min_samples_leaf': [3],\n",
       "                         'min_samples_split': [8], 'n_estimators': [100]},\n",
       "             verbose=2)"
      ]
     },
     "execution_count": 70,
     "metadata": {
     },
     "output_type": "execute_result"
    }
   ],
   "source": [
    "param_grid = {\n",
    "    'bootstrap': [True],\n",
    "    'max_depth': [80],\n",
    "    'max_features': [2],\n",
    "    'min_samples_leaf': [3],\n",
    "    'min_samples_split': [8],\n",
    "    'n_estimators': [100]\n",
    "}\n",
    "rf = RandomForestClassifier()\n",
    "\n",
    "grid_search = GridSearchCV(estimator = rf, param_grid = param_grid, cv = 3, n_jobs = -1, verbose = 2)\n",
    "grid_search.fit(x_train, y_train)"
   ]
  },
  {
   "cell_type": "code",
   "execution_count": 71,
   "metadata": {
    "collapsed": false
   },
   "outputs": [
    {
     "name": "stdout",
     "output_type": "stream",
     "text": [
      "[0 0 0 0 0 0 0 0 0 0 0 0 0 0 0 0 0 0 0 0 0 0 0 0 0 0 0 0 0 0 0 0 0 0 0 0 0\n",
      " 0 0 0 0 0 0 0 0 0 0 0 0 0 0 0 0 0 0 0 0 0 0 0 0 0 0 0 0 0 0 0 0 0 0 0 0 0\n",
      " 0 0 0 0 0 0 0 0 0 0 0 0 0 0 0 0 0 0 0 0]\n",
      "[0 0 0 1 1 1 0 0 0 0 0 0 0 0 0 0 0 0 1 1 0 1 0 0 1 0 0 0 0 0 0 1 0 0 0 0 1\n",
      " 0 0 0 1 0 0 0 0 0 0 0 0 0 1 1 1 0 0 0 1 0 0 0 0 0 0 0 0 0 0 0 0 0 0 0 0 1\n",
      " 0 1 0 0 0 0 0 1 0 0 0 0 0 1 0 0 1 1 0 1]\n",
      "0.22340425531914893\n",
      "              precision    recall  f1-score   support\n",
      "\n",
      "           0       0.78      1.00      0.87        73\n",
      "           1       0.00      0.00      0.00        21\n",
      "\n",
      "    accuracy                           0.78        94\n",
      "   macro avg       0.39      0.50      0.44        94\n",
      "weighted avg       0.60      0.78      0.68        94\n",
      "\n"
     ]
    },
    {
     "name": "stderr",
     "output_type": "stream",
     "text": [
      "/projects/803caf18-2f52-4012-a187-684798bd4465/miniconda3/envs/ds_env/lib/python3.8/site-packages/sklearn/metrics/_classification.py:1327: UndefinedMetricWarning: Precision and F-score are ill-defined and being set to 0.0 in labels with no predicted samples. Use `zero_division` parameter to control this behavior.\n",
      "  _warn_prf(average, modifier, msg_start, len(result))\n",
      "/projects/803caf18-2f52-4012-a187-684798bd4465/miniconda3/envs/ds_env/lib/python3.8/site-packages/sklearn/metrics/_classification.py:1327: UndefinedMetricWarning: Precision and F-score are ill-defined and being set to 0.0 in labels with no predicted samples. Use `zero_division` parameter to control this behavior.\n",
      "  _warn_prf(average, modifier, msg_start, len(result))\n",
      "/projects/803caf18-2f52-4012-a187-684798bd4465/miniconda3/envs/ds_env/lib/python3.8/site-packages/sklearn/metrics/_classification.py:1327: UndefinedMetricWarning: Precision and F-score are ill-defined and being set to 0.0 in labels with no predicted samples. Use `zero_division` parameter to control this behavior.\n",
      "  _warn_prf(average, modifier, msg_start, len(result))\n"
     ]
    },
    {
     "data": {
      "text/plain": [
       "<AxesSubplot:>"
      ]
     },
     "execution_count": 71,
     "metadata": {
     },
     "output_type": "execute_result"
    },
    {
     "data": {
      "image/png": "[encoded data removed]",
      "text/plain": [
       "<Figure size 432x288 with 2 Axes>"
      ]
     },
     "execution_count": 71,
     "metadata": {
      "needs_background": "light"
     },
     "output_type": "execute_result"
    }
   ],
   "source": [
    "target = suicide_risk_test2[\"attempt_suicide\"]\n",
    "input_columns = suicide_risk_test2.loc[:, suicide_risk_test2.columns != \"attempt_suicide\"]\n",
    "x_train, x_test, y_train, y_test = train_test_split(input_columns, target, test_size=0.2)\n",
    "\n",
    "X = x_train\n",
    "y = y_train\n",
    "\n",
    "rand_model = RandomForestClassifier(bootstrap=True, max_depth=80, max_features=2, min_samples_leaf=3, min_samples_split=8, n_estimators=100)\n",
    "rand_model = rand_model.fit(x_train, y_train)\n",
    "\n",
    "y_pred = rand_model.predict(x_test)\n",
    "print(y_pred)\n",
    "print(np.array(y_test))\n",
    "\n",
    "total_squared_error = (np.sum((y_test - y_pred)**2))\n",
    "mean_squared_error = total_squared_error/len(y_test)\n",
    "print(mean_squared_error)\n",
    "\n",
    "print(classification_report(y_test, y_pred))\n",
    "\n",
    "sns.heatmap(confusion_matrix(y_test, y_pred), annot=True, fmt='g')"
   ]
  },
  {
   "cell_type": "code",
   "execution_count": 0,
   "metadata": {
    "collapsed": false
   },
   "outputs": [
   ],
   "source": [
   ]
  },
  {
   "cell_type": "code",
   "execution_count": 0,
   "metadata": {
    "collapsed": false
   },
   "outputs": [
   ],
   "source": [
   ]
  },
  {
   "cell_type": "code",
   "execution_count": 72,
   "metadata": {
    "collapsed": false
   },
   "outputs": [
    {
     "data": {
      "text/html": [
       "<div>\n",
       "<style scoped>\n",
       "    .dataframe tbody tr th:only-of-type {\n",
       "        vertical-align: middle;\n",
       "    }\n",
       "\n",
       "    .dataframe tbody tr th {\n",
       "        vertical-align: top;\n",
       "    }\n",
       "\n",
       "    .dataframe thead th {\n",
       "        text-align: right;\n",
       "    }\n",
       "</style>\n",
       "<table border=\"1\" class=\"dataframe\">\n",
       "  <thead>\n",
       "    <tr style=\"text-align: right;\">\n",
       "      <th></th>\n",
       "      <th>gender</th>\n",
       "      <th>sexuallity</th>\n",
       "      <th>age</th>\n",
       "      <th>income</th>\n",
       "      <th>race</th>\n",
       "      <th>bodyweight</th>\n",
       "      <th>virgin</th>\n",
       "      <th>prostitution_legal</th>\n",
       "      <th>pay_for_sex</th>\n",
       "      <th>friends</th>\n",
       "      <th>social_fear</th>\n",
       "      <th>depressed</th>\n",
       "      <th>what_help_from_others</th>\n",
       "      <th>attempt_suicide</th>\n",
       "      <th>employment</th>\n",
       "      <th>job_title</th>\n",
       "      <th>edu_level</th>\n",
       "      <th>improve_yourself_how</th>\n",
       "    </tr>\n",
       "  </thead>\n",
       "  <tbody>\n",
       "    <tr>\n",
       "      <th>0</th>\n",
       "      <td>1</td>\n",
       "      <td>1</td>\n",
       "      <td>35</td>\n",
       "      <td>9</td>\n",
       "      <td>3</td>\n",
       "      <td>0</td>\n",
       "      <td>1</td>\n",
       "      <td>0</td>\n",
       "      <td>0</td>\n",
       "      <td>0.0</td>\n",
       "      <td>1</td>\n",
       "      <td>1</td>\n",
       "      <td>1</td>\n",
       "      <td>1</td>\n",
       "      <td>0</td>\n",
       "      <td>242</td>\n",
       "      <td>0</td>\n",
       "      <td>1</td>\n",
       "    </tr>\n",
       "    <tr>\n",
       "      <th>1</th>\n",
       "      <td>1</td>\n",
       "      <td>0</td>\n",
       "      <td>21</td>\n",
       "      <td>1</td>\n",
       "      <td>3</td>\n",
       "      <td>3</td>\n",
       "      <td>1</td>\n",
       "      <td>0</td>\n",
       "      <td>0</td>\n",
       "      <td>0.0</td>\n",
       "      <td>1</td>\n",
       "      <td>1</td>\n",
       "      <td>1</td>\n",
       "      <td>0</td>\n",
       "      <td>2</td>\n",
       "      <td>4</td>\n",
       "      <td>6</td>\n",
       "      <td>2</td>\n",
       "    </tr>\n",
       "    <tr>\n",
       "      <th>2</th>\n",
       "      <td>1</td>\n",
       "      <td>1</td>\n",
       "      <td>22</td>\n",
       "      <td>0</td>\n",
       "      <td>3</td>\n",
       "      <td>2</td>\n",
       "      <td>1</td>\n",
       "      <td>0</td>\n",
       "      <td>0</td>\n",
       "      <td>10.0</td>\n",
       "      <td>1</td>\n",
       "      <td>1</td>\n",
       "      <td>0</td>\n",
       "      <td>0</td>\n",
       "      <td>2</td>\n",
       "      <td>271</td>\n",
       "      <td>6</td>\n",
       "      <td>2</td>\n",
       "    </tr>\n",
       "    <tr>\n",
       "      <th>3</th>\n",
       "      <td>1</td>\n",
       "      <td>1</td>\n",
       "      <td>19</td>\n",
       "      <td>1</td>\n",
       "      <td>3</td>\n",
       "      <td>2</td>\n",
       "      <td>1</td>\n",
       "      <td>1</td>\n",
       "      <td>0</td>\n",
       "      <td>8.0</td>\n",
       "      <td>1</td>\n",
       "      <td>1</td>\n",
       "      <td>1</td>\n",
       "      <td>0</td>\n",
       "      <td>1</td>\n",
       "      <td>262</td>\n",
       "      <td>6</td>\n",
       "      <td>0</td>\n",
       "    </tr>\n",
       "    <tr>\n",
       "      <th>4</th>\n",
       "      <td>1</td>\n",
       "      <td>1</td>\n",
       "      <td>23</td>\n",
       "      <td>9</td>\n",
       "      <td>3</td>\n",
       "      <td>2</td>\n",
       "      <td>0</td>\n",
       "      <td>0</td>\n",
       "      <td>1</td>\n",
       "      <td>10.0</td>\n",
       "      <td>0</td>\n",
       "      <td>1</td>\n",
       "      <td>0</td>\n",
       "      <td>0</td>\n",
       "      <td>0</td>\n",
       "      <td>61</td>\n",
       "      <td>3</td>\n",
       "      <td>1</td>\n",
       "    </tr>\n",
       "    <tr>\n",
       "      <th>...</th>\n",
       "      <td>...</td>\n",
       "      <td>...</td>\n",
       "      <td>...</td>\n",
       "      <td>...</td>\n",
       "      <td>...</td>\n",
       "      <td>...</td>\n",
       "      <td>...</td>\n",
       "      <td>...</td>\n",
       "      <td>...</td>\n",
       "      <td>...</td>\n",
       "      <td>...</td>\n",
       "      <td>...</td>\n",
       "      <td>...</td>\n",
       "      <td>...</td>\n",
       "      <td>...</td>\n",
       "      <td>...</td>\n",
       "      <td>...</td>\n",
       "      <td>...</td>\n",
       "    </tr>\n",
       "    <tr>\n",
       "      <th>464</th>\n",
       "      <td>0</td>\n",
       "      <td>1</td>\n",
       "      <td>26</td>\n",
       "      <td>2</td>\n",
       "      <td>3</td>\n",
       "      <td>2</td>\n",
       "      <td>1</td>\n",
       "      <td>0</td>\n",
       "      <td>2</td>\n",
       "      <td>10.0</td>\n",
       "      <td>1</td>\n",
       "      <td>0</td>\n",
       "      <td>1</td>\n",
       "      <td>0</td>\n",
       "      <td>0</td>\n",
       "      <td>42</td>\n",
       "      <td>4</td>\n",
       "      <td>0</td>\n",
       "    </tr>\n",
       "    <tr>\n",
       "      <th>465</th>\n",
       "      <td>1</td>\n",
       "      <td>1</td>\n",
       "      <td>31</td>\n",
       "      <td>9</td>\n",
       "      <td>3</td>\n",
       "      <td>0</td>\n",
       "      <td>0</td>\n",
       "      <td>0</td>\n",
       "      <td>2</td>\n",
       "      <td>10.0</td>\n",
       "      <td>0</td>\n",
       "      <td>0</td>\n",
       "      <td>0</td>\n",
       "      <td>0</td>\n",
       "      <td>0</td>\n",
       "      <td>218</td>\n",
       "      <td>3</td>\n",
       "      <td>2</td>\n",
       "    </tr>\n",
       "    <tr>\n",
       "      <th>466</th>\n",
       "      <td>0</td>\n",
       "      <td>1</td>\n",
       "      <td>17</td>\n",
       "      <td>1</td>\n",
       "      <td>0</td>\n",
       "      <td>0</td>\n",
       "      <td>1</td>\n",
       "      <td>0</td>\n",
       "      <td>0</td>\n",
       "      <td>20.0</td>\n",
       "      <td>1</td>\n",
       "      <td>1</td>\n",
       "      <td>1</td>\n",
       "      <td>1</td>\n",
       "      <td>0</td>\n",
       "      <td>254</td>\n",
       "      <td>7</td>\n",
       "      <td>0</td>\n",
       "    </tr>\n",
       "    <tr>\n",
       "      <th>467</th>\n",
       "      <td>1</td>\n",
       "      <td>1</td>\n",
       "      <td>18</td>\n",
       "      <td>0</td>\n",
       "      <td>0</td>\n",
       "      <td>1</td>\n",
       "      <td>1</td>\n",
       "      <td>0</td>\n",
       "      <td>0</td>\n",
       "      <td>16.0</td>\n",
       "      <td>1</td>\n",
       "      <td>1</td>\n",
       "      <td>1</td>\n",
       "      <td>0</td>\n",
       "      <td>2</td>\n",
       "      <td>171</td>\n",
       "      <td>3</td>\n",
       "      <td>3</td>\n",
       "    </tr>\n",
       "    <tr>\n",
       "      <th>468</th>\n",
       "      <td>1</td>\n",
       "      <td>1</td>\n",
       "      <td>28</td>\n",
       "      <td>10</td>\n",
       "      <td>3</td>\n",
       "      <td>0</td>\n",
       "      <td>1</td>\n",
       "      <td>0</td>\n",
       "      <td>2</td>\n",
       "      <td>3.0</td>\n",
       "      <td>1</td>\n",
       "      <td>1</td>\n",
       "      <td>1</td>\n",
       "      <td>0</td>\n",
       "      <td>0</td>\n",
       "      <td>155</td>\n",
       "      <td>4</td>\n",
       "      <td>3</td>\n",
       "    </tr>\n",
       "  </tbody>\n",
       "</table>\n",
       "<p>469 rows × 18 columns</p>\n",
       "</div>"
      ],
      "text/plain": [
       "     gender  sexuallity  age  income  race  bodyweight  virgin  \\\n",
       "0         1           1   35       9     3           0       1   \n",
       "1         1           0   21       1     3           3       1   \n",
       "2         1           1   22       0     3           2       1   \n",
       "3         1           1   19       1     3           2       1   \n",
       "4         1           1   23       9     3           2       0   \n",
       "..      ...         ...  ...     ...   ...         ...     ...   \n",
       "464       0           1   26       2     3           2       1   \n",
       "465       1           1   31       9     3           0       0   \n",
       "466       0           1   17       1     0           0       1   \n",
       "467       1           1   18       0     0           1       1   \n",
       "468       1           1   28      10     3           0       1   \n",
       "\n",
       "     prostitution_legal  pay_for_sex  friends  social_fear  depressed  \\\n",
       "0                     0            0      0.0            1          1   \n",
       "1                     0            0      0.0            1          1   \n",
       "2                     0            0     10.0            1          1   \n",
       "3                     1            0      8.0            1          1   \n",
       "4                     0            1     10.0            0          1   \n",
       "..                  ...          ...      ...          ...        ...   \n",
       "464                   0            2     10.0            1          0   \n",
       "465                   0            2     10.0            0          0   \n",
       "466                   0            0     20.0            1          1   \n",
       "467                   0            0     16.0            1          1   \n",
       "468                   0            2      3.0            1          1   \n",
       "\n",
       "     what_help_from_others  attempt_suicide  employment  job_title  edu_level  \\\n",
       "0                        1                1           0        242          0   \n",
       "1                        1                0           2          4          6   \n",
       "2                        0                0           2        271          6   \n",
       "3                        1                0           1        262          6   \n",
       "4                        0                0           0         61          3   \n",
       "..                     ...              ...         ...        ...        ...   \n",
       "464                      1                0           0         42          4   \n",
       "465                      0                0           0        218          3   \n",
       "466                      1                1           0        254          7   \n",
       "467                      1                0           2        171          3   \n",
       "468                      1                0           0        155          4   \n",
       "\n",
       "     improve_yourself_how  \n",
       "0                       1  \n",
       "1                       2  \n",
       "2                       2  \n",
       "3                       0  \n",
       "4                       1  \n",
       "..                    ...  \n",
       "464                     0  \n",
       "465                     2  \n",
       "466                     0  \n",
       "467                     3  \n",
       "468                     3  \n",
       "\n",
       "[469 rows x 18 columns]"
      ]
     },
     "execution_count": 72,
     "metadata": {
     },
     "output_type": "execute_result"
    }
   ],
   "source": [
    "suicide_risk_test2"
   ]
  },
  {
   "cell_type": "code",
   "execution_count": 0,
   "metadata": {
    "collapsed": false
   },
   "outputs": [
   ],
   "source": [
   ]
  },
  {
   "cell_type": "code",
   "execution_count": 0,
   "metadata": {
    "collapsed": false
   },
   "outputs": [
   ],
   "source": [
   ]
  }
 ],
 "metadata": {
  "kernelspec": {
   "display_name": "Python (ds_env)",
   "language": "python",
   "metadata": {
    "debugger": true
   },
   "name": "ds_env",
   "resource_dir": "/projects/803caf18-2f52-4012-a187-684798bd4465/.local/share/jupyter/kernels/ds_env"
  },
  "language_info": {
   "codemirror_mode": {
    "name": "ipython",
    "version": 3
   },
   "file_extension": ".py",
   "mimetype": "text/x-python",
   "name": "python",
   "nbconvert_exporter": "python",
   "pygments_lexer": "ipython3",
   "version": "3.8.13"
  }
 },
 "nbformat": 4,
 "nbformat_minor": 4
}