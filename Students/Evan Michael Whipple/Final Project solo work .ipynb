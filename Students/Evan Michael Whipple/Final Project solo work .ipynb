{
 "cells": [
  {
   "cell_type": "code",
   "execution_count": 18,
   "metadata": {
    "collapsed": false
   },
   "outputs": [
   ],
   "source": [
    "import pandas as pd\n",
    "import numpy as np\n",
    "import matplotlib.pyplot as plt\n",
    "import seaborn as sns\n",
    "import sklearn\n",
    "from sklearn.model_selection import train_test_split\n",
    "from sklearn import preprocessing\n",
    "from sklearn.ensemble import RandomForestClassifier\n",
    "from sklearn.preprocessing import LabelEncoder\n",
    "suicide_risk = pd.read_csv(\"foreveralone.csv\")"
   ]
  },
  {
   "cell_type": "code",
   "execution_count": 19,
   "metadata": {
    "collapsed": false
   },
   "outputs": [
   ],
   "source": [
    "suicide_risk_test = pd.read_csv(\"foreveralone.csv\")"
   ]
  },
  {
   "cell_type": "code",
   "execution_count": 20,
   "metadata": {
    "collapsed": false
   },
   "outputs": [
   ],
   "source": [
    "columns_to_drop = [\"time\", \"job_title\", \"edu_level\"]\n",
    "suicide_risk_test.drop(columns_to_drop, axis=1, inplace=True)"
   ]
  },
  {
   "cell_type": "code",
   "execution_count": 21,
   "metadata": {
    "collapsed": false
   },
   "outputs": [
    {
     "data": {
      "text/plain": [
       "Index(['gender', 'sexuallity', 'age', 'income', 'race', 'bodyweight', 'virgin',\n",
       "       'prostitution_legal', 'pay_for_sex', 'friends', 'social_fear',\n",
       "       'depressed', 'what_help_from_others', 'attempt_suicide', 'employment',\n",
       "       'improve_yourself_how'],\n",
       "      dtype='object')"
      ]
     },
     "execution_count": 21,
     "metadata": {
     },
     "output_type": "execute_result"
    }
   ],
   "source": [
    "suicide_risk_test.columns"
   ]
  },
  {
   "cell_type": "code",
   "execution_count": 22,
   "metadata": {
    "collapsed": false
   },
   "outputs": [
    {
     "data": {
      "text/plain": [
       "Therapy                                                                                                                                                                                21\n",
       "Joined a gym/go to the gym, Therapy                                                                                                                                                    20\n",
       "Joined a gym/go to the gym, Therapy, Other exercise, join clubs/socual clubs/meet ups                                                                                                  20\n",
       "Therapy, Other exercise                                                                                                                                                                16\n",
       "Joined a gym/go to the gym, Therapy, join clubs/socual clubs/meet ups                                                                                                                  10\n",
       "Therapy, Other exercise, join clubs/socual clubs/meet ups                                                                                                                              10\n",
       "Therapy, join clubs/socual clubs/meet ups                                                                                                                                               7\n",
       "Cosmetic survey, Joined a gym/go to the gym, Therapy, Other exercise, join clubs/socual clubs/meet ups                                                                                  3\n",
       "Cosmetic survey, Joined a gym/go to the gym, Therapy, Other exercise                                                                                                                    3\n",
       "Joined a gym/go to the gym, Therapy, Other exercise                                                                                                                                     3\n",
       "Cosmetic survey, Joined a gym/go to the gym, Therapy                                                                                                                                    2\n",
       "Cosmetic survey, Joined a gym/go to the gym, Therapy, join clubs/socual clubs/meet ups                                                                                                  2\n",
       "Cosmetic survey, Joined a gym/go to the gym, Therapy, Other exercise, join clubs/socual clubs/meet ups, Fashion makeup personality etc                                                  1\n",
       "Therapy, Other exercise, None                                                                                                                                                           1\n",
       "Cosmetic survey, Therapy, join clubs/socual clubs/meet ups                                                                                                                              1\n",
       "Cosmetic survey, Therapy                                                                                                                                                                1\n",
       "Joined a gym/go to the gym, Therapy, Self analysis                                                                                                                                      1\n",
       "Therapy, join clubs/socual clubs/meet ups, None, Volunteering, social activism, traveling                                                                                               1\n",
       "Therapy, Other exercise, diets, change of wardrobe, medication, diet pills                                                                                                              1\n",
       "Therapy, join clubs/socual clubs/meet ups, medication                                                                                                                                   1\n",
       "Joined a gym/go to the gym, Therapy, Joined a German language learning course.                                                                                                          1\n",
       "Therapy, Other exercise, Develop hobbies                                                                                                                                                1\n",
       "Joined a gym/go to the gym, Therapy, Clubbing, living in a student house (at dorms)                                                                                                     1\n",
       "Cosmetic survey, Therapy, Other exercise, forced myself to free events or events w/acquintances advertised in fb; been part of a blog for five years and met some members in person     1\n",
       "Cosmetic surgery, Joined a gym/go to the gym, Therapy, Other exercise, join clubs/socual clubs/meet ups, None                                                                           1\n",
       "Name: improve_yourself_how, dtype: int64"
      ]
     },
     "execution_count": 22,
     "metadata": {
     },
     "output_type": "execute_result"
    }
   ],
   "source": [
    "race_freq = (suicide_risk_test['race'].value_counts())/suicide_risk_test.shape[0]\n",
    "less_freq_race = race_freq[race_freq<=0.04]\n",
    "suicide_risk_test.loc[suicide_risk_test['race'].isin(less_freq_race.index.tolist()), \"race\"] = \"other\"\n",
    "suicide_risk_test[\"race\"].value_counts()\n",
    "\n",
    "paysex_freq = (suicide_risk_test['pay_for_sex'].value_counts())/suicide_risk_test.shape[0]\n",
    "less_freq_paysex = paysex_freq[paysex_freq<=0.3]\n",
    "suicide_risk_test.loc[suicide_risk_test['pay_for_sex'].isin(less_freq_paysex.index.tolist()), \"pay_for_sex\"] = \"Yes\"\n",
    "suicide_risk_test[\"pay_for_sex\"].value_counts()\n",
    "\n",
    "sxlty_freq = (suicide_risk_test['sexuallity'].value_counts())/suicide_risk_test.shape[0]\n",
    "less_freq_sxlty = sxlty_freq[sxlty_freq<=0.1]\n",
    "suicide_risk_test.loc[suicide_risk_test['sexuallity'].isin(less_freq_sxlty.index.tolist()), \"sexuallity\"] = \"Bi/Gay/Lesbian\"\n",
    "suicide_risk_test[\"sexuallity\"].value_counts()\n",
    "\n",
    "help_freq = (suicide_risk_test['what_help_from_others'].value_counts())/suicide_risk_test.shape[0]\n",
    "less_freq_help = help_freq[help_freq<=0.15]\n",
    "suicide_risk_test.loc[suicide_risk_test['what_help_from_others'].isin(less_freq_help.index.tolist()), \"what_help_from_others\"] = \"Some form of help\"\n",
    "suicide_risk_test[\"what_help_from_others\"].value_counts()\n",
    "\n",
    "suicide_risk_test = suicide_risk_test.replace({'employment':  {'A homemaker': \"Employed\", 'Retired': \"Unemployed\", 'Military': \"Employed\", 'Unable to work': \"Unemployed\", 'Self-employed': \"Employed\", 'Out of work and looking for work': \"Unemployed\", 'Out of work but not currently looking for work': \"Unemployed\", 'Employed for wages': \"Employed\", 'A student': \"Student\"}})\n",
    "\n",
    "\n",
    "suicide_risk[suicide_risk.improve_yourself_how.str.contains(\"Therapy\")][\"improve_yourself_how\"].value_counts()"
   ]
  },
  {
   "cell_type": "code",
   "execution_count": 24,
   "metadata": {
    "collapsed": false
   },
   "outputs": [
   ],
   "source": [
    "#le.fit_transform(suicide_risk_test[\"\"])\n",
    "le = preprocessing.LabelEncoder()\n",
    "updated_race = le.fit_transform(suicide_risk_test['race'])\n",
    "updated_gender = le.fit_transform(suicide_risk_test[\"gender\"])\n",
    "updated_sexuallity = le.fit_transform(suicide_risk_test[\"sexuallity\"])\n",
    "updated_bodyweight = le.fit_transform(suicide_risk_test[\"bodyweight\"])\n",
    "updated_virgin = le.fit_transform(suicide_risk_test[\"virgin\"])\n",
    "updated_prostitution_legal = le.fit_transform(suicide_risk_test[\"prostitution_legal\"])\n",
    "updated_pay_for_sex = le.fit_transform(suicide_risk_test[\"pay_for_sex\"])\n",
    "updated_social_fear = le.fit_transform(suicide_risk_test[\"social_fear\"])\n",
    "updated_depressed = le.fit_transform(suicide_risk_test[\"depressed\"])\n",
    "updated_what_help_from_others = le.fit_transform(suicide_risk_test[\"what_help_from_others\"])\n",
    "updated_employment = le.fit_transform(suicide_risk_test[\"employment\"])"
   ]
  },
  {
   "cell_type": "code",
   "execution_count": 0,
   "metadata": {
    "collapsed": false
   },
   "outputs": [
   ],
   "source": [
   ]
  },
  {
   "cell_type": "code",
   "execution_count": 0,
   "metadata": {
    "collapsed": false,
    "scrolled": true
   },
   "outputs": [
   ],
   "source": [
    "suicide_risk_test[\"improve_yourself_how\"].value_counts()\n",
    "help_cat = (suicide_risk_test['improve_yourself_how'].value_counts())/suicide_risk_test.shape[0]\n",
    "print(help_cat)\n",
    "#suicide_risk_test[\"employment\"].value_counts()"
   ]
  },
  {
   "cell_type": "code",
   "execution_count": 0,
   "metadata": {
    "collapsed": false
   },
   "outputs": [
   ],
   "source": [
    "print(updated_employment)\n",
    "#print(updated_gender)"
   ]
  }
 ],
 "metadata": {
  "kernelspec": {
   "display_name": "Python (ds_env)",
   "language": "python",
   "metadata": {
    "debugger": true
   },
   "name": "ds_env",
   "resource_dir": "/projects/803caf18-2f52-4012-a187-684798bd4465/.local/share/jupyter/kernels/ds_env"
  },
  "language_info": {
   "codemirror_mode": {
    "name": "ipython",
    "version": 3
   },
   "file_extension": ".py",
   "mimetype": "text/x-python",
   "name": "python",
   "nbconvert_exporter": "python",
   "pygments_lexer": "ipython3",
   "version": "3.8.13"
  }
 },
 "nbformat": 4,
 "nbformat_minor": 4
}