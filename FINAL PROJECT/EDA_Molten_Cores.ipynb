{
 "cells": [
  {
   "cell_type": "markdown",
   "metadata": {
    "collapsed": false
   },
   "source": [
    "# Molten-Cores\n",
    "\n",
    "#### Team Members: Arrisa, Evan, Maulika, Rafail, Sophia\n",
    "\n",
    "![img_happy](https://www.georgetownbehavioral.com/sites/default/files/georgetown-suicide-awareness.jpg)\n",
    "\n"
   ]
  },
  {
   "cell_type": "markdown",
   "metadata": {
    "collapsed": false
   },
   "source": [
    "## EDA: \n",
    "\n",
    "## Cleanup\n",
    "\n"
   ]
  },
  {
   "cell_type": "code",
   "execution_count": 3,
   "metadata": {
    "collapsed": false,
    "scrolled": true
   },
   "outputs": [
   ],
   "source": [
    "import pandas as pd\n",
    "import plotly.figure_factory as ff\n",
    "import plotly.express as px\n",
    "import matplotlib.pyplot as plt\n",
    "import numpy as np\n",
    "from sklearn.preprocessing import LabelEncoder\n",
    "suicide_risk = pd.read_csv(\"foreveralone.csv\")"
   ]
  },
  {
   "cell_type": "code",
   "execution_count": 25,
   "metadata": {
    "collapsed": false
   },
   "outputs": [
    {
     "data": {
      "text/plain": [
       "(469, 19)"
      ]
     },
     "execution_count": 25,
     "metadata": {
     },
     "output_type": "execute_result"
    }
   ],
   "source": [
    "suicide_risk.shape"
   ]
  },
  {
   "cell_type": "code",
   "execution_count": 21,
   "metadata": {
    "collapsed": false
   },
   "outputs": [
    {
     "data": {
      "text/plain": [
       "['time',\n",
       " 'gender',\n",
       " 'sexuallity',\n",
       " 'age',\n",
       " 'income',\n",
       " 'race',\n",
       " 'bodyweight',\n",
       " 'virgin',\n",
       " 'prostitution_legal',\n",
       " 'pay_for_sex',\n",
       " 'friends',\n",
       " 'social_fear',\n",
       " 'depressed',\n",
       " 'what_help_from_others',\n",
       " 'attempt_suicide',\n",
       " 'employment',\n",
       " 'job_title',\n",
       " 'edu_level',\n",
       " 'improve_yourself_how']"
      ]
     },
     "execution_count": 21,
     "metadata": {
     },
     "output_type": "execute_result"
    }
   ],
   "source": [
    "list(suicide_risk.columns)"
   ]
  },
  {
   "cell_type": "code",
   "execution_count": 23,
   "metadata": {
    "collapsed": false,
    "scrolled": true
   },
   "outputs": [
    {
     "name": "stdout",
     "output_type": "stream",
     "text": [
      "5/18/2016 7:41:18     2\n",
      "5/17/2016 20:04:18    1\n",
      "5/18/2016 17:26:15    1\n",
      "5/18/2016 18:44:01    1\n",
      "5/18/2016 18:32:30    1\n",
      "                     ..\n",
      "5/18/2016 3:06:44     1\n",
      "5/18/2016 3:06:09     1\n",
      "5/18/2016 3:04:00     1\n",
      "5/18/2016 2:58:31     1\n",
      "9/4/2016 23:10:04     1\n",
      "Name: time, Length: 468, dtype: int64\n",
      "Male                  393\n",
      "Female                 73\n",
      "Transgender male        2\n",
      "Transgender female      1\n",
      "Name: gender, dtype: int64\n",
      "Straight       415\n",
      "Bisexual        46\n",
      "Gay/Lesbian      8\n",
      "Name: sexuallity, dtype: int64\n",
      "23    46\n",
      "21    41\n",
      "22    40\n",
      "20    39\n",
      "18    39\n",
      "24    37\n",
      "19    32\n",
      "25    30\n",
      "26    26\n",
      "28    21\n",
      "30    16\n",
      "27    15\n",
      "29    14\n",
      "17    13\n",
      "31    10\n",
      "33     6\n",
      "35     6\n",
      "32     5\n",
      "16     5\n",
      "15     4\n",
      "38     4\n",
      "34     3\n",
      "12     2\n",
      "36     2\n",
      "37     2\n",
      "39     2\n",
      "70     1\n",
      "45     1\n",
      "55     1\n",
      "57     1\n",
      "44     1\n",
      "41     1\n",
      "14     1\n",
      "48     1\n",
      "42     1\n",
      "Name: age, dtype: int64\n",
      "$0                      160\n",
      "$1 to $10,000           100\n",
      "$10,000 to $19,999       58\n",
      "$20,000 to $29,999       44\n",
      "$30,000 to $39,999       39\n",
      "$50,000 to $74,999       28\n",
      "$40,000 to $49,999       16\n",
      "$75,000 to $99,999        9\n",
      "$125,000 to $149,999      6\n",
      "$100,000 to $124,999      3\n",
      "$150,000 to $174,999      2\n",
      "$174,999 to $199,999      2\n",
      "$200,000 or more          2\n",
      "Name: income, dtype: int64\n",
      "White non-Hispanic                                                                 336\n",
      "Asian                                                                               54\n",
      "Hispanic (of any race)                                                              32\n",
      "Black                                                                               22\n",
      "Mixed                                                                                3\n",
      "Middle Eastern                                                                       2\n",
      "Indian                                                                               2\n",
      "half Arab                                                                            1\n",
      "Mixed race                                                                           1\n",
      "First two answers. Gender is androgyne, not male; sexuality is asexual, not bi.      1\n",
      "White and Native American                                                            1\n",
      "Half Asian half white                                                                1\n",
      "North African                                                                        1\n",
      "Native American mix                                                                  1\n",
      "Multi                                                                                1\n",
      "indian                                                                               1\n",
      "Mixed white/asian                                                                    1\n",
      "mixed                                                                                1\n",
      "white and asian                                                                      1\n",
      "Native american                                                                      1\n",
      "caucasian                                                                            1\n",
      "Turkish                                                                              1\n",
      "helicopterkin                                                                        1\n",
      "Pakistani                                                                            1\n",
      "European                                                                             1\n",
      "Name: race, dtype: int64\n",
      "Normal weight    269\n",
      "Overweight       113\n",
      "Underweight       62\n",
      "Obese             25\n",
      "Name: bodyweight, dtype: int64\n",
      "Yes    352\n",
      "No     117\n",
      "Name: virgin, dtype: int64\n",
      "No     361\n",
      "Yes    108\n",
      "Name: prostitution_legal, dtype: int64\n",
      "No                   318\n",
      "Yes but I haven't    129\n",
      "Yes and I have        22\n",
      "Name: pay_for_sex, dtype: int64\n",
      "0.0      109\n",
      "1.0       54\n",
      "5.0       45\n",
      "3.0       44\n",
      "2.0       42\n",
      "10.0      34\n",
      "4.0       27\n",
      "6.0       26\n",
      "20.0      16\n",
      "15.0      12\n",
      "7.0       10\n",
      "8.0       10\n",
      "12.0       8\n",
      "30.0       6\n",
      "13.0       3\n",
      "16.0       3\n",
      "40.0       3\n",
      "17.0       2\n",
      "9.0        2\n",
      "100.0      2\n",
      "25.0       2\n",
      "600.0      1\n",
      "11.0       1\n",
      "400.0      1\n",
      "0.2        1\n",
      "18.0       1\n",
      "60.0       1\n",
      "28.0       1\n",
      "80.0       1\n",
      "0.5        1\n",
      "Name: friends, dtype: int64\n",
      "Yes    308\n",
      "No     161\n",
      "Name: social_fear, dtype: int64\n",
      "Yes    312\n",
      "No     157\n",
      "Name: depressed, dtype: int64\n",
      "I don't want help                                                                                                                222\n",
      "wingman/wingwoman, Set me up with a date, date coaching                                                                           52\n",
      "Set me up with a date                                                                                                             51\n",
      "wingman/wingwoman, Set me up with a date                                                                                          36\n",
      "date coaching                                                                                                                     24\n",
      "wingman/wingwoman                                                                                                                 21\n",
      "Set me up with a date, date coaching                                                                                              11\n",
      "wingman/wingwoman, date coaching                                                                                                   6\n",
      "wingman/wingwoman, Set me up with a date, I don't want help                                                                        3\n",
      "Friendship                                                                                                                         2\n",
      "wingman/wingwoman, Set me up with a date, date coaching, Any help                                                                  1\n",
      "wingman/wingwoman, Set me up with a date, date coaching, I don't really know. Something magical that would make me happy.          1\n",
      "wingman/wingwoman, Set me up with a date, date coaching, Therapy, shoulder to cry on                                               1\n",
      "Just want mates that make it look like I fit in                                                                                    1\n",
      "date coaching, It would be nice but why would a woman choose me?  There are plenty better                                          1\n",
      "therapy                                                                                                                            1\n",
      "I don't want help, Like, to be seen & treated like a normal person                                                                 1\n",
      "i lost faith and hope                                                                                                              1\n",
      "Teach me how to talk to people                                                                                                     1\n",
      "I don't want help, kill me                                                                                                         1\n",
      "Emotional support                                                                                                                  1\n",
      "just more friends/greater social life in general tbh                                                                               1\n",
      "coping with being beyond help                                                                                                      1\n",
      "I don't want help, More general stuff                                                                                              1\n",
      "I don't know                                                                                                                       1\n",
      "I used to want all of those things. Now it is too late for any of them to make a difference.                                       1\n",
      "wingman/wingwoman, Set me up with a date, invite me to shit please                                                                 1\n",
      "I have no idea                                                                                                                     1\n",
      "Set me up with a date, I don't want help                                                                                           1\n",
      "Money for rehab or sober living home                                                                                               1\n",
      "not sure what would help                                                                                                           1\n",
      "Friends                                                                                                                            1\n",
      "I don't want any help. I can't even talk about it.                                                                                 1\n",
      "wingman/wingwoman, Set me up with a date, date coaching, someone to kill.me                                                        1\n",
      "wingman/wingwoman, someone to hang out with me where I can meet met (e.g. class, free event) and sell me up                        1\n",
      "wingman/wingwoman, Set me up with a date, date coaching, anything                                                                  1\n",
      "Set me up with a date, Friends                                                                                                     1\n",
      "wingman/wingwoman, Set me up with a date, I don't even know..                                                                      1\n",
      "Trust                                                                                                                              1\n",
      "date coaching, I don't want help                                                                                                   1\n",
      "I want help but I am not sure what kind. I always think it would be nice if a woman would approch me but thats not realistic.      1\n",
      "fitness coaching                                                                                                                   1\n",
      "wingman/wingwoman, Set me up with a date, Pity fuck                                                                                1\n",
      "Maybe to learn how to be happy                                                                                                     1\n",
      "Im on my own                                                                                                                       1\n",
      "help getting a better job                                                                                                          1\n",
      "I'm not fa lol                                                                                                                     1\n",
      "I don't want help, more one night stands                                                                                           1\n",
      "date coaching, social skills training                                                                                              1\n",
      "There is no way that they can help. They only give useless advice like \"just be more confident\".                                   1\n",
      "wingman/wingwoman, Set me up with a date, date coaching, I don't want help                                                         1\n",
      "Name: what_help_from_others, dtype: int64\n",
      "No     384\n",
      "Yes     85\n",
      "Name: attempt_suicide, dtype: int64\n",
      "A student                                         174\n",
      "Employed for wages                                171\n",
      "Out of work but not currently looking for work     40\n",
      "Out of work and looking for work                   38\n",
      "Self-employed                                      22\n",
      "Unable to work                                     13\n",
      "Military                                            5\n",
      "Retired                                             3\n",
      "A homemaker                                         3\n",
      "Name: employment, dtype: int64\n",
      "Student                         50\n",
      "student                         25\n",
      "none                            17\n",
      "None                            12\n",
      "Unemployed                      11\n",
      "                                ..\n",
      "Zivildiener (austrian stuff)     1\n",
      "ggg                              1\n",
      "RN                               1\n",
      "Freelance writer                 1\n",
      "Scientist                        1\n",
      "Name: job_title, Length: 275, dtype: int64\n",
      "Some college, no degree                                               137\n",
      "Bachelor’s degree                                                     120\n",
      "High school graduate, diploma or the equivalent (for example: GED)     93\n",
      "Some high school, no diploma                                           50\n",
      "Master’s degree                                                        28\n",
      "Associate degree                                                       18\n",
      "Trade/technical/vocational training                                    12\n",
      "Professional degree                                                     6\n",
      "Doctorate degree                                                        5\n",
      "Name: edu_level, dtype: int64\n",
      "None                                                                                                             106\n",
      "Other exercise                                                                                                    51\n",
      "Joined a gym/go to the gym                                                                                        47\n",
      "Joined a gym/go to the gym, Other exercise                                                                        24\n",
      "Joined a gym/go to the gym, Other exercise, join clubs/socual clubs/meet ups                                      24\n",
      "                                                                                                                ... \n",
      "Therapy, join clubs/socual clubs/meet ups, medication                                                              1\n",
      "Trying to accept my fate.                                                                                          1\n",
      "Therapy, Other exercise, diets, change of wardrobe, medication, diet pills                                         1\n",
      "Joined a gym/go to the gym, Therapy, Self analysis                                                                 1\n",
      "Cosmetic surgery, Joined a gym/go to the gym, Therapy, Other exercise, join clubs/socual clubs/meet ups, None      1\n",
      "Name: improve_yourself_how, Length: 62, dtype: int64\n"
     ]
    }
   ],
   "source": [
    "for item in list(suicide_risk.columns):\n",
    "    print(suicide_risk[item].value_counts())"
   ]
  },
  {
   "cell_type": "code",
   "execution_count": 75,
   "metadata": {
    "collapsed": false
   },
   "outputs": [
    {
     "data": {
      "text/plain": [
       "272    A homemaker\n",
       "286    A homemaker\n",
       "421    A homemaker\n",
       "Name: employment, dtype: object"
      ]
     },
     "execution_count": 75,
     "metadata": {
     },
     "output_type": "execute_result"
    }
   ],
   "source": [
    "suicide_risk[suicide_risk[\"employment\"].isin([\"A homemaker\"])][\"employment\"] = suicide_risk[suicide_risk[\"employment\"].isin([\"A homemaker\"])][\"employment\"]"
   ]
  },
  {
   "cell_type": "code",
   "execution_count": 0,
   "metadata": {
    "collapsed": false
   },
   "outputs": [
   ],
   "source": [
   ]
  },
  {
   "cell_type": "markdown",
   "metadata": {
    "collapsed": false
   },
   "source": [
    "### Rafael\n",
    "\n"
   ]
  },
  {
   "cell_type": "code",
   "execution_count": 7,
   "metadata": {
    "collapsed": false
   },
   "outputs": [
    {
     "data": {
      "text/plain": [
       "$0                      160\n",
       "$1 to $10,000           100\n",
       "$10,000 to $19,999       58\n",
       "$20,000 to $29,999       44\n",
       "$30,000 to $39,999       39\n",
       "$50,000 to $74,999       28\n",
       "$40,000 to $49,999       16\n",
       "$75,000 to $99,999        9\n",
       "$125,000 to $149,999      6\n",
       "$100,000 to $124,999      3\n",
       "$150,000 to $174,999      2\n",
       "$174,999 to $199,999      2\n",
       "$200,000 or more          2\n",
       "Name: income, dtype: int64"
      ]
     },
     "execution_count": 7,
     "metadata": {
     },
     "output_type": "execute_result"
    }
   ],
   "source": [
    "suicide_risk[\"income\"].value_counts()"
   ]
  },
  {
   "cell_type": "code",
   "execution_count": 8,
   "metadata": {
    "collapsed": false
   },
   "outputs": [
    {
     "ename": "NameError",
     "evalue": "name 'x' is not defined",
     "output_type": "error",
     "traceback": [
      "\u001b[0;31m---------------------------------------------------------------------------\u001b[0m",
      "\u001b[0;31mNameError\u001b[0m                                 Traceback (most recent call last)",
      "Input \u001b[0;32mIn [8]\u001b[0m, in \u001b[0;36m<cell line: 1>\u001b[0;34m()\u001b[0m\n\u001b[0;32m----> 1\u001b[0m [\u001b[43mx\u001b[49m]\n",
      "\u001b[0;31mNameError\u001b[0m: name 'x' is not defined"
     ]
    }
   ],
   "source": [
    "[x]"
   ]
  },
  {
   "cell_type": "code",
   "execution_count": 0,
   "metadata": {
    "collapsed": false
   },
   "outputs": [
   ],
   "source": [
    "# x = px.histogram(suicide_risk, x = 'age', y= 'income')\n",
    "\n",
    "hist_data = suicide_risk[[\"age\",\"income\"]]\n",
    "\n",
    "group_labels = ['age', 'income']\n",
    "\n",
    "fig_risk = ff.create_distplot(hist_data, group_labels, bin_size=[.1, .25])\n",
    "fig_risk.show()"
   ]
  },
  {
   "cell_type": "code",
   "execution_count": 0,
   "metadata": {
    "collapsed": false
   },
   "outputs": [
   ],
   "source": [
    "suicide_risk.head(10)"
   ]
  },
  {
   "cell_type": "code",
   "execution_count": 0,
   "metadata": {
    "collapsed": false
   },
   "outputs": [
   ],
   "source": [
    "fig = px.bar(suicide_risk , x = \"edu_level\", y = [\"$0\", \"$1 to $10,000\", \"$20,000 to $29,999\", \"$30,000 to $39,999\", \"$40,000 to $49,999\", \"$50,000 to $74,999\", \"$75,000 to $99,999\", \"$125,000 to $149,999\", \"$150,000 to $174,999\", \"$174,999 to $199,999\" ] , color = \"edu_level\")\n",
    "fig.show()"
   ]
  },
  {
   "cell_type": "code",
   "execution_count": 0,
   "metadata": {
    "collapsed": false
   },
   "outputs": [
   ],
   "source": [
    "#3D graph and color pallete\n",
    "\n",
    "px.scatter_3d(suicide_risk, x = 'age', y = 'depressed', z = 'attempt_suicide', color = 'attempt_suicide',)"
   ]
  },
  {
   "cell_type": "markdown",
   "metadata": {
    "collapsed": false
   },
   "source": [
    "# Sophia\n",
    "\n"
   ]
  },
  {
   "cell_type": "code",
   "execution_count": 0,
   "metadata": {
    "collapsed": false
   },
   "outputs": [
   ],
   "source": [
    "suicide_risk[\"attempt_suicide\"].value_counts()"
   ]
  },
  {
   "cell_type": "code",
   "execution_count": 0,
   "metadata": {
    "collapsed": false
   },
   "outputs": [
   ],
   "source": [
    "# sophia's bar chart\n",
    "fig = px.bar(suicide_risk, x = \"gender\", y = \"age\", color = \"attempt_suicide\")\n",
    "fig.show()"
   ]
  },
  {
   "cell_type": "code",
   "execution_count": 0,
   "metadata": {
    "collapsed": false
   },
   "outputs": [
   ],
   "source": [
    "fig = px.bar(suicide_risk, x = \"Sexuality\", y = \"\", color = \"attempt_suicide\")\n",
    "fig.show()"
   ]
  },
  {
   "cell_type": "markdown",
   "metadata": {
    "collapsed": false
   },
   "source": [
    "# Arrisa\n",
    "\n"
   ]
  },
  {
   "cell_type": "markdown",
   "metadata": {
    "collapsed": false
   },
   "source": [
    "#### Whatever!\n",
    "\n"
   ]
  },
  {
   "cell_type": "code",
   "execution_count": 0,
   "metadata": {
    "collapsed": false
   },
   "outputs": [
   ],
   "source": [
   ]
  },
  {
   "cell_type": "code",
   "execution_count": 11,
   "metadata": {
    "collapsed": false,
    "scrolled": true
   },
   "outputs": [
    {
     "data": {
      "text/html": [
       "<div>\n",
       "<style scoped>\n",
       "    .dataframe tbody tr th:only-of-type {\n",
       "        vertical-align: middle;\n",
       "    }\n",
       "\n",
       "    .dataframe tbody tr th {\n",
       "        vertical-align: top;\n",
       "    }\n",
       "\n",
       "    .dataframe thead th {\n",
       "        text-align: right;\n",
       "    }\n",
       "</style>\n",
       "<table border=\"1\" class=\"dataframe\">\n",
       "  <thead>\n",
       "    <tr style=\"text-align: right;\">\n",
       "      <th></th>\n",
       "      <th>time</th>\n",
       "      <th>gender</th>\n",
       "      <th>sexuallity</th>\n",
       "      <th>age</th>\n",
       "      <th>income</th>\n",
       "      <th>race</th>\n",
       "      <th>bodyweight</th>\n",
       "      <th>virgin</th>\n",
       "      <th>prostitution_legal</th>\n",
       "      <th>pay_for_sex</th>\n",
       "      <th>friends</th>\n",
       "      <th>social_fear</th>\n",
       "      <th>depressed</th>\n",
       "      <th>what_help_from_others</th>\n",
       "      <th>attempt_suicide</th>\n",
       "      <th>employment</th>\n",
       "      <th>job_title</th>\n",
       "      <th>edu_level</th>\n",
       "      <th>improve_yourself_how</th>\n",
       "    </tr>\n",
       "  </thead>\n",
       "  <tbody>\n",
       "    <tr>\n",
       "      <th>0</th>\n",
       "      <td>5/17/2016 20:04:18</td>\n",
       "      <td>Male</td>\n",
       "      <td>Straight</td>\n",
       "      <td>35</td>\n",
       "      <td>$30,000 to $39,999</td>\n",
       "      <td>White non-Hispanic</td>\n",
       "      <td>Normal weight</td>\n",
       "      <td>Yes</td>\n",
       "      <td>No</td>\n",
       "      <td>No</td>\n",
       "      <td>0.0</td>\n",
       "      <td>Yes</td>\n",
       "      <td>Yes</td>\n",
       "      <td>wingman/wingwoman, Set me up with a date</td>\n",
       "      <td>Yes</td>\n",
       "      <td>Employed for wages</td>\n",
       "      <td>mechanical drafter</td>\n",
       "      <td>Associate degree</td>\n",
       "      <td>None</td>\n",
       "    </tr>\n",
       "    <tr>\n",
       "      <th>1</th>\n",
       "      <td>5/17/2016 20:04:30</td>\n",
       "      <td>Male</td>\n",
       "      <td>Bisexual</td>\n",
       "      <td>21</td>\n",
       "      <td>$1 to $10,000</td>\n",
       "      <td>White non-Hispanic</td>\n",
       "      <td>Underweight</td>\n",
       "      <td>Yes</td>\n",
       "      <td>No</td>\n",
       "      <td>No</td>\n",
       "      <td>0.0</td>\n",
       "      <td>Yes</td>\n",
       "      <td>Yes</td>\n",
       "      <td>wingman/wingwoman, Set me up with a date, date...</td>\n",
       "      <td>No</td>\n",
       "      <td>Out of work and looking for work</td>\n",
       "      <td>-</td>\n",
       "      <td>Some college, no degree</td>\n",
       "      <td>join clubs/socual clubs/meet ups</td>\n",
       "    </tr>\n",
       "    <tr>\n",
       "      <th>2</th>\n",
       "      <td>5/17/2016 20:04:58</td>\n",
       "      <td>Male</td>\n",
       "      <td>Straight</td>\n",
       "      <td>22</td>\n",
       "      <td>$0</td>\n",
       "      <td>White non-Hispanic</td>\n",
       "      <td>Overweight</td>\n",
       "      <td>Yes</td>\n",
       "      <td>No</td>\n",
       "      <td>No</td>\n",
       "      <td>10.0</td>\n",
       "      <td>Yes</td>\n",
       "      <td>Yes</td>\n",
       "      <td>I don't want help</td>\n",
       "      <td>No</td>\n",
       "      <td>Out of work but not currently looking for work</td>\n",
       "      <td>unemployed</td>\n",
       "      <td>Some college, no degree</td>\n",
       "      <td>Other exercise</td>\n",
       "    </tr>\n",
       "    <tr>\n",
       "      <th>3</th>\n",
       "      <td>5/17/2016 20:08:01</td>\n",
       "      <td>Male</td>\n",
       "      <td>Straight</td>\n",
       "      <td>19</td>\n",
       "      <td>$1 to $10,000</td>\n",
       "      <td>White non-Hispanic</td>\n",
       "      <td>Overweight</td>\n",
       "      <td>Yes</td>\n",
       "      <td>Yes</td>\n",
       "      <td>No</td>\n",
       "      <td>8.0</td>\n",
       "      <td>Yes</td>\n",
       "      <td>Yes</td>\n",
       "      <td>date coaching</td>\n",
       "      <td>No</td>\n",
       "      <td>A student</td>\n",
       "      <td>student</td>\n",
       "      <td>Some college, no degree</td>\n",
       "      <td>Joined a gym/go to the gym</td>\n",
       "    </tr>\n",
       "    <tr>\n",
       "      <th>4</th>\n",
       "      <td>5/17/2016 20:08:04</td>\n",
       "      <td>Male</td>\n",
       "      <td>Straight</td>\n",
       "      <td>23</td>\n",
       "      <td>$30,000 to $39,999</td>\n",
       "      <td>White non-Hispanic</td>\n",
       "      <td>Overweight</td>\n",
       "      <td>No</td>\n",
       "      <td>No</td>\n",
       "      <td>Yes and I have</td>\n",
       "      <td>10.0</td>\n",
       "      <td>No</td>\n",
       "      <td>Yes</td>\n",
       "      <td>I don't want help</td>\n",
       "      <td>No</td>\n",
       "      <td>Employed for wages</td>\n",
       "      <td>Factory worker</td>\n",
       "      <td>High school graduate, diploma or the equivalen...</td>\n",
       "      <td>None</td>\n",
       "    </tr>\n",
       "  </tbody>\n",
       "</table>\n",
       "</div>"
      ],
      "text/plain": [
       "                 time gender sexuallity  age              income  \\\n",
       "0  5/17/2016 20:04:18   Male   Straight   35  $30,000 to $39,999   \n",
       "1  5/17/2016 20:04:30   Male   Bisexual   21       $1 to $10,000   \n",
       "2  5/17/2016 20:04:58   Male   Straight   22                  $0   \n",
       "3  5/17/2016 20:08:01   Male   Straight   19       $1 to $10,000   \n",
       "4  5/17/2016 20:08:04   Male   Straight   23  $30,000 to $39,999   \n",
       "\n",
       "                 race     bodyweight virgin prostitution_legal  \\\n",
       "0  White non-Hispanic  Normal weight    Yes                 No   \n",
       "1  White non-Hispanic    Underweight    Yes                 No   \n",
       "2  White non-Hispanic     Overweight    Yes                 No   \n",
       "3  White non-Hispanic     Overweight    Yes                Yes   \n",
       "4  White non-Hispanic     Overweight     No                 No   \n",
       "\n",
       "      pay_for_sex  friends social_fear depressed  \\\n",
       "0              No      0.0         Yes       Yes   \n",
       "1              No      0.0         Yes       Yes   \n",
       "2              No     10.0         Yes       Yes   \n",
       "3              No      8.0         Yes       Yes   \n",
       "4  Yes and I have     10.0          No       Yes   \n",
       "\n",
       "                               what_help_from_others attempt_suicide  \\\n",
       "0           wingman/wingwoman, Set me up with a date             Yes   \n",
       "1  wingman/wingwoman, Set me up with a date, date...              No   \n",
       "2                                  I don't want help              No   \n",
       "3                                      date coaching              No   \n",
       "4                                  I don't want help              No   \n",
       "\n",
       "                                       employment           job_title  \\\n",
       "0                              Employed for wages  mechanical drafter   \n",
       "1                Out of work and looking for work                   -   \n",
       "2  Out of work but not currently looking for work          unemployed   \n",
       "3                                       A student             student   \n",
       "4                              Employed for wages      Factory worker   \n",
       "\n",
       "                                           edu_level  \\\n",
       "0                                   Associate degree   \n",
       "1                            Some college, no degree   \n",
       "2                            Some college, no degree   \n",
       "3                            Some college, no degree   \n",
       "4  High school graduate, diploma or the equivalen...   \n",
       "\n",
       "               improve_yourself_how  \n",
       "0                              None  \n",
       "1  join clubs/socual clubs/meet ups  \n",
       "2                    Other exercise  \n",
       "3        Joined a gym/go to the gym  \n",
       "4                              None  "
      ]
     },
     "execution_count": 11,
     "metadata": {
     },
     "output_type": "execute_result"
    }
   ],
   "source": [
    "\n",
    "# import pandas as pd\n",
    "# suicide_risk = pd.read_csv(\"https://www.kaggle.com/code/antonaks/suicide-attempt-prediction-foreveralone-dataset/data\")\n",
    "suicide_risk.head()"
   ]
  },
  {
   "cell_type": "code",
   "execution_count": 0,
   "metadata": {
    "collapsed": false
   },
   "outputs": [
   ],
   "source": [
    "plt.figure(figsize=(30,10))\n",
    "plt.bar('race', 'income', data = suicide_risk)\n",
    "plt.title('race Vs Income', size = 18)\n",
    "plt.xlabel('race', size = 16)\n",
    "plt.ylabel('Income', size = 16)\n",
    "plt.show()"
   ]
  },
  {
   "cell_type": "code",
   "execution_count": 0,
   "metadata": {
    "collapsed": false
   },
   "outputs": [
   ],
   "source": [
    "# Bar chart for Age Race and Income and colour with Attempt to suicdide\n",
    "#Distrubtuin chart : Box plot for the income or something else\n",
    "# Bar chart for friens sexualatiy and attemp to suiicide"
   ]
  },
  {
   "cell_type": "code",
   "execution_count": 39,
   "metadata": {
    "collapsed": false
   },
   "outputs": [
    {
     "data": {
      "image/png": "[encoded data removed]",
      "text/plain": [
       "<Figure size 720x360 with 1 Axes>"
      ]
     },
     "execution_count": 39,
     "metadata": {
     },
     "output_type": "execute_result"
    }
   ],
   "source": [
    "import numpy as np\n",
    "import matplotlib.pyplot as plt\n",
    "\n",
    "\n",
    "# creating the dataset\n",
    "data = {'Friends':20, 'Age':15, 'Deppresion':30,\n",
    "\t\t'Gender':35}\n",
    "courses = list(data.keys())\n",
    "values = list(data.values())\n",
    "\n",
    "fig = plt.figure(figsize = (10, 5))\n",
    "\n",
    "# creating the bar plot\n",
    "plt.bar(courses, values, color ='maroon',\n",
    "\t\twidth = 0.4)\n",
    "\n",
    "plt.xlabel(\" \")\n",
    "plt.ylabel(\"attempted suicide\")\n",
    "plt.title(\"What category causes suicide the most\")\n",
    "plt.show()"
   ]
  },
  {
   "cell_type": "code",
   "execution_count": 63,
   "metadata": {
    "collapsed": false
   },
   "outputs": [
   ],
   "source": [
    "#NEW STUFF\n",
    "import pandas as pd\n",
    "import numpy as np\n",
    "from sklearn import preprocessing\n",
    "import matplotlib.pyplot as plt \n",
    "plt.rc(\"font\", size=14)\n",
    "from sklearn.linear_model import LogisticRegression\n",
    "from sklearn.model_selection import train_test_split\n",
    "import seaborn as sns\n",
    "sns.set(style=\"white\")\n",
    "sns.set(style=\"whitegrid\", color_codes=True)"
   ]
  },
  {
   "cell_type": "code",
   "execution_count": 54,
   "metadata": {
    "collapsed": false
   },
   "outputs": [
    {
     "name": "stdout",
     "output_type": "stream",
     "text": [
      "(457, 19)\n",
      "['time', 'gender', 'sexuallity', 'age', 'income', 'race', 'bodyweight', 'virgin', 'prostitution_legal', 'pay_for_sex', 'friends', 'social_fear', 'depressed', 'what_help_from_others', 'attempt_suicide', 'employment', 'job_title', 'edu_level', 'improve_yourself_how']\n"
     ]
    }
   ],
   "source": [
    "data = pd.read_csv(\"foreveralone.csv\", header=0)\n",
    "data = data.dropna()\n",
    "print(data.shape)\n",
    "print(list(data.columns))"
   ]
  },
  {
   "cell_type": "code",
   "execution_count": 91,
   "metadata": {
    "collapsed": false
   },
   "outputs": [
    {
     "ename": "AttributeError",
     "evalue": "'DataFrame' object has no attribute 'suicide_risk'",
     "output_type": "error",
     "traceback": [
      "\u001b[0;31m---------------------------------------------------------------------------\u001b[0m",
      "\u001b[0;31mAttributeError\u001b[0m                            Traceback (most recent call last)",
      "Input \u001b[0;32mIn [91]\u001b[0m, in \u001b[0;36m<cell line: 2>\u001b[0;34m()\u001b[0m\n\u001b[1;32m      1\u001b[0m get_ipython()\u001b[38;5;241m.\u001b[39mrun_line_magic(\u001b[38;5;124m'\u001b[39m\u001b[38;5;124mmatplotlib\u001b[39m\u001b[38;5;124m'\u001b[39m, \u001b[38;5;124m'\u001b[39m\u001b[38;5;124minline\u001b[39m\u001b[38;5;124m'\u001b[39m)\n\u001b[0;32m----> 2\u001b[0m pd\u001b[38;5;241m.\u001b[39mcrosstab(\u001b[43mdata\u001b[49m\u001b[38;5;241;43m.\u001b[39;49m\u001b[43msuicide_risk\u001b[49m, data\u001b[38;5;241m.\u001b[39my)\u001b[38;5;241m.\u001b[39mplot(kind \u001b[38;5;241m=\u001b[39m \u001b[38;5;124m'\u001b[39m\u001b[38;5;124mbar\u001b[39m\u001b[38;5;124m'\u001b[39m)\n\u001b[1;32m      3\u001b[0m plt\u001b[38;5;241m.\u001b[39mtitle(\u001b[38;5;124m'\u001b[39m\u001b[38;5;124mrace\u001b[39m\u001b[38;5;124m'\u001b[39m)\n\u001b[1;32m      4\u001b[0m plt\u001b[38;5;241m.\u001b[39mxlabel(\u001b[38;5;124m'\u001b[39m\u001b[38;5;124medu_level\u001b[39m\u001b[38;5;124m'\u001b[39m)\n",
      "File \u001b[0;32m~/miniconda3/envs/ds_env/lib/python3.8/site-packages/pandas/core/generic.py:5575\u001b[0m, in \u001b[0;36mNDFrame.__getattr__\u001b[0;34m(self, name)\u001b[0m\n\u001b[1;32m   5568\u001b[0m \u001b[38;5;28;01mif\u001b[39;00m (\n\u001b[1;32m   5569\u001b[0m     name \u001b[38;5;129;01mnot\u001b[39;00m \u001b[38;5;129;01min\u001b[39;00m \u001b[38;5;28mself\u001b[39m\u001b[38;5;241m.\u001b[39m_internal_names_set\n\u001b[1;32m   5570\u001b[0m     \u001b[38;5;129;01mand\u001b[39;00m name \u001b[38;5;129;01mnot\u001b[39;00m \u001b[38;5;129;01min\u001b[39;00m \u001b[38;5;28mself\u001b[39m\u001b[38;5;241m.\u001b[39m_metadata\n\u001b[1;32m   5571\u001b[0m     \u001b[38;5;129;01mand\u001b[39;00m name \u001b[38;5;129;01mnot\u001b[39;00m \u001b[38;5;129;01min\u001b[39;00m \u001b[38;5;28mself\u001b[39m\u001b[38;5;241m.\u001b[39m_accessors\n\u001b[1;32m   5572\u001b[0m     \u001b[38;5;129;01mand\u001b[39;00m \u001b[38;5;28mself\u001b[39m\u001b[38;5;241m.\u001b[39m_info_axis\u001b[38;5;241m.\u001b[39m_can_hold_identifiers_and_holds_name(name)\n\u001b[1;32m   5573\u001b[0m ):\n\u001b[1;32m   5574\u001b[0m     \u001b[38;5;28;01mreturn\u001b[39;00m \u001b[38;5;28mself\u001b[39m[name]\n\u001b[0;32m-> 5575\u001b[0m \u001b[38;5;28;01mreturn\u001b[39;00m \u001b[38;5;28;43mobject\u001b[39;49m\u001b[38;5;241;43m.\u001b[39;49m\u001b[38;5;21;43m__getattribute__\u001b[39;49m\u001b[43m(\u001b[49m\u001b[38;5;28;43mself\u001b[39;49m\u001b[43m,\u001b[49m\u001b[43m \u001b[49m\u001b[43mname\u001b[49m\u001b[43m)\u001b[49m\n",
      "\u001b[0;31mAttributeError\u001b[0m: 'DataFrame' object has no attribute 'suicide_risk'"
     ]
    }
   ],
   "source": [
    "%matplotlib inline\n",
    "pd.crosstab(data.suicide_risk, data.y).plot(kind = 'bar')\n",
    "plt.title('race')\n",
    "plt.xlabel('edu_level')\n",
    "plt.ylabel('job_title')\n",
    "plt.savefig('depressed')"
   ]
  },
  {
   "cell_type": "code",
   "execution_count": 0,
   "metadata": {
    "collapsed": false
   },
   "outputs": [
   ],
   "source": [
   ]
  },
  {
   "cell_type": "code",
   "execution_count": 0,
   "metadata": {
    "collapsed": false
   },
   "outputs": [
   ],
   "source": [
   ]
  },
  {
   "cell_type": "code",
   "execution_count": 0,
   "metadata": {
    "collapsed": false
   },
   "outputs": [
   ],
   "source": [
   ]
  },
  {
   "cell_type": "code",
   "execution_count": 0,
   "metadata": {
    "collapsed": false
   },
   "outputs": [
   ],
   "source": [
   ]
  },
  {
   "cell_type": "markdown",
   "metadata": {
    "collapsed": false
   },
   "source": [
    "# Maulika\n",
    "\n"
   ]
  },
  {
   "cell_type": "code",
   "execution_count": 6,
   "metadata": {
    "collapsed": false
   },
   "outputs": [
    {
     "data": {
      "text/plain": [
       "['time',\n",
       " 'gender',\n",
       " 'sexuallity',\n",
       " 'age',\n",
       " 'income',\n",
       " 'race',\n",
       " 'bodyweight',\n",
       " 'virgin',\n",
       " 'prostitution_legal',\n",
       " 'pay_for_sex',\n",
       " 'friends',\n",
       " 'social_fear',\n",
       " 'depressed',\n",
       " 'what_help_from_others',\n",
       " 'attempt_suicide',\n",
       " 'employment',\n",
       " 'job_title',\n",
       " 'edu_level',\n",
       " 'improve_yourself_how']"
      ]
     },
     "execution_count": 6,
     "metadata": {
     },
     "output_type": "execute_result"
    }
   ],
   "source": [
    "# List of columns\n",
    "\n",
    "suicide_risk.columns.tolist()"
   ]
  },
  {
   "cell_type": "code",
   "execution_count": 7,
   "metadata": {
    "collapsed": false
   },
   "outputs": [
    {
     "data": {
      "image/png": "[encoded data removed]",
      "text/plain": [
       "<Figure size 432x288 with 2 Axes>"
      ]
     },
     "execution_count": 7,
     "metadata": {
      "needs_background": "light"
     },
     "output_type": "execute_result"
    }
   ],
   "source": [
    "# Correlation Plot\n",
    "\n",
    "mat = suicide_risk.corr()\n",
    "\n",
    "import seaborn as sn\n",
    "import matplotlib.pyplot as plt\n",
    "\n",
    "sn.heatmap(mat, annot=True)\n",
    "plt.show()"
   ]
  },
  {
   "cell_type": "code",
   "execution_count": 8,
   "metadata": {
    "collapsed": false
   },
   "outputs": [
    {
     "data": {
      "text/plain": [
       "{'bodies': [<matplotlib.collections.PolyCollection at 0x7f416e4a5fa0>],\n",
       " 'cmaxes': <matplotlib.collections.LineCollection at 0x7f416e4a5e80>,\n",
       " 'cmins': <matplotlib.collections.LineCollection at 0x7f416e4b9640>,\n",
       " 'cbars': <matplotlib.collections.LineCollection at 0x7f416e4b9a00>}"
      ]
     },
     "execution_count": 8,
     "metadata": {
     },
     "output_type": "execute_result"
    },
    {
     "data": {
      "image/png": "[encoded data removed]",
      "text/plain": [
       "<Figure size 432x288 with 1 Axes>"
      ]
     },
     "execution_count": 8,
     "metadata": {
      "needs_background": "light"
     },
     "output_type": "execute_result"
    }
   ],
   "source": [
    "# Violin Plot for Score\n",
    "\n",
    "plt.violinplot(suicide_risk['age'])"
   ]
  },
  {
   "cell_type": "code",
   "execution_count": 9,
   "metadata": {
    "collapsed": false
   },
   "outputs": [
    {
     "data": {
      "text/plain": [
       "<AxesSubplot:>"
      ]
     },
     "execution_count": 9,
     "metadata": {
     },
     "output_type": "execute_result"
    },
    {
     "data": {
      "image/png": "[encoded data removed]",
      "text/plain": [
       "<Figure size 720x360 with 1 Axes>"
      ]
     },
     "execution_count": 9,
     "metadata": {
      "needs_background": "light"
     },
     "output_type": "execute_result"
    }
   ],
   "source": [
    "# Bar Plot\n",
    "\n",
    "plt.figure(figsize=(10,5))\n",
    "suicide_risk['age'].plot(kind='box')"
   ]
  },
  {
   "cell_type": "code",
   "execution_count": 10,
   "metadata": {
    "collapsed": false
   },
   "outputs": [
    {
     "data": {
      "text/plain": [
       "<Figure size 720x720 with 0 Axes>"
      ]
     },
     "execution_count": 10,
     "metadata": {
     },
     "output_type": "execute_result"
    },
    {
     "data": {
      "image/png": "[encoded data removed]",
      "text/plain": [
       "<Figure size 432x288 with 1 Axes>"
      ]
     },
     "execution_count": 10,
     "metadata": {
      "needs_background": "light"
     },
     "output_type": "execute_result"
    }
   ],
   "source": [
    "# Stacked Bar Chart\n",
    "plt.figure(figsize=(10,10))\n",
    "suicide_risk.plot(kind='bar', \n",
    "                    stacked=True, \n",
    "                    colormap='tab10')\n",
    "plt.xlabel(\"Age\")\n",
    "plt.ylabel(\"Size\")\n",
    "plt.show()"
   ]
  },
  {
   "cell_type": "code",
   "execution_count": 11,
   "metadata": {
    "collapsed": false
   },
   "outputs": [
    {
     "data": {
      "image/png": "[encoded data removed]",
      "text/plain": [
       "<Figure size 2160x720 with 1 Axes>"
      ]
     },
     "execution_count": 11,
     "metadata": {
      "needs_background": "light"
     },
     "output_type": "execute_result"
    }
   ],
   "source": [
    "plt.figure(figsize=(30,10))\n",
    "plt.bar('age', 'income', data = suicide_risk)\n",
    "plt.title('Age Vs Income', size = 18)\n",
    "plt.xlabel('Age', size = 16)\n",
    "plt.ylabel('Income', size = 16)\n",
    "plt.show()"
   ]
  },
  {
   "cell_type": "code",
   "execution_count": 12,
   "metadata": {
    "collapsed": false
   },
   "outputs": [
    {
     "data": {
      "text/plain": [
       "<AxesSubplot:ylabel='age'>"
      ]
     },
     "execution_count": 12,
     "metadata": {
     },
     "output_type": "execute_result"
    },
    {
     "data": {
      "image/png": "[encoded data removed]",
      "text/plain": [
       "<Figure size 432x288 with 1 Axes>"
      ]
     },
     "execution_count": 12,
     "metadata": {
     },
     "output_type": "execute_result"
    }
   ],
   "source": [
    "# Pie Chart\n",
    "\n",
    "suicide_risk[\"age\"].plot(kind=\"pie\")"
   ]
  },
  {
   "cell_type": "code",
   "execution_count": 42,
   "metadata": {
    "collapsed": false
   },
   "outputs": [
    {
     "data": {
      "image/png": "[encoded data removed]",
      "text/plain": [
       "<Figure size 2160x720 with 1 Axes>"
      ]
     },
     "execution_count": 42,
     "metadata": {
     },
     "output_type": "execute_result"
    }
   ],
   "source": [
    "import seaborn as sns\n",
    "import matplotlib.pyplot as plt\n",
    "\n",
    "plt.figure(figsize=(30,10))\n",
    "sns.histplot(x= 'age', y='bodyweight', data = suicide_risk, discrete = True,\n",
    "             color = 'red', edgecolor = 'black',\n",
    "             kde = True, kde_kws ={'cut': 2}, line_kws = {'linewidth': 4})\n",
    "plt.show()"
   ]
  },
  {
   "cell_type": "code",
   "execution_count": 50,
   "metadata": {
    "collapsed": false
   },
   "outputs": [
    {
     "data": {
      "text/html": [
       "<div>\n",
       "<style scoped>\n",
       "    .dataframe tbody tr th:only-of-type {\n",
       "        vertical-align: middle;\n",
       "    }\n",
       "\n",
       "    .dataframe tbody tr th {\n",
       "        vertical-align: top;\n",
       "    }\n",
       "\n",
       "    .dataframe thead th {\n",
       "        text-align: right;\n",
       "    }\n",
       "</style>\n",
       "<table border=\"1\" class=\"dataframe\">\n",
       "  <thead>\n",
       "    <tr style=\"text-align: right;\">\n",
       "      <th></th>\n",
       "      <th>gender</th>\n",
       "      <th>sexuallity</th>\n",
       "      <th>age</th>\n",
       "      <th>income</th>\n",
       "      <th>race</th>\n",
       "      <th>bodyweight</th>\n",
       "      <th>virgin</th>\n",
       "      <th>prostitution_legal</th>\n",
       "      <th>pay_for_sex</th>\n",
       "      <th>friends</th>\n",
       "      <th>social_fear</th>\n",
       "      <th>depressed</th>\n",
       "      <th>what_help_from_others</th>\n",
       "      <th>attempt_suicide</th>\n",
       "      <th>employment</th>\n",
       "      <th>job_title</th>\n",
       "      <th>edu_level</th>\n",
       "      <th>improve_yourself_how</th>\n",
       "    </tr>\n",
       "  </thead>\n",
       "  <tbody>\n",
       "    <tr>\n",
       "      <th>0</th>\n",
       "      <td>Male</td>\n",
       "      <td>Straight</td>\n",
       "      <td>35</td>\n",
       "      <td>$30,000 to $39,999</td>\n",
       "      <td>White non-Hispanic</td>\n",
       "      <td>Normal weight</td>\n",
       "      <td>Yes</td>\n",
       "      <td>No</td>\n",
       "      <td>No</td>\n",
       "      <td>0.0</td>\n",
       "      <td>Yes</td>\n",
       "      <td>Yes</td>\n",
       "      <td>wingman/wingwoman, Set me up with a date</td>\n",
       "      <td>Yes</td>\n",
       "      <td>Employed for wages</td>\n",
       "      <td>mechanical drafter</td>\n",
       "      <td>Associate degree</td>\n",
       "      <td>None</td>\n",
       "    </tr>\n",
       "    <tr>\n",
       "      <th>1</th>\n",
       "      <td>Male</td>\n",
       "      <td>Bisexual</td>\n",
       "      <td>21</td>\n",
       "      <td>$1 to $10,000</td>\n",
       "      <td>White non-Hispanic</td>\n",
       "      <td>Underweight</td>\n",
       "      <td>Yes</td>\n",
       "      <td>No</td>\n",
       "      <td>No</td>\n",
       "      <td>0.0</td>\n",
       "      <td>Yes</td>\n",
       "      <td>Yes</td>\n",
       "      <td>wingman/wingwoman, Set me up with a date, date...</td>\n",
       "      <td>No</td>\n",
       "      <td>Out of work and looking for work</td>\n",
       "      <td>-</td>\n",
       "      <td>Some college, no degree</td>\n",
       "      <td>join clubs/socual clubs/meet ups</td>\n",
       "    </tr>\n",
       "    <tr>\n",
       "      <th>2</th>\n",
       "      <td>Male</td>\n",
       "      <td>Straight</td>\n",
       "      <td>22</td>\n",
       "      <td>$0</td>\n",
       "      <td>White non-Hispanic</td>\n",
       "      <td>Overweight</td>\n",
       "      <td>Yes</td>\n",
       "      <td>No</td>\n",
       "      <td>No</td>\n",
       "      <td>10.0</td>\n",
       "      <td>Yes</td>\n",
       "      <td>Yes</td>\n",
       "      <td>I don't want help</td>\n",
       "      <td>No</td>\n",
       "      <td>Out of work but not currently looking for work</td>\n",
       "      <td>unemployed</td>\n",
       "      <td>Some college, no degree</td>\n",
       "      <td>Other exercise</td>\n",
       "    </tr>\n",
       "    <tr>\n",
       "      <th>3</th>\n",
       "      <td>Male</td>\n",
       "      <td>Straight</td>\n",
       "      <td>19</td>\n",
       "      <td>$1 to $10,000</td>\n",
       "      <td>White non-Hispanic</td>\n",
       "      <td>Overweight</td>\n",
       "      <td>Yes</td>\n",
       "      <td>Yes</td>\n",
       "      <td>No</td>\n",
       "      <td>8.0</td>\n",
       "      <td>Yes</td>\n",
       "      <td>Yes</td>\n",
       "      <td>date coaching</td>\n",
       "      <td>No</td>\n",
       "      <td>A student</td>\n",
       "      <td>student</td>\n",
       "      <td>Some college, no degree</td>\n",
       "      <td>Joined a gym/go to the gym</td>\n",
       "    </tr>\n",
       "    <tr>\n",
       "      <th>4</th>\n",
       "      <td>Male</td>\n",
       "      <td>Straight</td>\n",
       "      <td>23</td>\n",
       "      <td>$30,000 to $39,999</td>\n",
       "      <td>White non-Hispanic</td>\n",
       "      <td>Overweight</td>\n",
       "      <td>No</td>\n",
       "      <td>No</td>\n",
       "      <td>Yes and I have</td>\n",
       "      <td>10.0</td>\n",
       "      <td>No</td>\n",
       "      <td>Yes</td>\n",
       "      <td>I don't want help</td>\n",
       "      <td>No</td>\n",
       "      <td>Employed for wages</td>\n",
       "      <td>Factory worker</td>\n",
       "      <td>High school graduate, diploma or the equivalen...</td>\n",
       "      <td>None</td>\n",
       "    </tr>\n",
       "  </tbody>\n",
       "</table>\n",
       "</div>"
      ],
      "text/plain": [
       "  gender sexuallity  age              income                race  \\\n",
       "0   Male   Straight   35  $30,000 to $39,999  White non-Hispanic   \n",
       "1   Male   Bisexual   21       $1 to $10,000  White non-Hispanic   \n",
       "2   Male   Straight   22                  $0  White non-Hispanic   \n",
       "3   Male   Straight   19       $1 to $10,000  White non-Hispanic   \n",
       "4   Male   Straight   23  $30,000 to $39,999  White non-Hispanic   \n",
       "\n",
       "      bodyweight virgin prostitution_legal     pay_for_sex  friends  \\\n",
       "0  Normal weight    Yes                 No              No      0.0   \n",
       "1    Underweight    Yes                 No              No      0.0   \n",
       "2     Overweight    Yes                 No              No     10.0   \n",
       "3     Overweight    Yes                Yes              No      8.0   \n",
       "4     Overweight     No                 No  Yes and I have     10.0   \n",
       "\n",
       "  social_fear depressed                              what_help_from_others  \\\n",
       "0         Yes       Yes           wingman/wingwoman, Set me up with a date   \n",
       "1         Yes       Yes  wingman/wingwoman, Set me up with a date, date...   \n",
       "2         Yes       Yes                                  I don't want help   \n",
       "3         Yes       Yes                                      date coaching   \n",
       "4          No       Yes                                  I don't want help   \n",
       "\n",
       "  attempt_suicide                                      employment  \\\n",
       "0             Yes                              Employed for wages   \n",
       "1              No                Out of work and looking for work   \n",
       "2              No  Out of work but not currently looking for work   \n",
       "3              No                                       A student   \n",
       "4              No                              Employed for wages   \n",
       "\n",
       "            job_title                                          edu_level  \\\n",
       "0  mechanical drafter                                   Associate degree   \n",
       "1                   -                            Some college, no degree   \n",
       "2          unemployed                            Some college, no degree   \n",
       "3             student                            Some college, no degree   \n",
       "4      Factory worker  High school graduate, diploma or the equivalen...   \n",
       "\n",
       "               improve_yourself_how  \n",
       "0                              None  \n",
       "1  join clubs/socual clubs/meet ups  \n",
       "2                    Other exercise  \n",
       "3        Joined a gym/go to the gym  \n",
       "4                              None  "
      ]
     },
     "execution_count": 50,
     "metadata": {
     },
     "output_type": "execute_result"
    }
   ],
   "source": [
    "suicide_risk.head()"
   ]
  },
  {
   "cell_type": "code",
   "execution_count": 57,
   "metadata": {
    "collapsed": false
   },
   "outputs": [
    {
     "data": {
      "text/plain": [
       "<seaborn.axisgrid.FacetGrid at 0x7f84c2cdfa30>"
      ]
     },
     "execution_count": 57,
     "metadata": {
     },
     "output_type": "execute_result"
    },
    {
     "data": {
      "image/png": "[encoded data removed]",
      "text/plain": [
       "<Figure size 360x360 with 1 Axes>"
      ]
     },
     "execution_count": 57,
     "metadata": {
     },
     "output_type": "execute_result"
    }
   ],
   "source": [
    "sns.displot(suicide_risk, x=\"age\", y=\"income\", log_scale=(True, False))"
   ]
  },
  {
   "cell_type": "code",
   "execution_count": 46,
   "metadata": {
    "collapsed": false,
    "scrolled": true
   },
   "outputs": [
    {
     "data": {
      "text/html": [
       "<div>\n",
       "<style scoped>\n",
       "    .dataframe tbody tr th:only-of-type {\n",
       "        vertical-align: middle;\n",
       "    }\n",
       "\n",
       "    .dataframe tbody tr th {\n",
       "        vertical-align: top;\n",
       "    }\n",
       "\n",
       "    .dataframe thead th {\n",
       "        text-align: right;\n",
       "    }\n",
       "</style>\n",
       "<table border=\"1\" class=\"dataframe\">\n",
       "  <thead>\n",
       "    <tr style=\"text-align: right;\">\n",
       "      <th></th>\n",
       "      <th>time</th>\n",
       "      <th>gender</th>\n",
       "      <th>sexuallity</th>\n",
       "      <th>age</th>\n",
       "      <th>income</th>\n",
       "      <th>race</th>\n",
       "      <th>bodyweight</th>\n",
       "      <th>virgin</th>\n",
       "      <th>prostitution_legal</th>\n",
       "      <th>pay_for_sex</th>\n",
       "      <th>friends</th>\n",
       "      <th>social_fear</th>\n",
       "      <th>depressed</th>\n",
       "      <th>what_help_from_others</th>\n",
       "      <th>attempt_suicide</th>\n",
       "      <th>employment</th>\n",
       "      <th>job_title</th>\n",
       "      <th>edu_level</th>\n",
       "      <th>improve_yourself_how</th>\n",
       "    </tr>\n",
       "  </thead>\n",
       "  <tbody>\n",
       "    <tr>\n",
       "      <th>0</th>\n",
       "      <td>5/17/2016 20:04:18</td>\n",
       "      <td>Male</td>\n",
       "      <td>Straight</td>\n",
       "      <td>35</td>\n",
       "      <td>$30,000 to $39,999</td>\n",
       "      <td>White non-Hispanic</td>\n",
       "      <td>Normal weight</td>\n",
       "      <td>Yes</td>\n",
       "      <td>No</td>\n",
       "      <td>No</td>\n",
       "      <td>0.0</td>\n",
       "      <td>Yes</td>\n",
       "      <td>Yes</td>\n",
       "      <td>wingman/wingwoman, Set me up with a date</td>\n",
       "      <td>Yes</td>\n",
       "      <td>Employed for wages</td>\n",
       "      <td>mechanical drafter</td>\n",
       "      <td>Associate degree</td>\n",
       "      <td>None</td>\n",
       "    </tr>\n",
       "    <tr>\n",
       "      <th>1</th>\n",
       "      <td>5/17/2016 20:04:30</td>\n",
       "      <td>Male</td>\n",
       "      <td>Bisexual</td>\n",
       "      <td>21</td>\n",
       "      <td>$1 to $10,000</td>\n",
       "      <td>White non-Hispanic</td>\n",
       "      <td>Underweight</td>\n",
       "      <td>Yes</td>\n",
       "      <td>No</td>\n",
       "      <td>No</td>\n",
       "      <td>0.0</td>\n",
       "      <td>Yes</td>\n",
       "      <td>Yes</td>\n",
       "      <td>wingman/wingwoman, Set me up with a date, date...</td>\n",
       "      <td>No</td>\n",
       "      <td>Out of work and looking for work</td>\n",
       "      <td>-</td>\n",
       "      <td>Some college, no degree</td>\n",
       "      <td>join clubs/socual clubs/meet ups</td>\n",
       "    </tr>\n",
       "    <tr>\n",
       "      <th>2</th>\n",
       "      <td>5/17/2016 20:04:58</td>\n",
       "      <td>Male</td>\n",
       "      <td>Straight</td>\n",
       "      <td>22</td>\n",
       "      <td>$0</td>\n",
       "      <td>White non-Hispanic</td>\n",
       "      <td>Overweight</td>\n",
       "      <td>Yes</td>\n",
       "      <td>No</td>\n",
       "      <td>No</td>\n",
       "      <td>10.0</td>\n",
       "      <td>Yes</td>\n",
       "      <td>Yes</td>\n",
       "      <td>I don't want help</td>\n",
       "      <td>No</td>\n",
       "      <td>Out of work but not currently looking for work</td>\n",
       "      <td>unemployed</td>\n",
       "      <td>Some college, no degree</td>\n",
       "      <td>Other exercise</td>\n",
       "    </tr>\n",
       "    <tr>\n",
       "      <th>3</th>\n",
       "      <td>5/17/2016 20:08:01</td>\n",
       "      <td>Male</td>\n",
       "      <td>Straight</td>\n",
       "      <td>19</td>\n",
       "      <td>$1 to $10,000</td>\n",
       "      <td>White non-Hispanic</td>\n",
       "      <td>Overweight</td>\n",
       "      <td>Yes</td>\n",
       "      <td>Yes</td>\n",
       "      <td>No</td>\n",
       "      <td>8.0</td>\n",
       "      <td>Yes</td>\n",
       "      <td>Yes</td>\n",
       "      <td>date coaching</td>\n",
       "      <td>No</td>\n",
       "      <td>A student</td>\n",
       "      <td>student</td>\n",
       "      <td>Some college, no degree</td>\n",
       "      <td>Joined a gym/go to the gym</td>\n",
       "    </tr>\n",
       "    <tr>\n",
       "      <th>4</th>\n",
       "      <td>5/17/2016 20:08:04</td>\n",
       "      <td>Male</td>\n",
       "      <td>Straight</td>\n",
       "      <td>23</td>\n",
       "      <td>$30,000 to $39,999</td>\n",
       "      <td>White non-Hispanic</td>\n",
       "      <td>Overweight</td>\n",
       "      <td>No</td>\n",
       "      <td>No</td>\n",
       "      <td>Yes and I have</td>\n",
       "      <td>10.0</td>\n",
       "      <td>No</td>\n",
       "      <td>Yes</td>\n",
       "      <td>I don't want help</td>\n",
       "      <td>No</td>\n",
       "      <td>Employed for wages</td>\n",
       "      <td>Factory worker</td>\n",
       "      <td>High school graduate, diploma or the equivalen...</td>\n",
       "      <td>None</td>\n",
       "    </tr>\n",
       "  </tbody>\n",
       "</table>\n",
       "</div>"
      ],
      "text/plain": [
       "                 time gender sexuallity  age              income  \\\n",
       "0  5/17/2016 20:04:18   Male   Straight   35  $30,000 to $39,999   \n",
       "1  5/17/2016 20:04:30   Male   Bisexual   21       $1 to $10,000   \n",
       "2  5/17/2016 20:04:58   Male   Straight   22                  $0   \n",
       "3  5/17/2016 20:08:01   Male   Straight   19       $1 to $10,000   \n",
       "4  5/17/2016 20:08:04   Male   Straight   23  $30,000 to $39,999   \n",
       "\n",
       "                 race     bodyweight virgin prostitution_legal  \\\n",
       "0  White non-Hispanic  Normal weight    Yes                 No   \n",
       "1  White non-Hispanic    Underweight    Yes                 No   \n",
       "2  White non-Hispanic     Overweight    Yes                 No   \n",
       "3  White non-Hispanic     Overweight    Yes                Yes   \n",
       "4  White non-Hispanic     Overweight     No                 No   \n",
       "\n",
       "      pay_for_sex  friends social_fear depressed  \\\n",
       "0              No      0.0         Yes       Yes   \n",
       "1              No      0.0         Yes       Yes   \n",
       "2              No     10.0         Yes       Yes   \n",
       "3              No      8.0         Yes       Yes   \n",
       "4  Yes and I have     10.0          No       Yes   \n",
       "\n",
       "                               what_help_from_others attempt_suicide  \\\n",
       "0           wingman/wingwoman, Set me up with a date             Yes   \n",
       "1  wingman/wingwoman, Set me up with a date, date...              No   \n",
       "2                                  I don't want help              No   \n",
       "3                                      date coaching              No   \n",
       "4                                  I don't want help              No   \n",
       "\n",
       "                                       employment           job_title  \\\n",
       "0                              Employed for wages  mechanical drafter   \n",
       "1                Out of work and looking for work                   -   \n",
       "2  Out of work but not currently looking for work          unemployed   \n",
       "3                                       A student             student   \n",
       "4                              Employed for wages      Factory worker   \n",
       "\n",
       "                                           edu_level  \\\n",
       "0                                   Associate degree   \n",
       "1                            Some college, no degree   \n",
       "2                            Some college, no degree   \n",
       "3                            Some college, no degree   \n",
       "4  High school graduate, diploma or the equivalen...   \n",
       "\n",
       "               improve_yourself_how  \n",
       "0                              None  \n",
       "1  join clubs/socual clubs/meet ups  \n",
       "2                    Other exercise  \n",
       "3        Joined a gym/go to the gym  \n",
       "4                              None  "
      ]
     },
     "execution_count": 46,
     "metadata": {
     },
     "output_type": "execute_result"
    }
   ],
   "source": [
   ]
  },
  {
   "cell_type": "code",
   "execution_count": 62,
   "metadata": {
    "collapsed": false
   },
   "outputs": [
    {
     "data": {
      "image/png": "[encoded data removed]",
      "text/plain": [
       "<Figure size 1280x800 with 1 Axes>"
      ]
     },
     "execution_count": 62,
     "metadata": {
      "needs_background": "light"
     },
     "output_type": "execute_result"
    }
   ],
   "source": [
    "# Density Plot\n",
    "\n",
    "plt.figure(figsize = (16,10), dpi = 80)\n",
    "sns.kdeplot(suicide_risk['age'], color=\"deeppink\", shade = True, label = 'Age')\n",
    "sns.kdeplot(suicide_risk['income'], color=\"blueviolet\", shade = True, label = 'Income')\n",
    "\n",
    "plt.title('Density plot for Age and Income', fontsize = 22)\n",
    "plt.legend()\n",
    "plt.show()"
   ]
  },
  {
   "cell_type": "code",
   "execution_count": 63,
   "metadata": {
    "collapsed": false
   },
   "outputs": [
    {
     "data": {
      "text/plain": [
       "0       9\n",
       "1       1\n",
       "2       0\n",
       "3       1\n",
       "4       9\n",
       "       ..\n",
       "464     2\n",
       "465     9\n",
       "466     1\n",
       "467     0\n",
       "468    10\n",
       "Name: income, Length: 457, dtype: int64"
      ]
     },
     "execution_count": 63,
     "metadata": {
     },
     "output_type": "execute_result"
    }
   ],
   "source": [
    "suicide_risk['income']"
   ]
  },
  {
   "cell_type": "code",
   "execution_count": 0,
   "metadata": {
    "collapsed": false
   },
   "outputs": [
   ],
   "source": [
    "plt.figure(figsize=(16,10), dpi= 80)\n",
    "fig, axes = joypy.joyplot(mpg, column=['hwy', 'cty'], by=\"class\", ylim='own', figsize=(14,10))\n",
    "\n",
    "# Decoration\n",
    "plt.title('Joy Plot of City and Highway Mileage by Class', fontsize=22)\n",
    "plt.show()"
   ]
  },
  {
   "cell_type": "code",
   "execution_count": 0,
   "metadata": {
    "collapsed": false
   },
   "outputs": [
   ],
   "source": [
   ]
  },
  {
   "cell_type": "code",
   "execution_count": 0,
   "metadata": {
    "collapsed": false
   },
   "outputs": [
   ],
   "source": [
   ]
  },
  {
   "cell_type": "code",
   "execution_count": 0,
   "metadata": {
    "collapsed": false
   },
   "outputs": [
   ],
   "source": [
   ]
  },
  {
   "cell_type": "markdown",
   "metadata": {
    "collapsed": false
   },
   "source": [
    "# SVC\n",
    "\n"
   ]
  },
  {
   "cell_type": "code",
   "execution_count": 4,
   "metadata": {
    "collapsed": false
   },
   "outputs": [
   ],
   "source": [
    "#SVC\n",
    "\n",
    "#Libraries\n",
    "import sklearn\n",
    "from sklearn.svm import SVC\n",
    "from sklearn import svm\n",
    "\n",
    "#Drop Time\n",
    "suicide_risk.drop(\"time\", axis = 1, inplace = True)\n",
    "suicide_risk.head()\n",
    "\n",
    "#Target\n",
    "target = suicide_risk[\"attempt_suicide\"]\n",
    "\n",
    "input_columns = suicide_risk.loc[:, suicide_risk.columns != \"attempt_suicide\"]\n",
    "\n",
    "#Split\n",
    "from sklearn.model_selection import train_test_split\n",
    "\n",
    "x_train, x_test, y_train, y_test = train_test_split(input_columns, target, test_size=0.2)\n",
    "\n",
    "X = x_train\n",
    "y = y_train\n",
    "my_model = svm.SVC()"
   ]
  },
  {
   "cell_type": "code",
   "execution_count": 5,
   "metadata": {
    "collapsed": false
   },
   "outputs": [
    {
     "data": {
      "text/html": [
       "<div>\n",
       "<style scoped>\n",
       "    .dataframe tbody tr th:only-of-type {\n",
       "        vertical-align: middle;\n",
       "    }\n",
       "\n",
       "    .dataframe tbody tr th {\n",
       "        vertical-align: top;\n",
       "    }\n",
       "\n",
       "    .dataframe thead th {\n",
       "        text-align: right;\n",
       "    }\n",
       "</style>\n",
       "<table border=\"1\" class=\"dataframe\">\n",
       "  <thead>\n",
       "    <tr style=\"text-align: right;\">\n",
       "      <th></th>\n",
       "      <th>sexuallity</th>\n",
       "      <th>age</th>\n",
       "      <th>income</th>\n",
       "      <th>race</th>\n",
       "      <th>bodyweight</th>\n",
       "      <th>virgin</th>\n",
       "      <th>prostitution_legal</th>\n",
       "      <th>pay_for_sex</th>\n",
       "      <th>friends</th>\n",
       "      <th>social_fear</th>\n",
       "      <th>...</th>\n",
       "      <th>what_help_from_others</th>\n",
       "      <th>attempt_suicide</th>\n",
       "      <th>employment</th>\n",
       "      <th>job_title</th>\n",
       "      <th>edu_level</th>\n",
       "      <th>improve_yourself_how</th>\n",
       "      <th>gender_Female</th>\n",
       "      <th>gender_Male</th>\n",
       "      <th>gender_Transgender female</th>\n",
       "      <th>gender_Transgender male</th>\n",
       "    </tr>\n",
       "  </thead>\n",
       "  <tbody>\n",
       "    <tr>\n",
       "      <th>0</th>\n",
       "      <td>Straight</td>\n",
       "      <td>35</td>\n",
       "      <td>$30,000 to $39,999</td>\n",
       "      <td>White non-Hispanic</td>\n",
       "      <td>Normal weight</td>\n",
       "      <td>Yes</td>\n",
       "      <td>No</td>\n",
       "      <td>No</td>\n",
       "      <td>0.0</td>\n",
       "      <td>Yes</td>\n",
       "      <td>...</td>\n",
       "      <td>wingman/wingwoman, Set me up with a date</td>\n",
       "      <td>Yes</td>\n",
       "      <td>Employed for wages</td>\n",
       "      <td>mechanical drafter</td>\n",
       "      <td>Associate degree</td>\n",
       "      <td>None</td>\n",
       "      <td>0</td>\n",
       "      <td>1</td>\n",
       "      <td>0</td>\n",
       "      <td>0</td>\n",
       "    </tr>\n",
       "    <tr>\n",
       "      <th>1</th>\n",
       "      <td>Bisexual</td>\n",
       "      <td>21</td>\n",
       "      <td>$1 to $10,000</td>\n",
       "      <td>White non-Hispanic</td>\n",
       "      <td>Underweight</td>\n",
       "      <td>Yes</td>\n",
       "      <td>No</td>\n",
       "      <td>No</td>\n",
       "      <td>0.0</td>\n",
       "      <td>Yes</td>\n",
       "      <td>...</td>\n",
       "      <td>wingman/wingwoman, Set me up with a date, date...</td>\n",
       "      <td>No</td>\n",
       "      <td>Out of work and looking for work</td>\n",
       "      <td>-</td>\n",
       "      <td>Some college, no degree</td>\n",
       "      <td>join clubs/socual clubs/meet ups</td>\n",
       "      <td>0</td>\n",
       "      <td>1</td>\n",
       "      <td>0</td>\n",
       "      <td>0</td>\n",
       "    </tr>\n",
       "    <tr>\n",
       "      <th>2</th>\n",
       "      <td>Straight</td>\n",
       "      <td>22</td>\n",
       "      <td>$0</td>\n",
       "      <td>White non-Hispanic</td>\n",
       "      <td>Overweight</td>\n",
       "      <td>Yes</td>\n",
       "      <td>No</td>\n",
       "      <td>No</td>\n",
       "      <td>10.0</td>\n",
       "      <td>Yes</td>\n",
       "      <td>...</td>\n",
       "      <td>I don't want help</td>\n",
       "      <td>No</td>\n",
       "      <td>Out of work but not currently looking for work</td>\n",
       "      <td>unemployed</td>\n",
       "      <td>Some college, no degree</td>\n",
       "      <td>Other exercise</td>\n",
       "      <td>0</td>\n",
       "      <td>1</td>\n",
       "      <td>0</td>\n",
       "      <td>0</td>\n",
       "    </tr>\n",
       "    <tr>\n",
       "      <th>3</th>\n",
       "      <td>Straight</td>\n",
       "      <td>19</td>\n",
       "      <td>$1 to $10,000</td>\n",
       "      <td>White non-Hispanic</td>\n",
       "      <td>Overweight</td>\n",
       "      <td>Yes</td>\n",
       "      <td>Yes</td>\n",
       "      <td>No</td>\n",
       "      <td>8.0</td>\n",
       "      <td>Yes</td>\n",
       "      <td>...</td>\n",
       "      <td>date coaching</td>\n",
       "      <td>No</td>\n",
       "      <td>A student</td>\n",
       "      <td>student</td>\n",
       "      <td>Some college, no degree</td>\n",
       "      <td>Joined a gym/go to the gym</td>\n",
       "      <td>0</td>\n",
       "      <td>1</td>\n",
       "      <td>0</td>\n",
       "      <td>0</td>\n",
       "    </tr>\n",
       "    <tr>\n",
       "      <th>4</th>\n",
       "      <td>Straight</td>\n",
       "      <td>23</td>\n",
       "      <td>$30,000 to $39,999</td>\n",
       "      <td>White non-Hispanic</td>\n",
       "      <td>Overweight</td>\n",
       "      <td>No</td>\n",
       "      <td>No</td>\n",
       "      <td>Yes and I have</td>\n",
       "      <td>10.0</td>\n",
       "      <td>No</td>\n",
       "      <td>...</td>\n",
       "      <td>I don't want help</td>\n",
       "      <td>No</td>\n",
       "      <td>Employed for wages</td>\n",
       "      <td>Factory worker</td>\n",
       "      <td>High school graduate, diploma or the equivalen...</td>\n",
       "      <td>None</td>\n",
       "      <td>0</td>\n",
       "      <td>1</td>\n",
       "      <td>0</td>\n",
       "      <td>0</td>\n",
       "    </tr>\n",
       "  </tbody>\n",
       "</table>\n",
       "<p>5 rows × 21 columns</p>\n",
       "</div>"
      ],
      "text/plain": [
       "  sexuallity  age              income                race     bodyweight  \\\n",
       "0   Straight   35  $30,000 to $39,999  White non-Hispanic  Normal weight   \n",
       "1   Bisexual   21       $1 to $10,000  White non-Hispanic    Underweight   \n",
       "2   Straight   22                  $0  White non-Hispanic     Overweight   \n",
       "3   Straight   19       $1 to $10,000  White non-Hispanic     Overweight   \n",
       "4   Straight   23  $30,000 to $39,999  White non-Hispanic     Overweight   \n",
       "\n",
       "  virgin prostitution_legal     pay_for_sex  friends social_fear  ...  \\\n",
       "0    Yes                 No              No      0.0         Yes  ...   \n",
       "1    Yes                 No              No      0.0         Yes  ...   \n",
       "2    Yes                 No              No     10.0         Yes  ...   \n",
       "3    Yes                Yes              No      8.0         Yes  ...   \n",
       "4     No                 No  Yes and I have     10.0          No  ...   \n",
       "\n",
       "                               what_help_from_others attempt_suicide  \\\n",
       "0           wingman/wingwoman, Set me up with a date             Yes   \n",
       "1  wingman/wingwoman, Set me up with a date, date...              No   \n",
       "2                                  I don't want help              No   \n",
       "3                                      date coaching              No   \n",
       "4                                  I don't want help              No   \n",
       "\n",
       "                                       employment           job_title  \\\n",
       "0                              Employed for wages  mechanical drafter   \n",
       "1                Out of work and looking for work                   -   \n",
       "2  Out of work but not currently looking for work          unemployed   \n",
       "3                                       A student             student   \n",
       "4                              Employed for wages      Factory worker   \n",
       "\n",
       "                                           edu_level  \\\n",
       "0                                   Associate degree   \n",
       "1                            Some college, no degree   \n",
       "2                            Some college, no degree   \n",
       "3                            Some college, no degree   \n",
       "4  High school graduate, diploma or the equivalen...   \n",
       "\n",
       "               improve_yourself_how gender_Female  gender_Male  \\\n",
       "0                              None             0            1   \n",
       "1  join clubs/socual clubs/meet ups             0            1   \n",
       "2                    Other exercise             0            1   \n",
       "3        Joined a gym/go to the gym             0            1   \n",
       "4                              None             0            1   \n",
       "\n",
       "   gender_Transgender female  gender_Transgender male  \n",
       "0                          0                        0  \n",
       "1                          0                        0  \n",
       "2                          0                        0  \n",
       "3                          0                        0  \n",
       "4                          0                        0  \n",
       "\n",
       "[5 rows x 21 columns]"
      ]
     },
     "execution_count": 5,
     "metadata": {
     },
     "output_type": "execute_result"
    }
   ],
   "source": [
    "pd.get_dummies(suicide_risk, columns=[\"gender\"]).head()"
   ]
  },
  {
   "cell_type": "code",
   "execution_count": 6,
   "metadata": {
    "collapsed": false
   },
   "outputs": [
    {
     "data": {
      "text/plain": [
       "gender                    object\n",
       "sexuallity                object\n",
       "age                        int64\n",
       "income                    object\n",
       "race                      object\n",
       "bodyweight                object\n",
       "virgin                    object\n",
       "prostitution_legal        object\n",
       "pay_for_sex               object\n",
       "friends                  float64\n",
       "social_fear               object\n",
       "depressed                 object\n",
       "what_help_from_others     object\n",
       "attempt_suicide           object\n",
       "employment                object\n",
       "job_title                 object\n",
       "edu_level                 object\n",
       "improve_yourself_how      object\n",
       "dtype: object"
      ]
     },
     "execution_count": 6,
     "metadata": {
     },
     "output_type": "execute_result"
    }
   ],
   "source": [
    "suicide_risk.dtypes"
   ]
  },
  {
   "cell_type": "code",
   "execution_count": 7,
   "metadata": {
    "collapsed": false
   },
   "outputs": [
    {
     "data": {
      "text/plain": [
       "gender                    0\n",
       "sexuallity                0\n",
       "age                       0\n",
       "income                    0\n",
       "race                      0\n",
       "bodyweight                0\n",
       "virgin                    0\n",
       "prostitution_legal        0\n",
       "pay_for_sex               0\n",
       "friends                   0\n",
       "social_fear               0\n",
       "depressed                 0\n",
       "what_help_from_others     0\n",
       "attempt_suicide           0\n",
       "employment                0\n",
       "job_title                12\n",
       "edu_level                 0\n",
       "improve_yourself_how      0\n",
       "dtype: int64"
      ]
     },
     "execution_count": 7,
     "metadata": {
     },
     "output_type": "execute_result"
    }
   ],
   "source": [
    "#Label Encoding\n",
    "\n",
    "import pandas as pd\n",
    "import numpy as np\n",
    "suicide_risk.isna().sum()"
   ]
  },
  {
   "cell_type": "code",
   "execution_count": 8,
   "metadata": {
    "collapsed": false
   },
   "outputs": [
    {
     "data": {
      "text/plain": [
       "gender                   0\n",
       "sexuallity               0\n",
       "age                      0\n",
       "income                   0\n",
       "race                     0\n",
       "bodyweight               0\n",
       "virgin                   0\n",
       "prostitution_legal       0\n",
       "pay_for_sex              0\n",
       "friends                  0\n",
       "social_fear              0\n",
       "depressed                0\n",
       "what_help_from_others    0\n",
       "attempt_suicide          0\n",
       "employment               0\n",
       "job_title                0\n",
       "edu_level                0\n",
       "improve_yourself_how     0\n",
       "dtype: int64"
      ]
     },
     "execution_count": 8,
     "metadata": {
     },
     "output_type": "execute_result"
    }
   ],
   "source": [
    "suicide_risk = suicide_risk.dropna()\n",
    "suicide_risk.isna().sum()"
   ]
  },
  {
   "cell_type": "code",
   "execution_count": 9,
   "metadata": {
    "collapsed": false
   },
   "outputs": [
   ],
   "source": [
    "suicide_risk_numeric = suicide_risk.select_dtypes(exclude=np.number).columns"
   ]
  },
  {
   "cell_type": "code",
   "execution_count": 10,
   "metadata": {
    "collapsed": false
   },
   "outputs": [
    {
     "data": {
      "text/html": [
       "<div>\n",
       "<style scoped>\n",
       "    .dataframe tbody tr th:only-of-type {\n",
       "        vertical-align: middle;\n",
       "    }\n",
       "\n",
       "    .dataframe tbody tr th {\n",
       "        vertical-align: top;\n",
       "    }\n",
       "\n",
       "    .dataframe thead th {\n",
       "        text-align: right;\n",
       "    }\n",
       "</style>\n",
       "<table border=\"1\" class=\"dataframe\">\n",
       "  <thead>\n",
       "    <tr style=\"text-align: right;\">\n",
       "      <th></th>\n",
       "      <th>gender</th>\n",
       "      <th>sexuallity</th>\n",
       "      <th>income</th>\n",
       "      <th>race</th>\n",
       "      <th>bodyweight</th>\n",
       "      <th>virgin</th>\n",
       "      <th>prostitution_legal</th>\n",
       "      <th>pay_for_sex</th>\n",
       "      <th>social_fear</th>\n",
       "      <th>depressed</th>\n",
       "      <th>what_help_from_others</th>\n",
       "      <th>attempt_suicide</th>\n",
       "      <th>employment</th>\n",
       "      <th>job_title</th>\n",
       "      <th>edu_level</th>\n",
       "      <th>improve_yourself_how</th>\n",
       "    </tr>\n",
       "  </thead>\n",
       "  <tbody>\n",
       "    <tr>\n",
       "      <th>0</th>\n",
       "      <td>Male</td>\n",
       "      <td>Straight</td>\n",
       "      <td>$30,000 to $39,999</td>\n",
       "      <td>White non-Hispanic</td>\n",
       "      <td>Normal weight</td>\n",
       "      <td>Yes</td>\n",
       "      <td>No</td>\n",
       "      <td>No</td>\n",
       "      <td>Yes</td>\n",
       "      <td>Yes</td>\n",
       "      <td>wingman/wingwoman, Set me up with a date</td>\n",
       "      <td>Yes</td>\n",
       "      <td>Employed for wages</td>\n",
       "      <td>mechanical drafter</td>\n",
       "      <td>Associate degree</td>\n",
       "      <td>None</td>\n",
       "    </tr>\n",
       "    <tr>\n",
       "      <th>1</th>\n",
       "      <td>Male</td>\n",
       "      <td>Bisexual</td>\n",
       "      <td>$1 to $10,000</td>\n",
       "      <td>White non-Hispanic</td>\n",
       "      <td>Underweight</td>\n",
       "      <td>Yes</td>\n",
       "      <td>No</td>\n",
       "      <td>No</td>\n",
       "      <td>Yes</td>\n",
       "      <td>Yes</td>\n",
       "      <td>wingman/wingwoman, Set me up with a date, date...</td>\n",
       "      <td>No</td>\n",
       "      <td>Out of work and looking for work</td>\n",
       "      <td>-</td>\n",
       "      <td>Some college, no degree</td>\n",
       "      <td>join clubs/socual clubs/meet ups</td>\n",
       "    </tr>\n",
       "    <tr>\n",
       "      <th>2</th>\n",
       "      <td>Male</td>\n",
       "      <td>Straight</td>\n",
       "      <td>$0</td>\n",
       "      <td>White non-Hispanic</td>\n",
       "      <td>Overweight</td>\n",
       "      <td>Yes</td>\n",
       "      <td>No</td>\n",
       "      <td>No</td>\n",
       "      <td>Yes</td>\n",
       "      <td>Yes</td>\n",
       "      <td>I don't want help</td>\n",
       "      <td>No</td>\n",
       "      <td>Out of work but not currently looking for work</td>\n",
       "      <td>unemployed</td>\n",
       "      <td>Some college, no degree</td>\n",
       "      <td>Other exercise</td>\n",
       "    </tr>\n",
       "    <tr>\n",
       "      <th>3</th>\n",
       "      <td>Male</td>\n",
       "      <td>Straight</td>\n",
       "      <td>$1 to $10,000</td>\n",
       "      <td>White non-Hispanic</td>\n",
       "      <td>Overweight</td>\n",
       "      <td>Yes</td>\n",
       "      <td>Yes</td>\n",
       "      <td>No</td>\n",
       "      <td>Yes</td>\n",
       "      <td>Yes</td>\n",
       "      <td>date coaching</td>\n",
       "      <td>No</td>\n",
       "      <td>A student</td>\n",
       "      <td>student</td>\n",
       "      <td>Some college, no degree</td>\n",
       "      <td>Joined a gym/go to the gym</td>\n",
       "    </tr>\n",
       "    <tr>\n",
       "      <th>4</th>\n",
       "      <td>Male</td>\n",
       "      <td>Straight</td>\n",
       "      <td>$30,000 to $39,999</td>\n",
       "      <td>White non-Hispanic</td>\n",
       "      <td>Overweight</td>\n",
       "      <td>No</td>\n",
       "      <td>No</td>\n",
       "      <td>Yes and I have</td>\n",
       "      <td>No</td>\n",
       "      <td>Yes</td>\n",
       "      <td>I don't want help</td>\n",
       "      <td>No</td>\n",
       "      <td>Employed for wages</td>\n",
       "      <td>Factory worker</td>\n",
       "      <td>High school graduate, diploma or the equivalen...</td>\n",
       "      <td>None</td>\n",
       "    </tr>\n",
       "  </tbody>\n",
       "</table>\n",
       "</div>"
      ],
      "text/plain": [
       "  gender sexuallity              income                race     bodyweight  \\\n",
       "0   Male   Straight  $30,000 to $39,999  White non-Hispanic  Normal weight   \n",
       "1   Male   Bisexual       $1 to $10,000  White non-Hispanic    Underweight   \n",
       "2   Male   Straight                  $0  White non-Hispanic     Overweight   \n",
       "3   Male   Straight       $1 to $10,000  White non-Hispanic     Overweight   \n",
       "4   Male   Straight  $30,000 to $39,999  White non-Hispanic     Overweight   \n",
       "\n",
       "  virgin prostitution_legal     pay_for_sex social_fear depressed  \\\n",
       "0    Yes                 No              No         Yes       Yes   \n",
       "1    Yes                 No              No         Yes       Yes   \n",
       "2    Yes                 No              No         Yes       Yes   \n",
       "3    Yes                Yes              No         Yes       Yes   \n",
       "4     No                 No  Yes and I have          No       Yes   \n",
       "\n",
       "                               what_help_from_others attempt_suicide  \\\n",
       "0           wingman/wingwoman, Set me up with a date             Yes   \n",
       "1  wingman/wingwoman, Set me up with a date, date...              No   \n",
       "2                                  I don't want help              No   \n",
       "3                                      date coaching              No   \n",
       "4                                  I don't want help              No   \n",
       "\n",
       "                                       employment           job_title  \\\n",
       "0                              Employed for wages  mechanical drafter   \n",
       "1                Out of work and looking for work                   -   \n",
       "2  Out of work but not currently looking for work          unemployed   \n",
       "3                                       A student             student   \n",
       "4                              Employed for wages      Factory worker   \n",
       "\n",
       "                                           edu_level  \\\n",
       "0                                   Associate degree   \n",
       "1                            Some college, no degree   \n",
       "2                            Some college, no degree   \n",
       "3                            Some college, no degree   \n",
       "4  High school graduate, diploma or the equivalen...   \n",
       "\n",
       "               improve_yourself_how  \n",
       "0                              None  \n",
       "1  join clubs/socual clubs/meet ups  \n",
       "2                    Other exercise  \n",
       "3        Joined a gym/go to the gym  \n",
       "4                              None  "
      ]
     },
     "execution_count": 10,
     "metadata": {
     },
     "output_type": "execute_result"
    }
   ],
   "source": [
    "suicide_risk[suicide_risk_numeric].head()"
   ]
  },
  {
   "cell_type": "code",
   "execution_count": 11,
   "metadata": {
    "collapsed": false
   },
   "outputs": [
    {
     "data": {
      "text/plain": [
       "Index(['gender', 'sexuallity', 'income', 'race', 'bodyweight', 'virgin',\n",
       "       'prostitution_legal', 'pay_for_sex', 'social_fear', 'depressed',\n",
       "       'what_help_from_others', 'attempt_suicide', 'employment', 'job_title',\n",
       "       'edu_level', 'improve_yourself_how'],\n",
       "      dtype='object')"
      ]
     },
     "execution_count": 11,
     "metadata": {
     },
     "output_type": "execute_result"
    }
   ],
   "source": [
    "suicide_risk_numeric"
   ]
  },
  {
   "cell_type": "code",
   "execution_count": 12,
   "metadata": {
    "collapsed": false
   },
   "outputs": [
    {
     "name": "stdout",
     "output_type": "stream",
     "text": [
      "Encoded data\n"
     ]
    },
    {
     "data": {
      "text/html": [
       "<div>\n",
       "<style scoped>\n",
       "    .dataframe tbody tr th:only-of-type {\n",
       "        vertical-align: middle;\n",
       "    }\n",
       "\n",
       "    .dataframe tbody tr th {\n",
       "        vertical-align: top;\n",
       "    }\n",
       "\n",
       "    .dataframe thead th {\n",
       "        text-align: right;\n",
       "    }\n",
       "</style>\n",
       "<table border=\"1\" class=\"dataframe\">\n",
       "  <thead>\n",
       "    <tr style=\"text-align: right;\">\n",
       "      <th></th>\n",
       "      <th>gender</th>\n",
       "      <th>sexuallity</th>\n",
       "      <th>age</th>\n",
       "      <th>income</th>\n",
       "      <th>race</th>\n",
       "      <th>bodyweight</th>\n",
       "      <th>virgin</th>\n",
       "      <th>prostitution_legal</th>\n",
       "      <th>pay_for_sex</th>\n",
       "      <th>friends</th>\n",
       "      <th>social_fear</th>\n",
       "      <th>depressed</th>\n",
       "      <th>what_help_from_others</th>\n",
       "      <th>attempt_suicide</th>\n",
       "      <th>employment</th>\n",
       "      <th>job_title</th>\n",
       "      <th>edu_level</th>\n",
       "      <th>improve_yourself_how</th>\n",
       "    </tr>\n",
       "  </thead>\n",
       "  <tbody>\n",
       "    <tr>\n",
       "      <th>0</th>\n",
       "      <td>1</td>\n",
       "      <td>2</td>\n",
       "      <td>35</td>\n",
       "      <td>9</td>\n",
       "      <td>16</td>\n",
       "      <td>0</td>\n",
       "      <td>1</td>\n",
       "      <td>0</td>\n",
       "      <td>0</td>\n",
       "      <td>0.0</td>\n",
       "      <td>1</td>\n",
       "      <td>1</td>\n",
       "      <td>36</td>\n",
       "      <td>1</td>\n",
       "      <td>2</td>\n",
       "      <td>242</td>\n",
       "      <td>0</td>\n",
       "      <td>32</td>\n",
       "    </tr>\n",
       "    <tr>\n",
       "      <th>1</th>\n",
       "      <td>1</td>\n",
       "      <td>0</td>\n",
       "      <td>21</td>\n",
       "      <td>1</td>\n",
       "      <td>16</td>\n",
       "      <td>3</td>\n",
       "      <td>1</td>\n",
       "      <td>0</td>\n",
       "      <td>0</td>\n",
       "      <td>0.0</td>\n",
       "      <td>1</td>\n",
       "      <td>1</td>\n",
       "      <td>40</td>\n",
       "      <td>0</td>\n",
       "      <td>4</td>\n",
       "      <td>4</td>\n",
       "      <td>6</td>\n",
       "      <td>57</td>\n",
       "    </tr>\n",
       "    <tr>\n",
       "      <th>2</th>\n",
       "      <td>1</td>\n",
       "      <td>2</td>\n",
       "      <td>22</td>\n",
       "      <td>0</td>\n",
       "      <td>16</td>\n",
       "      <td>2</td>\n",
       "      <td>1</td>\n",
       "      <td>0</td>\n",
       "      <td>0</td>\n",
       "      <td>10.0</td>\n",
       "      <td>1</td>\n",
       "      <td>1</td>\n",
       "      <td>5</td>\n",
       "      <td>0</td>\n",
       "      <td>5</td>\n",
       "      <td>271</td>\n",
       "      <td>6</td>\n",
       "      <td>35</td>\n",
       "    </tr>\n",
       "    <tr>\n",
       "      <th>3</th>\n",
       "      <td>1</td>\n",
       "      <td>2</td>\n",
       "      <td>19</td>\n",
       "      <td>1</td>\n",
       "      <td>16</td>\n",
       "      <td>2</td>\n",
       "      <td>1</td>\n",
       "      <td>1</td>\n",
       "      <td>0</td>\n",
       "      <td>8.0</td>\n",
       "      <td>1</td>\n",
       "      <td>1</td>\n",
       "      <td>26</td>\n",
       "      <td>0</td>\n",
       "      <td>1</td>\n",
       "      <td>262</td>\n",
       "      <td>6</td>\n",
       "      <td>14</td>\n",
       "    </tr>\n",
       "    <tr>\n",
       "      <th>4</th>\n",
       "      <td>1</td>\n",
       "      <td>2</td>\n",
       "      <td>23</td>\n",
       "      <td>9</td>\n",
       "      <td>16</td>\n",
       "      <td>2</td>\n",
       "      <td>0</td>\n",
       "      <td>0</td>\n",
       "      <td>1</td>\n",
       "      <td>10.0</td>\n",
       "      <td>0</td>\n",
       "      <td>1</td>\n",
       "      <td>5</td>\n",
       "      <td>0</td>\n",
       "      <td>2</td>\n",
       "      <td>61</td>\n",
       "      <td>3</td>\n",
       "      <td>32</td>\n",
       "    </tr>\n",
       "  </tbody>\n",
       "</table>\n",
       "</div>"
      ],
      "text/plain": [
       "   gender  sexuallity  age  income  race  bodyweight  virgin  \\\n",
       "0       1           2   35       9    16           0       1   \n",
       "1       1           0   21       1    16           3       1   \n",
       "2       1           2   22       0    16           2       1   \n",
       "3       1           2   19       1    16           2       1   \n",
       "4       1           2   23       9    16           2       0   \n",
       "\n",
       "   prostitution_legal  pay_for_sex  friends  social_fear  depressed  \\\n",
       "0                   0            0      0.0            1          1   \n",
       "1                   0            0      0.0            1          1   \n",
       "2                   0            0     10.0            1          1   \n",
       "3                   1            0      8.0            1          1   \n",
       "4                   0            1     10.0            0          1   \n",
       "\n",
       "   what_help_from_others  attempt_suicide  employment  job_title  edu_level  \\\n",
       "0                     36                1           2        242          0   \n",
       "1                     40                0           4          4          6   \n",
       "2                      5                0           5        271          6   \n",
       "3                     26                0           1        262          6   \n",
       "4                      5                0           2         61          3   \n",
       "\n",
       "   improve_yourself_how  \n",
       "0                    32  \n",
       "1                    57  \n",
       "2                    35  \n",
       "3                    14  \n",
       "4                    32  "
      ]
     },
     "execution_count": 12,
     "metadata": {
     },
     "output_type": "execute_result"
    }
   ],
   "source": [
    "from sklearn.preprocessing import LabelEncoder\n",
    "label_encoder = LabelEncoder()\n",
    "for i in suicide_risk_numeric:\n",
    "    suicide_risk[i] = label_encoder.fit_transform(suicide_risk[i])\n",
    "print(\"Encoded data\")\n",
    "suicide_risk.head()"
   ]
  },
  {
   "cell_type": "code",
   "execution_count": 13,
   "metadata": {
    "collapsed": false
   },
   "outputs": [
    {
     "data": {
      "text/plain": [
       "0    372\n",
       "1     85\n",
       "Name: attempt_suicide, dtype: int64"
      ]
     },
     "execution_count": 13,
     "metadata": {
     },
     "output_type": "execute_result"
    }
   ],
   "source": [
    "suicide_risk[\"attempt_suicide\"].value_counts()"
   ]
  },
  {
   "cell_type": "code",
   "execution_count": 14,
   "metadata": {
    "collapsed": false
   },
   "outputs": [
   ],
   "source": [
    "#Target\n",
    "target = suicide_risk[\"attempt_suicide\"]\n",
    "\n",
    "input_columns = suicide_risk.loc[:, suicide_risk.columns != \"attempt_suicide\"]\n",
    "\n",
    "#Split\n",
    "from sklearn.model_selection import train_test_split\n",
    "\n",
    "#Train\n",
    "x_train, x_test, y_train, y_test = train_test_split(input_columns, target, test_size=0.2)"
   ]
  },
  {
   "cell_type": "code",
   "execution_count": 15,
   "metadata": {
    "collapsed": false
   },
   "outputs": [
    {
     "data": {
      "text/html": [
       "<style>#sk-container-id-1 {color: black;background-color: white;}#sk-container-id-1 pre{padding: 0;}#sk-container-id-1 div.sk-toggleable {background-color: white;}#sk-container-id-1 label.sk-toggleable__label {cursor: pointer;display: block;width: 100%;margin-bottom: 0;padding: 0.3em;box-sizing: border-box;text-align: center;}#sk-container-id-1 label.sk-toggleable__label-arrow:before {content: \"▸\";float: left;margin-right: 0.25em;color: #696969;}#sk-container-id-1 label.sk-toggleable__label-arrow:hover:before {color: black;}#sk-container-id-1 div.sk-estimator:hover label.sk-toggleable__label-arrow:before {color: black;}#sk-container-id-1 div.sk-toggleable__content {max-height: 0;max-width: 0;overflow: hidden;text-align: left;background-color: #f0f8ff;}#sk-container-id-1 div.sk-toggleable__content pre {margin: 0.2em;color: black;border-radius: 0.25em;background-color: #f0f8ff;}#sk-container-id-1 input.sk-toggleable__control:checked~div.sk-toggleable__content {max-height: 200px;max-width: 100%;overflow: auto;}#sk-container-id-1 input.sk-toggleable__control:checked~label.sk-toggleable__label-arrow:before {content: \"▾\";}#sk-container-id-1 div.sk-estimator input.sk-toggleable__control:checked~label.sk-toggleable__label {background-color: #d4ebff;}#sk-container-id-1 div.sk-label input.sk-toggleable__control:checked~label.sk-toggleable__label {background-color: #d4ebff;}#sk-container-id-1 input.sk-hidden--visually {border: 0;clip: rect(1px 1px 1px 1px);clip: rect(1px, 1px, 1px, 1px);height: 1px;margin: -1px;overflow: hidden;padding: 0;position: absolute;width: 1px;}#sk-container-id-1 div.sk-estimator {font-family: monospace;background-color: #f0f8ff;border: 1px dotted black;border-radius: 0.25em;box-sizing: border-box;margin-bottom: 0.5em;}#sk-container-id-1 div.sk-estimator:hover {background-color: #d4ebff;}#sk-container-id-1 div.sk-parallel-item::after {content: \"\";width: 100%;border-bottom: 1px solid gray;flex-grow: 1;}#sk-container-id-1 div.sk-label:hover label.sk-toggleable__label {background-color: #d4ebff;}#sk-container-id-1 div.sk-serial::before {content: \"\";position: absolute;border-left: 1px solid gray;box-sizing: border-box;top: 0;bottom: 0;left: 50%;z-index: 0;}#sk-container-id-1 div.sk-serial {display: flex;flex-direction: column;align-items: center;background-color: white;padding-right: 0.2em;padding-left: 0.2em;position: relative;}#sk-container-id-1 div.sk-item {position: relative;z-index: 1;}#sk-container-id-1 div.sk-parallel {display: flex;align-items: stretch;justify-content: center;background-color: white;position: relative;}#sk-container-id-1 div.sk-item::before, #sk-container-id-1 div.sk-parallel-item::before {content: \"\";position: absolute;border-left: 1px solid gray;box-sizing: border-box;top: 0;bottom: 0;left: 50%;z-index: -1;}#sk-container-id-1 div.sk-parallel-item {display: flex;flex-direction: column;z-index: 1;position: relative;background-color: white;}#sk-container-id-1 div.sk-parallel-item:first-child::after {align-self: flex-end;width: 50%;}#sk-container-id-1 div.sk-parallel-item:last-child::after {align-self: flex-start;width: 50%;}#sk-container-id-1 div.sk-parallel-item:only-child::after {width: 0;}#sk-container-id-1 div.sk-dashed-wrapped {border: 1px dashed gray;margin: 0 0.4em 0.5em 0.4em;box-sizing: border-box;padding-bottom: 0.4em;background-color: white;}#sk-container-id-1 div.sk-label label {font-family: monospace;font-weight: bold;display: inline-block;line-height: 1.2em;}#sk-container-id-1 div.sk-label-container {text-align: center;}#sk-container-id-1 div.sk-container {/* jupyter's `normalize.less` sets `[hidden] { display: none; }` but bootstrap.min.css set `[hidden] { display: none !important; }` so we also need the `!important` here to be able to override the default hidden behavior on the sphinx rendered scikit-learn.org. See: https://github.com/scikit-learn/scikit-learn/issues/21755 */display: inline-block !important;position: relative;}#sk-container-id-1 div.sk-text-repr-fallback {display: none;}</style><div id=\"sk-container-id-1\" class=\"sk-top-container\"><div class=\"sk-text-repr-fallback\"><pre>SVC()</pre><b>In a Jupyter environment, please rerun this cell to show the HTML representation or trust the notebook. <br />On GitHub, the HTML representation is unable to render, please try loading this page with nbviewer.org.</b></div><div class=\"sk-container\" hidden><div class=\"sk-item\"><div class=\"sk-estimator sk-toggleable\"><input class=\"sk-toggleable__control sk-hidden--visually\" id=\"sk-estimator-id-1\" type=\"checkbox\" checked><label for=\"sk-estimator-id-1\" class=\"sk-toggleable__label sk-toggleable__label-arrow\">SVC</label><div class=\"sk-toggleable__content\"><pre>SVC()</pre></div></div></div></div></div>"
      ],
      "text/plain": [
       "SVC()"
      ]
     },
     "execution_count": 15,
     "metadata": {
     },
     "output_type": "execute_result"
    }
   ],
   "source": [
    "#Fit Data\n",
    "\n",
    "my_model.fit(x_train, y_train)"
   ]
  },
  {
   "cell_type": "code",
   "execution_count": 16,
   "metadata": {
    "collapsed": false
   },
   "outputs": [
   ],
   "source": [
    "#Predictions\n",
    "\n",
    "y_hat = my_model.predict(x_test)"
   ]
  },
  {
   "cell_type": "code",
   "execution_count": 17,
   "metadata": {
    "collapsed": false
   },
   "outputs": [
    {
     "data": {
      "text/plain": [
       "array([0, 0, 0, 0, 0, 0, 0, 0, 0, 0, 0, 0, 0, 0, 0, 0, 0, 0, 0, 0, 0, 0,\n",
       "       0, 0, 0, 0, 0, 0, 0, 0, 0, 0, 0, 0, 0, 0, 0, 0, 0, 0, 0, 0, 0, 0,\n",
       "       0, 0, 0, 0, 0, 0, 0, 0, 0, 0, 0, 0, 0, 0, 0, 0, 0, 0, 0, 0, 0, 0,\n",
       "       0, 0, 0, 0, 0, 0, 0, 0, 0, 0, 0, 0, 0, 0, 0, 0, 0, 0, 0, 0, 0, 0,\n",
       "       0, 0, 0, 0])"
      ]
     },
     "execution_count": 17,
     "metadata": {
     },
     "output_type": "execute_result"
    }
   ],
   "source": [
    "y_hat"
   ]
  },
  {
   "cell_type": "code",
   "execution_count": 18,
   "metadata": {
    "collapsed": false
   },
   "outputs": [
    {
     "data": {
      "text/plain": [
       "array([0, 1, 0, 0, 1, 0, 1, 0, 0, 1, 0, 0, 0, 0, 0, 0, 0, 0, 0, 0, 0, 0,\n",
       "       0, 0, 0, 0, 0, 0, 0, 1, 0, 0, 0, 0, 0, 0, 0, 0, 0, 1, 0, 0, 0, 0,\n",
       "       0, 0, 0, 0, 0, 1, 0, 0, 0, 0, 0, 0, 0, 0, 0, 1, 0, 0, 1, 0, 0, 0,\n",
       "       0, 0, 0, 0, 0, 0, 0, 0, 0, 0, 0, 0, 1, 0, 0, 0, 0, 0, 0, 1, 0, 0,\n",
       "       0, 0, 0, 0])"
      ]
     },
     "execution_count": 18,
     "metadata": {
     },
     "output_type": "execute_result"
    }
   ],
   "source": [
    "np.array(y_test)"
   ]
  },
  {
   "cell_type": "code",
   "execution_count": 19,
   "metadata": {
    "collapsed": false
   },
   "outputs": [
    {
     "name": "stdout",
     "output_type": "stream",
     "text": [
      "0.11956521739130435\n"
     ]
    }
   ],
   "source": [
    "#MSE\n",
    "\n",
    "total_squared_error = (np.sum((y_test - y_hat)**2))\n",
    "mean_squared_error = total_squared_error/len(y_test)\n",
    "print(mean_squared_error)"
   ]
  },
  {
   "cell_type": "code",
   "execution_count": 20,
   "metadata": {
    "collapsed": false
   },
   "outputs": [
    {
     "data": {
      "text/plain": [
       "<AxesSubplot:>"
      ]
     },
     "execution_count": 20,
     "metadata": {
     },
     "output_type": "execute_result"
    },
    {
     "data": {
      "image/png": "[encoded data removed]",
      "text/plain": [
       "<Figure size 432x288 with 2 Axes>"
      ]
     },
     "execution_count": 20,
     "metadata": {
      "needs_background": "light"
     },
     "output_type": "execute_result"
    }
   ],
   "source": [
    "#Confusion Matrix\n",
    "\n",
    "from sklearn.metrics import confusion_matrix\n",
    "import seaborn as sns\n",
    "sns.heatmap(confusion_matrix(y_test, y_hat), annot=True, fmt='g', cmap = 'coolwarm')"
   ]
  },
  {
   "cell_type": "code",
   "execution_count": 0,
   "metadata": {
    "collapsed": false
   },
   "outputs": [
   ],
   "source": [
   ]
  },
  {
   "cell_type": "code",
   "execution_count": 0,
   "metadata": {
    "collapsed": false
   },
   "outputs": [
   ],
   "source": [
   ]
  },
  {
   "cell_type": "code",
   "execution_count": 0,
   "metadata": {
    "collapsed": false
   },
   "outputs": [
   ],
   "source": [
   ]
  },
  {
   "cell_type": "code",
   "execution_count": 0,
   "metadata": {
    "collapsed": false
   },
   "outputs": [
   ],
   "source": [
   ]
  },
  {
   "cell_type": "code",
   "execution_count": 0,
   "metadata": {
    "collapsed": false
   },
   "outputs": [
   ],
   "source": [
   ]
  },
  {
   "cell_type": "code",
   "execution_count": 0,
   "metadata": {
    "collapsed": false
   },
   "outputs": [
   ],
   "source": [
   ]
  },
  {
   "cell_type": "code",
   "execution_count": 0,
   "metadata": {
    "collapsed": false
   },
   "outputs": [
   ],
   "source": [
   ]
  },
  {
   "cell_type": "code",
   "execution_count": 0,
   "metadata": {
    "collapsed": false
   },
   "outputs": [
   ],
   "source": [
   ]
  },
  {
   "cell_type": "code",
   "execution_count": 0,
   "metadata": {
    "collapsed": false
   },
   "outputs": [
   ],
   "source": [
   ]
  },
  {
   "cell_type": "code",
   "execution_count": 0,
   "metadata": {
    "collapsed": false
   },
   "outputs": [
   ],
   "source": [
   ]
  },
  {
   "cell_type": "code",
   "execution_count": 0,
   "metadata": {
    "collapsed": false
   },
   "outputs": [
   ],
   "source": [
   ]
  },
  {
   "cell_type": "code",
   "execution_count": 0,
   "metadata": {
    "collapsed": false
   },
   "outputs": [
   ],
   "source": [
   ]
  },
  {
   "cell_type": "code",
   "execution_count": 0,
   "metadata": {
    "collapsed": false
   },
   "outputs": [
   ],
   "source": [
   ]
  },
  {
   "cell_type": "code",
   "execution_count": 0,
   "metadata": {
    "collapsed": false
   },
   "outputs": [
   ],
   "source": [
   ]
  },
  {
   "cell_type": "code",
   "execution_count": 0,
   "metadata": {
    "collapsed": false
   },
   "outputs": [
   ],
   "source": [
    "import plotly.plotly as py\n",
    "import plotly.graph_objs as go\n",
    "import pandas as pd\n",
    "from plotly.offline import download_plotlyjs, init_notebook_mode, iplot, plot\n",
    "happiness_report(connected = True)\n",
    "data = dict(type = 'choropleth',\n",
    "locations = ['Netherlands', 'Brazil', 'Ireland'],\n",
    "    locationmode = 'World',"
   ]
  },
  {
   "cell_type": "code",
   "execution_count": 0,
   "metadata": {
    "collapsed": false
   },
   "outputs": [
   ],
   "source": [
   ]
  },
  {
   "cell_type": "code",
   "execution_count": 0,
   "metadata": {
    "collapsed": false
   },
   "outputs": [
   ],
   "source": [
    "suicide_risk.head()"
   ]
  },
  {
   "cell_type": "code",
   "execution_count": 0,
   "metadata": {
    "collapsed": false
   },
   "outputs": [
   ],
   "source": [
    "#suicide_risk = suicide_risk.replace({'gender':  {'Transgender male': 3, 'Transgender female': 2, 'Male': 1, 'Female': 0}})\n",
    "#suicide_risk = suicide_risk.replace({'race': {'other': 3, 'Hispanic': 2, 'Asian': 1, 'White non-Hispanic': 0}})\n",
    "#suicide_risk = suicide_risk.replace({'sexuallity':  {'Gay/Lesbian': 2, 'Bisexual': 1, 'Straight': 0}})\n",
    "#suicide_risk = suicide_risk.replace({'virgin':  {'Yes': 1, 'No': 0}})\n",
    "#suicide_risk = suicide_risk.replace({'prostitution_legal':  {'Yes': 1, 'No': 0}})\n",
    "#suicide_risk = suicide_risk.replace({'virgin':  {'Yes': 1, 'No': 0}})"
   ]
  },
  {
   "cell_type": "code",
   "execution_count": 0,
   "metadata": {
    "collapsed": false
   },
   "outputs": [
   ],
   "source": [
    "suicide_risk['race'].value_counts()"
   ]
  },
  {
   "cell_type": "code",
   "execution_count": 0,
   "metadata": {
    "collapsed": false
   },
   "outputs": [
   ],
   "source": [
    "suicide_risk_testing = pd.read_csv(\"foreveralone.csv\")"
   ]
  },
  {
   "cell_type": "code",
   "execution_count": 0,
   "metadata": {
    "collapsed": false
   },
   "outputs": [
   ],
   "source": [
    "races_df = pd.DataFrame(suicide_risk[\"race\"].index)"
   ]
  },
  {
   "cell_type": "code",
   "execution_count": 0,
   "metadata": {
    "collapsed": false
   },
   "outputs": [
   ],
   "source": [
    "races_df"
   ]
  },
  {
   "cell_type": "code",
   "execution_count": 0,
   "metadata": {
    "collapsed": false
   },
   "outputs": [
   ],
   "source": [
    "race_freq"
   ]
  },
  {
   "cell_type": "code",
   "execution_count": 0,
   "metadata": {
    "collapsed": false
   },
   "outputs": [
   ],
   "source": [
    "#le = LabelEncoder()\n",
    "#new_colm = fit_transform(suicide_risk[\"race\"])\n",
    "\n",
    "try_df =pd.read_csv(\"foreveralone.csv\")\n",
    "race_freq = (try_df['race'].value_counts())/try_df.shape[0]\n",
    "other_races = race_freq.quantile(q=0.50)\n",
    "less_freq_race = race_freq[race_freq<=0.006397]\n",
    "try_df.loc[try_df['race'].isin(less_freq_race.index.tolist()), \"race\"] = \"other\"\n",
    "#suicide_risk_testing['race'].head(20)"
   ]
  },
  {
   "cell_type": "code",
   "execution_count": 0,
   "metadata": {
    "collapsed": false
   },
   "outputs": [
   ],
   "source": [
    "race_freq"
   ]
  },
  {
   "cell_type": "code",
   "execution_count": 0,
   "metadata": {
    "collapsed": false
   },
   "outputs": [
   ],
   "source": [
    "other_races"
   ]
  },
  {
   "cell_type": "code",
   "execution_count": 0,
   "metadata": {
    "collapsed": false
   },
   "outputs": [
   ],
   "source": [
    "try_df.race.value_counts()"
   ]
  },
  {
   "cell_type": "code",
   "execution_count": 0,
   "metadata": {
    "collapsed": false
   },
   "outputs": [
   ],
   "source": [
    "suicide_risk_testing[\"race\"].value_counts()"
   ]
  },
  {
   "cell_type": "code",
   "execution_count": 0,
   "metadata": {
    "collapsed": false
   },
   "outputs": [
   ],
   "source": [
    "\n",
    "suicide_risk_testing.head(30)"
   ]
  },
  {
   "cell_type": "code",
   "execution_count": 0,
   "metadata": {
    "collapsed": false
   },
   "outputs": [
   ],
   "source": [
    "suicide_risk_test.head(30)"
   ]
  },
  {
   "cell_type": "code",
   "execution_count": 0,
   "metadata": {
    "collapsed": false
   },
   "outputs": [
   ],
   "source": [
   ]
  },
  {
   "cell_type": "code",
   "execution_count": 0,
   "metadata": {
    "collapsed": false
   },
   "outputs": [
   ],
   "source": [
   ]
  },
  {
   "cell_type": "code",
   "execution_count": 12,
   "metadata": {
    "collapsed": false
   },
   "outputs": [
    {
     "ename": "ValueError",
     "evalue": "`kind` must be one of ['scatter', 'hist', 'hex', 'kde', 'reg', 'resid'], but Deppresion was passed.`",
     "output_type": "error",
     "traceback": [
      "\u001b[0;31m---------------------------------------------------------------------------\u001b[0m",
      "\u001b[0;31mValueError\u001b[0m                                Traceback (most recent call last)",
      "Input \u001b[0;32mIn [12]\u001b[0m, in \u001b[0;36m<cell line: 5>\u001b[0;34m()\u001b[0m\n\u001b[1;32m      2\u001b[0m \u001b[38;5;28;01mimport\u001b[39;00m \u001b[38;5;21;01mmatplotlib\u001b[39;00m\u001b[38;5;21;01m.\u001b[39;00m\u001b[38;5;21;01mpyplot\u001b[39;00m \u001b[38;5;28;01mas\u001b[39;00m \u001b[38;5;21;01mplt\u001b[39;00m\n\u001b[1;32m      3\u001b[0m df \u001b[38;5;241m=\u001b[39m sns\u001b[38;5;241m.\u001b[39mload_dataset(\u001b[38;5;124m'\u001b[39m\u001b[38;5;124miris\u001b[39m\u001b[38;5;124m'\u001b[39m)\n\u001b[0;32m----> 5\u001b[0m \u001b[43msns\u001b[49m\u001b[38;5;241;43m.\u001b[39;49m\u001b[43mjointplot\u001b[49m\u001b[43m(\u001b[49m\u001b[43mx\u001b[49m\u001b[38;5;241;43m=\u001b[39;49m\u001b[43mdf\u001b[49m\u001b[43m[\u001b[49m\u001b[38;5;124;43m\"\u001b[39;49m\u001b[38;5;124;43msepal_length\u001b[39;49m\u001b[38;5;124;43m\"\u001b[39;49m\u001b[43m]\u001b[49m\u001b[43m,\u001b[49m\u001b[43m \u001b[49m\u001b[43my\u001b[49m\u001b[38;5;241;43m=\u001b[39;49m\u001b[43mdf\u001b[49m\u001b[43m[\u001b[49m\u001b[38;5;124;43m\"\u001b[39;49m\u001b[38;5;124;43msepal_width\u001b[39;49m\u001b[38;5;124;43m\"\u001b[39;49m\u001b[43m]\u001b[49m\u001b[43m,\u001b[49m\u001b[43m \u001b[49m\u001b[43mkind\u001b[49m\u001b[38;5;241;43m=\u001b[39;49m\u001b[38;5;124;43m'\u001b[39;49m\u001b[38;5;124;43mDeppresion\u001b[39;49m\u001b[38;5;124;43m'\u001b[39;49m\u001b[43m)\u001b[49m\n\u001b[1;32m      6\u001b[0m sns\u001b[38;5;241m.\u001b[39mjointplot(x\u001b[38;5;241m=\u001b[39mdf[\u001b[38;5;124m\"\u001b[39m\u001b[38;5;124msepal_length\u001b[39m\u001b[38;5;124m\"\u001b[39m], y\u001b[38;5;241m=\u001b[39mdf[\u001b[38;5;124m\"\u001b[39m\u001b[38;5;124msepal_width\u001b[39m\u001b[38;5;124m\"\u001b[39m], kind\u001b[38;5;241m=\u001b[39m\u001b[38;5;124m'\u001b[39m\u001b[38;5;124mFriends\u001b[39m\u001b[38;5;124m'\u001b[39m)\n\u001b[1;32m      7\u001b[0m sns\u001b[38;5;241m.\u001b[39mjointplot(x\u001b[38;5;241m=\u001b[39mdf[\u001b[38;5;124m\"\u001b[39m\u001b[38;5;124msepal_length\u001b[39m\u001b[38;5;124m\"\u001b[39m], y\u001b[38;5;241m=\u001b[39mdf[\u001b[38;5;124m\"\u001b[39m\u001b[38;5;124msepal_width\u001b[39m\u001b[38;5;124m\"\u001b[39m], kind\u001b[38;5;241m=\u001b[39m\u001b[38;5;124m'\u001b[39m\u001b[38;5;124mWeight\u001b[39m\u001b[38;5;124m'\u001b[39m)\n",
      "File \u001b[0;32m~/miniconda3/envs/ds_env/lib/python3.8/site-packages/seaborn/_decorators.py:46\u001b[0m, in \u001b[0;36m_deprecate_positional_args.<locals>.inner_f\u001b[0;34m(*args, **kwargs)\u001b[0m\n\u001b[1;32m     36\u001b[0m     warnings\u001b[38;5;241m.\u001b[39mwarn(\n\u001b[1;32m     37\u001b[0m         \u001b[38;5;124m\"\u001b[39m\u001b[38;5;124mPass the following variable\u001b[39m\u001b[38;5;132;01m{}\u001b[39;00m\u001b[38;5;124m as \u001b[39m\u001b[38;5;132;01m{}\u001b[39;00m\u001b[38;5;124mkeyword arg\u001b[39m\u001b[38;5;132;01m{}\u001b[39;00m\u001b[38;5;124m: \u001b[39m\u001b[38;5;132;01m{}\u001b[39;00m\u001b[38;5;124m. \u001b[39m\u001b[38;5;124m\"\u001b[39m\n\u001b[1;32m     38\u001b[0m         \u001b[38;5;124m\"\u001b[39m\u001b[38;5;124mFrom version 0.12, the only valid positional argument \u001b[39m\u001b[38;5;124m\"\u001b[39m\n\u001b[0;32m   (...)\u001b[0m\n\u001b[1;32m     43\u001b[0m         \u001b[38;5;167;01mFutureWarning\u001b[39;00m\n\u001b[1;32m     44\u001b[0m     )\n\u001b[1;32m     45\u001b[0m kwargs\u001b[38;5;241m.\u001b[39mupdate({k: arg \u001b[38;5;28;01mfor\u001b[39;00m k, arg \u001b[38;5;129;01min\u001b[39;00m \u001b[38;5;28mzip\u001b[39m(sig\u001b[38;5;241m.\u001b[39mparameters, args)})\n\u001b[0;32m---> 46\u001b[0m \u001b[38;5;28;01mreturn\u001b[39;00m \u001b[43mf\u001b[49m\u001b[43m(\u001b[49m\u001b[38;5;241;43m*\u001b[39;49m\u001b[38;5;241;43m*\u001b[39;49m\u001b[43mkwargs\u001b[49m\u001b[43m)\u001b[49m\n",
      "File \u001b[0;32m~/miniconda3/envs/ds_env/lib/python3.8/site-packages/seaborn/axisgrid.py:2207\u001b[0m, in \u001b[0;36mjointplot\u001b[0;34m(x, y, data, kind, color, height, ratio, space, dropna, xlim, ylim, marginal_ticks, joint_kws, marginal_kws, hue, palette, hue_order, hue_norm, **kwargs)\u001b[0m\n\u001b[1;32m   2205\u001b[0m \u001b[38;5;66;03m# Validate the plot kind\u001b[39;00m\n\u001b[1;32m   2206\u001b[0m plot_kinds \u001b[38;5;241m=\u001b[39m [\u001b[38;5;124m\"\u001b[39m\u001b[38;5;124mscatter\u001b[39m\u001b[38;5;124m\"\u001b[39m, \u001b[38;5;124m\"\u001b[39m\u001b[38;5;124mhist\u001b[39m\u001b[38;5;124m\"\u001b[39m, \u001b[38;5;124m\"\u001b[39m\u001b[38;5;124mhex\u001b[39m\u001b[38;5;124m\"\u001b[39m, \u001b[38;5;124m\"\u001b[39m\u001b[38;5;124mkde\u001b[39m\u001b[38;5;124m\"\u001b[39m, \u001b[38;5;124m\"\u001b[39m\u001b[38;5;124mreg\u001b[39m\u001b[38;5;124m\"\u001b[39m, \u001b[38;5;124m\"\u001b[39m\u001b[38;5;124mresid\u001b[39m\u001b[38;5;124m\"\u001b[39m]\n\u001b[0;32m-> 2207\u001b[0m \u001b[43m_check_argument\u001b[49m\u001b[43m(\u001b[49m\u001b[38;5;124;43m\"\u001b[39;49m\u001b[38;5;124;43mkind\u001b[39;49m\u001b[38;5;124;43m\"\u001b[39;49m\u001b[43m,\u001b[49m\u001b[43m \u001b[49m\u001b[43mplot_kinds\u001b[49m\u001b[43m,\u001b[49m\u001b[43m \u001b[49m\u001b[43mkind\u001b[49m\u001b[43m)\u001b[49m\n\u001b[1;32m   2209\u001b[0m \u001b[38;5;66;03m# Raise early if using `hue` with a kind that does not support it\u001b[39;00m\n\u001b[1;32m   2210\u001b[0m \u001b[38;5;28;01mif\u001b[39;00m hue \u001b[38;5;129;01mis\u001b[39;00m \u001b[38;5;129;01mnot\u001b[39;00m \u001b[38;5;28;01mNone\u001b[39;00m \u001b[38;5;129;01mand\u001b[39;00m kind \u001b[38;5;129;01min\u001b[39;00m [\u001b[38;5;124m\"\u001b[39m\u001b[38;5;124mhex\u001b[39m\u001b[38;5;124m\"\u001b[39m, \u001b[38;5;124m\"\u001b[39m\u001b[38;5;124mreg\u001b[39m\u001b[38;5;124m\"\u001b[39m, \u001b[38;5;124m\"\u001b[39m\u001b[38;5;124mresid\u001b[39m\u001b[38;5;124m\"\u001b[39m]:\n",
      "File \u001b[0;32m~/miniconda3/envs/ds_env/lib/python3.8/site-packages/seaborn/utils.py:785\u001b[0m, in \u001b[0;36m_check_argument\u001b[0;34m(param, options, value)\u001b[0m\n\u001b[1;32m    783\u001b[0m \u001b[38;5;124;03m\"\"\"Raise if value for param is not in options.\"\"\"\u001b[39;00m\n\u001b[1;32m    784\u001b[0m \u001b[38;5;28;01mif\u001b[39;00m value \u001b[38;5;129;01mnot\u001b[39;00m \u001b[38;5;129;01min\u001b[39;00m options:\n\u001b[0;32m--> 785\u001b[0m     \u001b[38;5;28;01mraise\u001b[39;00m \u001b[38;5;167;01mValueError\u001b[39;00m(\n\u001b[1;32m    786\u001b[0m         \u001b[38;5;124mf\u001b[39m\u001b[38;5;124m\"\u001b[39m\u001b[38;5;124m`\u001b[39m\u001b[38;5;132;01m{\u001b[39;00mparam\u001b[38;5;132;01m}\u001b[39;00m\u001b[38;5;124m` must be one of \u001b[39m\u001b[38;5;132;01m{\u001b[39;00moptions\u001b[38;5;132;01m}\u001b[39;00m\u001b[38;5;124m, but \u001b[39m\u001b[38;5;132;01m{\u001b[39;00mvalue\u001b[38;5;132;01m}\u001b[39;00m\u001b[38;5;124m was passed.`\u001b[39m\u001b[38;5;124m\"\u001b[39m\n\u001b[1;32m    787\u001b[0m     )\n",
      "\u001b[0;31mValueError\u001b[0m: `kind` must be one of ['scatter', 'hist', 'hex', 'kde', 'reg', 'resid'], but Deppresion was passed.`"
     ]
    }
   ],
   "source": [
    "import seaborn as sns\n",
    "import matplotlib.pyplot as plt\n",
    "df = sns.load_dataset('iris')\n",
    "\n",
    "sns.jointplot(x=df[\"sepal_length\"], y=df[\"sepal_width\"], kind='Deppresion')\n",
    "sns.jointplot(x=df[\"sepal_length\"], y=df[\"sepal_width\"], kind='Friends')\n",
    "sns.jointplot(x=df[\"sepal_length\"], y=df[\"sepal_width\"], kind='Weight')\n",
    "plt.show()\n",
    "# Then you can pass arguments to each type:\n",
    "sns.jointplot(x=df[\"sepal_length\"], y=df[\"sepal_width\"], kind='scatter', s=200, color='m', edgecolor=\"skyblue\", linewidth=2)\n",
    " \n",
    "# Custom the color\n",
    "sns.set(style=\"white\", color_codes=True)\n",
    "sns.jointplot(x=df[\"sepal_length\"], y=df[\"sepal_width\"], kind='Suicide_prevention', color=\"skyblue\")\n",
    "\n",
    "plt.show()"
   ]
  },
  {
   "cell_type": "code",
   "execution_count": 0,
   "metadata": {
    "collapsed": false
   },
   "outputs": [
   ],
   "source": [
   ]
  },
  {
   "cell_type": "code",
   "execution_count": 0,
   "metadata": {
    "collapsed": false
   },
   "outputs": [
   ],
   "source": [
   ]
  },
  {
   "cell_type": "code",
   "execution_count": 0,
   "metadata": {
    "collapsed": false
   },
   "outputs": [
   ],
   "source": [
   ]
  },
  {
   "cell_type": "code",
   "execution_count": 0,
   "metadata": {
    "collapsed": false
   },
   "outputs": [
   ],
   "source": [
   ]
  },
  {
   "cell_type": "code",
   "execution_count": 0,
   "metadata": {
    "collapsed": false
   },
   "outputs": [
   ],
   "source": [
   ]
  }
 ],
 "metadata": {
  "kernelspec": {
   "display_name": "Python (ds_env)",
   "language": "python",
   "metadata": {
    "debugger": true
   },
   "name": "ds_env",
   "resource_dir": "/projects/803caf18-2f52-4012-a187-684798bd4465/.local/share/jupyter/kernels/ds_env"
  },
  "language_info": {
   "codemirror_mode": {
    "name": "ipython",
    "version": 3
   },
   "file_extension": ".py",
   "mimetype": "text/x-python",
   "name": "python",
   "nbconvert_exporter": "python",
   "pygments_lexer": "ipython3",
   "version": "3.8.13"
  }
 },
 "nbformat": 4,
 "nbformat_minor": 4
}