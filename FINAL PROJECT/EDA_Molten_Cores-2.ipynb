{
 "cells": [
  {
   "cell_type": "markdown",
   "metadata": {
    "collapsed": false
   },
   "source": [
    "# Molten-Cores\n",
    "\n",
    "#### Team Members: Arrisa, Evan, Maulika, Rafail, Sophia\n",
    "\n",
    "![img_happy](https://www.plays-in-business.com/wp-content/uploads/2018/12/the-happiness-index.jpg)\n",
    "\n"
   ]
  },
  {
   "cell_type": "markdown",
   "metadata": {
    "collapsed": false
   },
   "source": [
    "## EDA: \n",
    "\n",
    "## Cleanup\n",
    "\n"
   ]
  },
  {
   "cell_type": "code",
   "execution_count": 4,
   "metadata": {
    "collapsed": false,
    "scrolled": true
   },
   "outputs": [
   ],
   "source": [
    "import pandas as pd\n",
    "import plotly.figure_factory as ff\n",
    "import plotly.express as px\n",
    "import matplotlib.pyplot as plt\n",
    "import numpy as np\n",
    "from sklearn.preprocessing import LabelEncoder\n",
    "suicide_risk = pd.read_csv(\"foreveralone.csv\")"
   ]
  },
  {
   "cell_type": "code",
   "execution_count": 5,
   "metadata": {
    "collapsed": false
   },
   "outputs": [
    {
     "data": {
      "text/html": [
       "<div>\n",
       "<style scoped>\n",
       "    .dataframe tbody tr th:only-of-type {\n",
       "        vertical-align: middle;\n",
       "    }\n",
       "\n",
       "    .dataframe tbody tr th {\n",
       "        vertical-align: top;\n",
       "    }\n",
       "\n",
       "    .dataframe thead th {\n",
       "        text-align: right;\n",
       "    }\n",
       "</style>\n",
       "<table border=\"1\" class=\"dataframe\">\n",
       "  <thead>\n",
       "    <tr style=\"text-align: right;\">\n",
       "      <th></th>\n",
       "      <th>time</th>\n",
       "      <th>gender</th>\n",
       "      <th>sexuallity</th>\n",
       "      <th>age</th>\n",
       "      <th>income</th>\n",
       "      <th>race</th>\n",
       "      <th>bodyweight</th>\n",
       "      <th>virgin</th>\n",
       "      <th>prostitution_legal</th>\n",
       "      <th>pay_for_sex</th>\n",
       "      <th>friends</th>\n",
       "      <th>social_fear</th>\n",
       "      <th>depressed</th>\n",
       "      <th>what_help_from_others</th>\n",
       "      <th>attempt_suicide</th>\n",
       "      <th>employment</th>\n",
       "      <th>job_title</th>\n",
       "      <th>edu_level</th>\n",
       "      <th>improve_yourself_how</th>\n",
       "    </tr>\n",
       "  </thead>\n",
       "  <tbody>\n",
       "    <tr>\n",
       "      <th>0</th>\n",
       "      <td>5/17/2016 20:04:18</td>\n",
       "      <td>Male</td>\n",
       "      <td>Straight</td>\n",
       "      <td>35</td>\n",
       "      <td>$30,000 to $39,999</td>\n",
       "      <td>White non-Hispanic</td>\n",
       "      <td>Normal weight</td>\n",
       "      <td>Yes</td>\n",
       "      <td>No</td>\n",
       "      <td>No</td>\n",
       "      <td>0.0</td>\n",
       "      <td>Yes</td>\n",
       "      <td>Yes</td>\n",
       "      <td>wingman/wingwoman, Set me up with a date</td>\n",
       "      <td>Yes</td>\n",
       "      <td>Employed for wages</td>\n",
       "      <td>mechanical drafter</td>\n",
       "      <td>Associate degree</td>\n",
       "      <td>None</td>\n",
       "    </tr>\n",
       "    <tr>\n",
       "      <th>1</th>\n",
       "      <td>5/17/2016 20:04:30</td>\n",
       "      <td>Male</td>\n",
       "      <td>Bisexual</td>\n",
       "      <td>21</td>\n",
       "      <td>$1 to $10,000</td>\n",
       "      <td>White non-Hispanic</td>\n",
       "      <td>Underweight</td>\n",
       "      <td>Yes</td>\n",
       "      <td>No</td>\n",
       "      <td>No</td>\n",
       "      <td>0.0</td>\n",
       "      <td>Yes</td>\n",
       "      <td>Yes</td>\n",
       "      <td>wingman/wingwoman, Set me up with a date, date...</td>\n",
       "      <td>No</td>\n",
       "      <td>Out of work and looking for work</td>\n",
       "      <td>-</td>\n",
       "      <td>Some college, no degree</td>\n",
       "      <td>join clubs/socual clubs/meet ups</td>\n",
       "    </tr>\n",
       "    <tr>\n",
       "      <th>2</th>\n",
       "      <td>5/17/2016 20:04:58</td>\n",
       "      <td>Male</td>\n",
       "      <td>Straight</td>\n",
       "      <td>22</td>\n",
       "      <td>$0</td>\n",
       "      <td>White non-Hispanic</td>\n",
       "      <td>Overweight</td>\n",
       "      <td>Yes</td>\n",
       "      <td>No</td>\n",
       "      <td>No</td>\n",
       "      <td>10.0</td>\n",
       "      <td>Yes</td>\n",
       "      <td>Yes</td>\n",
       "      <td>I don't want help</td>\n",
       "      <td>No</td>\n",
       "      <td>Out of work but not currently looking for work</td>\n",
       "      <td>unemployed</td>\n",
       "      <td>Some college, no degree</td>\n",
       "      <td>Other exercise</td>\n",
       "    </tr>\n",
       "    <tr>\n",
       "      <th>3</th>\n",
       "      <td>5/17/2016 20:08:01</td>\n",
       "      <td>Male</td>\n",
       "      <td>Straight</td>\n",
       "      <td>19</td>\n",
       "      <td>$1 to $10,000</td>\n",
       "      <td>White non-Hispanic</td>\n",
       "      <td>Overweight</td>\n",
       "      <td>Yes</td>\n",
       "      <td>Yes</td>\n",
       "      <td>No</td>\n",
       "      <td>8.0</td>\n",
       "      <td>Yes</td>\n",
       "      <td>Yes</td>\n",
       "      <td>date coaching</td>\n",
       "      <td>No</td>\n",
       "      <td>A student</td>\n",
       "      <td>student</td>\n",
       "      <td>Some college, no degree</td>\n",
       "      <td>Joined a gym/go to the gym</td>\n",
       "    </tr>\n",
       "    <tr>\n",
       "      <th>4</th>\n",
       "      <td>5/17/2016 20:08:04</td>\n",
       "      <td>Male</td>\n",
       "      <td>Straight</td>\n",
       "      <td>23</td>\n",
       "      <td>$30,000 to $39,999</td>\n",
       "      <td>White non-Hispanic</td>\n",
       "      <td>Overweight</td>\n",
       "      <td>No</td>\n",
       "      <td>No</td>\n",
       "      <td>Yes and I have</td>\n",
       "      <td>10.0</td>\n",
       "      <td>No</td>\n",
       "      <td>Yes</td>\n",
       "      <td>I don't want help</td>\n",
       "      <td>No</td>\n",
       "      <td>Employed for wages</td>\n",
       "      <td>Factory worker</td>\n",
       "      <td>High school graduate, diploma or the equivalen...</td>\n",
       "      <td>None</td>\n",
       "    </tr>\n",
       "  </tbody>\n",
       "</table>\n",
       "</div>"
      ],
      "text/plain": [
       "                 time gender sexuallity  age              income  \\\n",
       "0  5/17/2016 20:04:18   Male   Straight   35  $30,000 to $39,999   \n",
       "1  5/17/2016 20:04:30   Male   Bisexual   21       $1 to $10,000   \n",
       "2  5/17/2016 20:04:58   Male   Straight   22                  $0   \n",
       "3  5/17/2016 20:08:01   Male   Straight   19       $1 to $10,000   \n",
       "4  5/17/2016 20:08:04   Male   Straight   23  $30,000 to $39,999   \n",
       "\n",
       "                 race     bodyweight virgin prostitution_legal  \\\n",
       "0  White non-Hispanic  Normal weight    Yes                 No   \n",
       "1  White non-Hispanic    Underweight    Yes                 No   \n",
       "2  White non-Hispanic     Overweight    Yes                 No   \n",
       "3  White non-Hispanic     Overweight    Yes                Yes   \n",
       "4  White non-Hispanic     Overweight     No                 No   \n",
       "\n",
       "      pay_for_sex  friends social_fear depressed  \\\n",
       "0              No      0.0         Yes       Yes   \n",
       "1              No      0.0         Yes       Yes   \n",
       "2              No     10.0         Yes       Yes   \n",
       "3              No      8.0         Yes       Yes   \n",
       "4  Yes and I have     10.0          No       Yes   \n",
       "\n",
       "                               what_help_from_others attempt_suicide  \\\n",
       "0           wingman/wingwoman, Set me up with a date             Yes   \n",
       "1  wingman/wingwoman, Set me up with a date, date...              No   \n",
       "2                                  I don't want help              No   \n",
       "3                                      date coaching              No   \n",
       "4                                  I don't want help              No   \n",
       "\n",
       "                                       employment           job_title  \\\n",
       "0                              Employed for wages  mechanical drafter   \n",
       "1                Out of work and looking for work                   -   \n",
       "2  Out of work but not currently looking for work          unemployed   \n",
       "3                                       A student             student   \n",
       "4                              Employed for wages      Factory worker   \n",
       "\n",
       "                                           edu_level  \\\n",
       "0                                   Associate degree   \n",
       "1                            Some college, no degree   \n",
       "2                            Some college, no degree   \n",
       "3                            Some college, no degree   \n",
       "4  High school graduate, diploma or the equivalen...   \n",
       "\n",
       "               improve_yourself_how  \n",
       "0                              None  \n",
       "1  join clubs/socual clubs/meet ups  \n",
       "2                    Other exercise  \n",
       "3        Joined a gym/go to the gym  \n",
       "4                              None  "
      ]
     },
     "execution_count": 5,
     "metadata": {
     },
     "output_type": "execute_result"
    }
   ],
   "source": [
    "suicide_risk.head()"
   ]
  },
  {
   "cell_type": "code",
   "execution_count": 12,
   "metadata": {
    "collapsed": false
   },
   "outputs": [
   ],
   "source": [
    "test_list = [item for item in suicide_risk[\"gender\"].value_counts().values]"
   ]
  },
  {
   "cell_type": "code",
   "execution_count": 13,
   "metadata": {
    "collapsed": false
   },
   "outputs": [
    {
     "data": {
      "text/plain": [
       "[393, 73, 2, 1]"
      ]
     },
     "execution_count": 13,
     "metadata": {
     },
     "output_type": "execute_result"
    }
   ],
   "source": [
    "test_list"
   ]
  },
  {
   "cell_type": "code",
   "execution_count": 14,
   "metadata": {
    "collapsed": false
   },
   "outputs": [
    {
     "data": {
      "text/plain": [
       "Male                  393\n",
       "Female                 73\n",
       "Transgender male        2\n",
       "Transgender female      1\n",
       "Name: gender, dtype: int64"
      ]
     },
     "execution_count": 14,
     "metadata": {
     },
     "output_type": "execute_result"
    }
   ],
   "source": [
    "suicide_risk[\"gender\"].value_counts()"
   ]
  },
  {
   "cell_type": "code",
   "execution_count": 0,
   "metadata": {
    "collapsed": false
   },
   "outputs": [
   ],
   "source": [
   ]
  },
  {
   "cell_type": "code",
   "execution_count": 0,
   "metadata": {
    "collapsed": false
   },
   "outputs": [
   ],
   "source": [
   ]
  },
  {
   "cell_type": "code",
   "execution_count": 0,
   "metadata": {
    "collapsed": false
   },
   "outputs": [
   ],
   "source": [
   ]
  },
  {
   "cell_type": "code",
   "execution_count": 0,
   "metadata": {
    "collapsed": false
   },
   "outputs": [
   ],
   "source": [
   ]
  },
  {
   "cell_type": "code",
   "execution_count": 0,
   "metadata": {
    "collapsed": false
   },
   "outputs": [
   ],
   "source": [
   ]
  },
  {
   "cell_type": "code",
   "execution_count": 3,
   "metadata": {
    "collapsed": false
   },
   "outputs": [
    {
     "data": {
      "text/plain": [
       "Text(0, 0.5, 'Scores')"
      ]
     },
     "execution_count": 3,
     "metadata": {
     },
     "output_type": "execute_result"
    },
    {
     "data": {
      "image/png": "[encoded data removed]",
      "text/plain": [
       "<Figure size 1440x720 with 1 Axes>"
      ]
     },
     "execution_count": 3,
     "metadata": {
      "needs_background": "light"
     },
     "output_type": "execute_result"
    }
   ],
   "source": [
    "import pandas as pd\n",
    "from matplotlib import cm\n",
    "import matplotlib.pyplot as plt\n",
    "\n",
    "\n",
    "# Data to plot\n",
    "plotdata = pd.DataFrame({\n",
    "    \"f1_score_0\":[0.58, 0.77, 0.69, 0.81, 0.81],\n",
    "    \"f1_score_1\":[0.36, 0.44, 0.37, 0.41, 0.37],\n",
    "    \"accuracy\":[0.49, 0.67, 0.59, 0.72, 0.71]}, \n",
    "    index=[\"SVC\", \"Logistic Regression\", \"KNN\", \"Random Forest\", \"XGBoost\"])\n",
    "\n",
    "# Plotting\n",
    "plotdata.plot(kind=\"bar\", figsize = (20,10), colormap = cm.get_cmap('rainbow'))\n",
    "\n",
    "\n",
    "# Titles\n",
    "plt.title(\"Scores Graph\", size = 22)\n",
    "plt.xlabel(\"Models\", size = 16)\n",
    "plt.ylabel(\"Scores\", size = 16)"
   ]
  },
  {
   "cell_type": "code",
   "execution_count": 0,
   "metadata": {
    "collapsed": false
   },
   "outputs": [
   ],
   "source": [
   ]
  },
  {
   "cell_type": "code",
   "execution_count": 0,
   "metadata": {
    "collapsed": false
   },
   "outputs": [
   ],
   "source": [
   ]
  },
  {
   "cell_type": "code",
   "execution_count": 0,
   "metadata": {
    "collapsed": false
   },
   "outputs": [
   ],
   "source": [
   ]
  },
  {
   "cell_type": "code",
   "execution_count": 0,
   "metadata": {
    "collapsed": false
   },
   "outputs": [
   ],
   "source": [
   ]
  },
  {
   "cell_type": "code",
   "execution_count": 0,
   "metadata": {
    "collapsed": false
   },
   "outputs": [
   ],
   "source": [
   ]
  },
  {
   "cell_type": "code",
   "execution_count": 0,
   "metadata": {
    "collapsed": false
   },
   "outputs": [
   ],
   "source": [
   ]
  },
  {
   "cell_type": "code",
   "execution_count": 0,
   "metadata": {
    "collapsed": false
   },
   "outputs": [
   ],
   "source": [
   ]
  },
  {
   "cell_type": "code",
   "execution_count": 0,
   "metadata": {
    "collapsed": false
   },
   "outputs": [
   ],
   "source": [
   ]
  },
  {
   "cell_type": "code",
   "execution_count": 0,
   "metadata": {
    "collapsed": false
   },
   "outputs": [
   ],
   "source": [
   ]
  },
  {
   "cell_type": "code",
   "execution_count": 0,
   "metadata": {
    "collapsed": false
   },
   "outputs": [
   ],
   "source": [
   ]
  },
  {
   "cell_type": "code",
   "execution_count": 0,
   "metadata": {
    "collapsed": false
   },
   "outputs": [
   ],
   "source": [
   ]
  },
  {
   "cell_type": "code",
   "execution_count": 0,
   "metadata": {
    "collapsed": false
   },
   "outputs": [
   ],
   "source": [
   ]
  },
  {
   "cell_type": "code",
   "execution_count": 2,
   "metadata": {
    "collapsed": false
   },
   "outputs": [
   ],
   "source": [
    "import seaborn as sns"
   ]
  },
  {
   "cell_type": "code",
   "execution_count": 9,
   "metadata": {
    "collapsed": false
   },
   "outputs": [
    {
     "data": {
      "text/plain": [
       "<AxesSubplot:ylabel='attempt_suicide'>"
      ]
     },
     "execution_count": 9,
     "metadata": {
     },
     "output_type": "execute_result"
    },
    {
     "data": {
      "image/png": "[encoded data removed]",
      "text/plain": [
       "<Figure size 432x288 with 1 Axes>"
      ]
     },
     "execution_count": 9,
     "metadata": {
     },
     "output_type": "execute_result"
    }
   ],
   "source": [
    "suicide_risk[\"attempt_suicide\"].value_counts().plot(kind=\"pie\")"
   ]
  },
  {
   "cell_type": "code",
   "execution_count": 21,
   "metadata": {
    "collapsed": false
   },
   "outputs": [
    {
     "data": {
      "text/html": "<html>\n<head><meta charset=\"utf-8\" /></head>\n<body>\n    <div>            <script src=\"https://cdnjs.cloudflare.com/ajax/libs/mathjax/2.7.5/MathJax.js?config=TeX-AMS-MML_SVG\"></script><script type=\"text/javascript\">if (window.MathJax) {MathJax.Hub.Config({SVG: {font: \"STIX-Web\"}});}</script>                <script type=\"text/javascript\">window.PlotlyConfig = {MathJaxConfig: 'local'};</script>\n        <script src=\"https://cdn.plot.ly/plotly-2.9.0.min.js\"></script>                <div id=\"fe83bdec-d688-4b85-9584-73687d19a241\" class=\"plotly-graph-div\" style=\"height:525px; width:100%;\"></div>            <script type=\"text/javascript\">                                    window.PLOTLYENV=window.PLOTLYENV || {};                                    if (document.getElementById(\"fe83bdec-d688-4b85-9584-73687d19a241\")) {                    Plotly.newPlot(                        \"fe83bdec-d688-4b85-9584-73687d19a241\",                        [{\"alignmentgroup\":\"True\",\"hovertemplate\":\"attempt_suicide=Yes<br>race=%{x}<br>age=%{y}<extra></extra>\",\"legendgroup\":\"Yes\",\"marker\":{\"color\":\"#636efa\",\"pattern\":{\"shape\":\"\"}},\"name\":\"Yes\",\"offsetgroup\":\"Yes\",\"orientation\":\"v\",\"showlegend\":true,\"textposition\":\"auto\",\"x\":[\"White non-Hispanic\",\"White non-Hispanic\",\"White non-Hispanic\",\"White non-Hispanic\",\"Asian\",\"White non-Hispanic\",\"White non-Hispanic\",\"White non-Hispanic\",\"White non-Hispanic\",\"White non-Hispanic\",\"White non-Hispanic\",\"White non-Hispanic\",\"White non-Hispanic\",\"Black\",\"Hispanic (of any race)\",\"White non-Hispanic\",\"Hispanic (of any race)\",\"White non-Hispanic\",\"Hispanic (of any race)\",\"Black\",\"White non-Hispanic\",\"White non-Hispanic\",\"White non-Hispanic\",\"White non-Hispanic\",\"Hispanic (of any race)\",\"Black\",\"Asian\",\"Hispanic (of any race)\",\"White non-Hispanic\",\"Hispanic (of any race)\",\"White non-Hispanic\",\"White non-Hispanic\",\"White non-Hispanic\",\"White non-Hispanic\",\"White non-Hispanic\",\"White non-Hispanic\",\"White non-Hispanic\",\"Native american\",\"White non-Hispanic\",\"White non-Hispanic\",\"White non-Hispanic\",\"White non-Hispanic\",\"Black\",\"White non-Hispanic\",\"White non-Hispanic\",\"White non-Hispanic\",\"White non-Hispanic\",\"White non-Hispanic\",\"White non-Hispanic\",\"Black\",\"White non-Hispanic\",\"White non-Hispanic\",\"White non-Hispanic\",\"Asian\",\"White non-Hispanic\",\"White non-Hispanic\",\"White non-Hispanic\",\"Asian\",\"Hispanic (of any race)\",\"Black\",\"Hispanic (of any race)\",\"White non-Hispanic\",\"Asian\",\"White non-Hispanic\",\"White non-Hispanic\",\"White non-Hispanic\",\"White non-Hispanic\",\"Black\",\"White non-Hispanic\",\"White non-Hispanic\",\"White and Native American\",\"First two answers. Gender is androgyne, not male; sexuality is asexual, not bi.\",\"White non-Hispanic\",\"White non-Hispanic\",\"European\",\"White non-Hispanic\",\"Black\",\"Hispanic (of any race)\",\"White non-Hispanic\",\"Hispanic (of any race)\",\"Black\",\"White non-Hispanic\",\"Asian\",\"White non-Hispanic\",\"Asian\"],\"xaxis\":\"x\",\"y\":[35,24,24,33,25,23,17,24,24,16,38,45,28,29,23,19,16,25,26,25,38,20,24,19,21,29,18,20,26,25,22,33,26,27,24,19,21,18,29,29,22,27,22,19,18,22,23,27,22,22,41,21,16,39,18,22,38,23,21,23,20,18,23,30,28,30,21,23,38,20,24,26,17,19,26,25,22,26,16,22,20,27,18,12,17],\"yaxis\":\"y\",\"type\":\"bar\"},{\"alignmentgroup\":\"True\",\"hovertemplate\":\"attempt_suicide=No<br>race=%{x}<br>age=%{y}<extra></extra>\",\"legendgroup\":\"No\",\"marker\":{\"color\":\"#EF553B\",\"pattern\":{\"shape\":\"\"}},\"name\":\"No\",\"offsetgroup\":\"No\",\"orientation\":\"v\",\"showlegend\":true,\"textposition\":\"auto\",\"x\":[\"White non-Hispanic\",\"White non-Hispanic\",\"White non-Hispanic\",\"White non-Hispanic\",\"White non-Hispanic\",\"White non-Hispanic\",\"Hispanic (of any race)\",\"White non-Hispanic\",\"Hispanic (of any race)\",\"White non-Hispanic\",\"white and asian\",\"Asian\",\"caucasian\",\"White non-Hispanic\",\"White non-Hispanic\",\"Hispanic (of any race)\",\"White non-Hispanic\",\"White non-Hispanic\",\"White non-Hispanic\",\"White non-Hispanic\",\"White non-Hispanic\",\"Asian\",\"White non-Hispanic\",\"Asian\",\"White non-Hispanic\",\"White non-Hispanic\",\"White non-Hispanic\",\"White non-Hispanic\",\"White non-Hispanic\",\"White non-Hispanic\",\"Asian\",\"White non-Hispanic\",\"White non-Hispanic\",\"Asian\",\"White non-Hispanic\",\"White non-Hispanic\",\"Black\",\"White non-Hispanic\",\"White non-Hispanic\",\"White non-Hispanic\",\"White non-Hispanic\",\"White non-Hispanic\",\"White non-Hispanic\",\"White non-Hispanic\",\"White non-Hispanic\",\"Black\",\"White non-Hispanic\",\"Hispanic (of any race)\",\"White non-Hispanic\",\"White non-Hispanic\",\"Hispanic (of any race)\",\"White non-Hispanic\",\"White non-Hispanic\",\"White non-Hispanic\",\"White non-Hispanic\",\"Middle Eastern\",\"White non-Hispanic\",\"White non-Hispanic\",\"White non-Hispanic\",\"Asian\",\"half Arab\",\"White non-Hispanic\",\"White non-Hispanic\",\"Hispanic (of any race)\",\"Asian\",\"White non-Hispanic\",\"White non-Hispanic\",\"White non-Hispanic\",\"White non-Hispanic\",\"White non-Hispanic\",\"Hispanic (of any race)\",\"White non-Hispanic\",\"Black\",\"White non-Hispanic\",\"White non-Hispanic\",\"Hispanic (of any race)\",\"Hispanic (of any race)\",\"White non-Hispanic\",\"White non-Hispanic\",\"White non-Hispanic\",\"White non-Hispanic\",\"White non-Hispanic\",\"White non-Hispanic\",\"White non-Hispanic\",\"White non-Hispanic\",\"White non-Hispanic\",\"White non-Hispanic\",\"White non-Hispanic\",\"White non-Hispanic\",\"Asian\",\"Asian\",\"Asian\",\"White non-Hispanic\",\"Asian\",\"Hispanic (of any race)\",\"White non-Hispanic\",\"White non-Hispanic\",\"White non-Hispanic\",\"White non-Hispanic\",\"White non-Hispanic\",\"White non-Hispanic\",\"White non-Hispanic\",\"White non-Hispanic\",\"White non-Hispanic\",\"White non-Hispanic\",\"White non-Hispanic\",\"White non-Hispanic\",\"White non-Hispanic\",\"Mixed race\",\"White non-Hispanic\",\"White non-Hispanic\",\"Asian\",\"Hispanic (of any race)\",\"White non-Hispanic\",\"Pakistani\",\"White non-Hispanic\",\"White non-Hispanic\",\"White non-Hispanic\",\"White non-Hispanic\",\"White non-Hispanic\",\"Asian\",\"White non-Hispanic\",\"Asian\",\"Black\",\"White non-Hispanic\",\"helicopterkin\",\"White non-Hispanic\",\"White non-Hispanic\",\"White non-Hispanic\",\"White non-Hispanic\",\"Hispanic (of any race)\",\"White non-Hispanic\",\"White non-Hispanic\",\"Hispanic (of any race)\",\"White non-Hispanic\",\"Middle Eastern\",\"Asian\",\"White non-Hispanic\",\"White non-Hispanic\",\"Asian\",\"Asian\",\"White non-Hispanic\",\"White non-Hispanic\",\"White non-Hispanic\",\"White non-Hispanic\",\"White non-Hispanic\",\"Asian\",\"White non-Hispanic\",\"Turkish\",\"Asian\",\"White non-Hispanic\",\"White non-Hispanic\",\"White non-Hispanic\",\"Asian\",\"White non-Hispanic\",\"White non-Hispanic\",\"White non-Hispanic\",\"White non-Hispanic\",\"Asian\",\"White non-Hispanic\",\"Asian\",\"White non-Hispanic\",\"White non-Hispanic\",\"White non-Hispanic\",\"White non-Hispanic\",\"Asian\",\"Asian\",\"White non-Hispanic\",\"Indian\",\"White non-Hispanic\",\"Black\",\"White non-Hispanic\",\"White non-Hispanic\",\"White non-Hispanic\",\"Black\",\"White non-Hispanic\",\"White non-Hispanic\",\"White non-Hispanic\",\"White non-Hispanic\",\"White non-Hispanic\",\"White non-Hispanic\",\"White non-Hispanic\",\"White non-Hispanic\",\"White non-Hispanic\",\"Black\",\"White non-Hispanic\",\"White non-Hispanic\",\"White non-Hispanic\",\"White non-Hispanic\",\"White non-Hispanic\",\"White non-Hispanic\",\"Asian\",\"White non-Hispanic\",\"Asian\",\"White non-Hispanic\",\"Black\",\"White non-Hispanic\",\"Asian\",\"White non-Hispanic\",\"White non-Hispanic\",\"White non-Hispanic\",\"White non-Hispanic\",\"White non-Hispanic\",\"Asian\",\"Indian\",\"Mixed\",\"White non-Hispanic\",\"White non-Hispanic\",\"White non-Hispanic\",\"White non-Hispanic\",\"White non-Hispanic\",\"White non-Hispanic\",\"White non-Hispanic\",\"White non-Hispanic\",\"White non-Hispanic\",\"White non-Hispanic\",\"White non-Hispanic\",\"White non-Hispanic\",\"mixed\",\"White non-Hispanic\",\"White non-Hispanic\",\"White non-Hispanic\",\"White non-Hispanic\",\"White non-Hispanic\",\"Asian\",\"White non-Hispanic\",\"White non-Hispanic\",\"White non-Hispanic\",\"White non-Hispanic\",\"White non-Hispanic\",\"Asian\",\"Asian\",\"White non-Hispanic\",\"Asian\",\"White non-Hispanic\",\"Hispanic (of any race)\",\"White non-Hispanic\",\"White non-Hispanic\",\"White non-Hispanic\",\"Mixed white/asian\",\"White non-Hispanic\",\"Mixed\",\"White non-Hispanic\",\"White non-Hispanic\",\"White non-Hispanic\",\"Asian\",\"Asian\",\"White non-Hispanic\",\"indian\",\"White non-Hispanic\",\"White non-Hispanic\",\"Asian\",\"White non-Hispanic\",\"White non-Hispanic\",\"White non-Hispanic\",\"Asian\",\"White non-Hispanic\",\"Multi\",\"White non-Hispanic\",\"White non-Hispanic\",\"Asian\",\"White non-Hispanic\",\"White non-Hispanic\",\"Hispanic (of any race)\",\"White non-Hispanic\",\"White non-Hispanic\",\"White non-Hispanic\",\"Black\",\"White non-Hispanic\",\"White non-Hispanic\",\"White non-Hispanic\",\"White non-Hispanic\",\"White non-Hispanic\",\"White non-Hispanic\",\"Hispanic (of any race)\",\"White non-Hispanic\",\"Native American mix\",\"White non-Hispanic\",\"White non-Hispanic\",\"Hispanic (of any race)\",\"White non-Hispanic\",\"White non-Hispanic\",\"White non-Hispanic\",\"White non-Hispanic\",\"White non-Hispanic\",\"White non-Hispanic\",\"Asian\",\"White non-Hispanic\",\"White non-Hispanic\",\"White non-Hispanic\",\"White non-Hispanic\",\"White non-Hispanic\",\"White non-Hispanic\",\"White non-Hispanic\",\"White non-Hispanic\",\"White non-Hispanic\",\"Asian\",\"White non-Hispanic\",\"White non-Hispanic\",\"White non-Hispanic\",\"White non-Hispanic\",\"White non-Hispanic\",\"North African\",\"White non-Hispanic\",\"Asian\",\"Half Asian half white\",\"White non-Hispanic\",\"White non-Hispanic\",\"Asian\",\"White non-Hispanic\",\"White non-Hispanic\",\"White non-Hispanic\",\"White non-Hispanic\",\"White non-Hispanic\",\"Asian\",\"White non-Hispanic\",\"White non-Hispanic\",\"Asian\",\"White non-Hispanic\",\"White non-Hispanic\",\"White non-Hispanic\",\"White non-Hispanic\",\"White non-Hispanic\",\"White non-Hispanic\",\"Mixed\",\"White non-Hispanic\",\"White non-Hispanic\",\"White non-Hispanic\",\"White non-Hispanic\",\"White non-Hispanic\",\"Black\",\"Hispanic (of any race)\",\"Hispanic (of any race)\",\"White non-Hispanic\",\"White non-Hispanic\",\"White non-Hispanic\",\"White non-Hispanic\",\"Asian\",\"White non-Hispanic\",\"Asian\",\"White non-Hispanic\",\"White non-Hispanic\",\"White non-Hispanic\",\"White non-Hispanic\",\"White non-Hispanic\",\"White non-Hispanic\",\"White non-Hispanic\",\"White non-Hispanic\",\"Asian\",\"White non-Hispanic\",\"White non-Hispanic\",\"White non-Hispanic\",\"White non-Hispanic\",\"White non-Hispanic\",\"White non-Hispanic\",\"White non-Hispanic\",\"White non-Hispanic\",\"White non-Hispanic\",\"Hispanic (of any race)\",\"Hispanic (of any race)\",\"White non-Hispanic\",\"Hispanic (of any race)\",\"White non-Hispanic\",\"White non-Hispanic\",\"White non-Hispanic\",\"White non-Hispanic\",\"White non-Hispanic\",\"White non-Hispanic\",\"White non-Hispanic\",\"White non-Hispanic\",\"Black\",\"White non-Hispanic\",\"Black\",\"White non-Hispanic\",\"White non-Hispanic\",\"White non-Hispanic\",\"White non-Hispanic\",\"White non-Hispanic\",\"Black\",\"White non-Hispanic\",\"White non-Hispanic\",\"White non-Hispanic\",\"Asian\",\"White non-Hispanic\"],\"xaxis\":\"x\",\"y\":[21,22,19,23,22,20,32,24,22,23,29,21,29,32,20,24,20,21,17,24,17,28,19,17,25,17,23,26,26,23,25,18,19,19,55,35,22,23,20,25,18,29,23,22,25,18,19,33,23,21,22,24,21,25,20,22,20,28,21,24,24,26,25,21,25,24,19,25,20,23,30,15,28,18,25,29,30,24,23,34,23,22,30,19,21,19,32,28,23,18,22,19,21,17,23,21,19,19,21,23,20,21,17,28,20,22,70,28,30,26,21,34,22,29,29,24,30,19,28,19,25,35,21,24,18,12,23,24,30,21,22,22,26,17,20,28,36,26,28,21,21,23,23,23,28,31,19,15,26,28,23,27,26,35,31,57,25,25,23,21,18,27,21,20,23,29,23,22,23,28,24,25,18,27,35,19,30,27,35,28,28,19,22,24,20,23,17,19,24,31,22,24,31,22,20,24,26,22,26,24,18,18,22,18,21,31,25,23,27,19,20,20,26,31,28,24,26,33,26,30,24,44,27,27,32,27,20,18,26,23,28,29,19,19,19,20,22,20,25,30,30,22,26,36,23,25,37,24,21,18,23,29,18,18,21,18,20,30,19,19,26,22,23,15,26,30,22,20,24,31,20,21,23,20,27,30,25,22,20,24,19,20,22,18,20,23,21,18,20,25,24,20,22,21,39,20,25,18,19,18,23,18,21,21,21,14,22,33,24,17,28,18,18,27,18,48,29,20,20,20,20,18,19,25,25,20,24,42,32,21,21,21,16,24,22,18,18,23,23,21,22,17,34,27,19,15,31,22,21,24,18,23,25,33,21,30,24,18,37,26,21,26,20,23,24,25,23,25,23,25,22,23,21,31,18,18,24,23,28,18,26,31,18,28],\"yaxis\":\"y\",\"type\":\"bar\"}],                        {\"template\":{\"data\":{\"bar\":[{\"error_x\":{\"color\":\"#2a3f5f\"},\"error_y\":{\"color\":\"#2a3f5f\"},\"marker\":{\"line\":{\"color\":\"#E5ECF6\",\"width\":0.5},\"pattern\":{\"fillmode\":\"overlay\",\"size\":10,\"solidity\":0.2}},\"type\":\"bar\"}],\"barpolar\":[{\"marker\":{\"line\":{\"color\":\"#E5ECF6\",\"width\":0.5},\"pattern\":{\"fillmode\":\"overlay\",\"size\":10,\"solidity\":0.2}},\"type\":\"barpolar\"}],\"carpet\":[{\"aaxis\":{\"endlinecolor\":\"#2a3f5f\",\"gridcolor\":\"white\",\"linecolor\":\"white\",\"minorgridcolor\":\"white\",\"startlinecolor\":\"#2a3f5f\"},\"baxis\":{\"endlinecolor\":\"#2a3f5f\",\"gridcolor\":\"white\",\"linecolor\":\"white\",\"minorgridcolor\":\"white\",\"startlinecolor\":\"#2a3f5f\"},\"type\":\"carpet\"}],\"choropleth\":[{\"colorbar\":{\"outlinewidth\":0,\"ticks\":\"\"},\"type\":\"choropleth\"}],\"contour\":[{\"colorbar\":{\"outlinewidth\":0,\"ticks\":\"\"},\"colorscale\":[[0.0,\"#0d0887\"],[0.1111111111111111,\"#46039f\"],[0.2222222222222222,\"#7201a8\"],[0.3333333333333333,\"#9c179e\"],[0.4444444444444444,\"#bd3786\"],[0.5555555555555556,\"#d8576b\"],[0.6666666666666666,\"#ed7953\"],[0.7777777777777778,\"#fb9f3a\"],[0.8888888888888888,\"#fdca26\"],[1.0,\"#f0f921\"]],\"type\":\"contour\"}],\"contourcarpet\":[{\"colorbar\":{\"outlinewidth\":0,\"ticks\":\"\"},\"type\":\"contourcarpet\"}],\"heatmap\":[{\"colorbar\":{\"outlinewidth\":0,\"ticks\":\"\"},\"colorscale\":[[0.0,\"#0d0887\"],[0.1111111111111111,\"#46039f\"],[0.2222222222222222,\"#7201a8\"],[0.3333333333333333,\"#9c179e\"],[0.4444444444444444,\"#bd3786\"],[0.5555555555555556,\"#d8576b\"],[0.6666666666666666,\"#ed7953\"],[0.7777777777777778,\"#fb9f3a\"],[0.8888888888888888,\"#fdca26\"],[1.0,\"#f0f921\"]],\"type\":\"heatmap\"}],\"heatmapgl\":[{\"colorbar\":{\"outlinewidth\":0,\"ticks\":\"\"},\"colorscale\":[[0.0,\"#0d0887\"],[0.1111111111111111,\"#46039f\"],[0.2222222222222222,\"#7201a8\"],[0.3333333333333333,\"#9c179e\"],[0.4444444444444444,\"#bd3786\"],[0.5555555555555556,\"#d8576b\"],[0.6666666666666666,\"#ed7953\"],[0.7777777777777778,\"#fb9f3a\"],[0.8888888888888888,\"#fdca26\"],[1.0,\"#f0f921\"]],\"type\":\"heatmapgl\"}],\"histogram\":[{\"marker\":{\"pattern\":{\"fillmode\":\"overlay\",\"size\":10,\"solidity\":0.2}},\"type\":\"histogram\"}],\"histogram2d\":[{\"colorbar\":{\"outlinewidth\":0,\"ticks\":\"\"},\"colorscale\":[[0.0,\"#0d0887\"],[0.1111111111111111,\"#46039f\"],[0.2222222222222222,\"#7201a8\"],[0.3333333333333333,\"#9c179e\"],[0.4444444444444444,\"#bd3786\"],[0.5555555555555556,\"#d8576b\"],[0.6666666666666666,\"#ed7953\"],[0.7777777777777778,\"#fb9f3a\"],[0.8888888888888888,\"#fdca26\"],[1.0,\"#f0f921\"]],\"type\":\"histogram2d\"}],\"histogram2dcontour\":[{\"colorbar\":{\"outlinewidth\":0,\"ticks\":\"\"},\"colorscale\":[[0.0,\"#0d0887\"],[0.1111111111111111,\"#46039f\"],[0.2222222222222222,\"#7201a8\"],[0.3333333333333333,\"#9c179e\"],[0.4444444444444444,\"#bd3786\"],[0.5555555555555556,\"#d8576b\"],[0.6666666666666666,\"#ed7953\"],[0.7777777777777778,\"#fb9f3a\"],[0.8888888888888888,\"#fdca26\"],[1.0,\"#f0f921\"]],\"type\":\"histogram2dcontour\"}],\"mesh3d\":[{\"colorbar\":{\"outlinewidth\":0,\"ticks\":\"\"},\"type\":\"mesh3d\"}],\"parcoords\":[{\"line\":{\"colorbar\":{\"outlinewidth\":0,\"ticks\":\"\"}},\"type\":\"parcoords\"}],\"pie\":[{\"automargin\":true,\"type\":\"pie\"}],\"scatter\":[{\"marker\":{\"colorbar\":{\"outlinewidth\":0,\"ticks\":\"\"}},\"type\":\"scatter\"}],\"scatter3d\":[{\"line\":{\"colorbar\":{\"outlinewidth\":0,\"ticks\":\"\"}},\"marker\":{\"colorbar\":{\"outlinewidth\":0,\"ticks\":\"\"}},\"type\":\"scatter3d\"}],\"scattercarpet\":[{\"marker\":{\"colorbar\":{\"outlinewidth\":0,\"ticks\":\"\"}},\"type\":\"scattercarpet\"}],\"scattergeo\":[{\"marker\":{\"colorbar\":{\"outlinewidth\":0,\"ticks\":\"\"}},\"type\":\"scattergeo\"}],\"scattergl\":[{\"marker\":{\"colorbar\":{\"outlinewidth\":0,\"ticks\":\"\"}},\"type\":\"scattergl\"}],\"scattermapbox\":[{\"marker\":{\"colorbar\":{\"outlinewidth\":0,\"ticks\":\"\"}},\"type\":\"scattermapbox\"}],\"scatterpolar\":[{\"marker\":{\"colorbar\":{\"outlinewidth\":0,\"ticks\":\"\"}},\"type\":\"scatterpolar\"}],\"scatterpolargl\":[{\"marker\":{\"colorbar\":{\"outlinewidth\":0,\"ticks\":\"\"}},\"type\":\"scatterpolargl\"}],\"scatterternary\":[{\"marker\":{\"colorbar\":{\"outlinewidth\":0,\"ticks\":\"\"}},\"type\":\"scatterternary\"}],\"surface\":[{\"colorbar\":{\"outlinewidth\":0,\"ticks\":\"\"},\"colorscale\":[[0.0,\"#0d0887\"],[0.1111111111111111,\"#46039f\"],[0.2222222222222222,\"#7201a8\"],[0.3333333333333333,\"#9c179e\"],[0.4444444444444444,\"#bd3786\"],[0.5555555555555556,\"#d8576b\"],[0.6666666666666666,\"#ed7953\"],[0.7777777777777778,\"#fb9f3a\"],[0.8888888888888888,\"#fdca26\"],[1.0,\"#f0f921\"]],\"type\":\"surface\"}],\"table\":[{\"cells\":{\"fill\":{\"color\":\"#EBF0F8\"},\"line\":{\"color\":\"white\"}},\"header\":{\"fill\":{\"color\":\"#C8D4E3\"},\"line\":{\"color\":\"white\"}},\"type\":\"table\"}]},\"layout\":{\"annotationdefaults\":{\"arrowcolor\":\"#2a3f5f\",\"arrowhead\":0,\"arrowwidth\":1},\"autotypenumbers\":\"strict\",\"coloraxis\":{\"colorbar\":{\"outlinewidth\":0,\"ticks\":\"\"}},\"colorscale\":{\"diverging\":[[0,\"#8e0152\"],[0.1,\"#c51b7d\"],[0.2,\"#de77ae\"],[0.3,\"#f1b6da\"],[0.4,\"#fde0ef\"],[0.5,\"#f7f7f7\"],[0.6,\"#e6f5d0\"],[0.7,\"#b8e186\"],[0.8,\"#7fbc41\"],[0.9,\"#4d9221\"],[1,\"#276419\"]],\"sequential\":[[0.0,\"#0d0887\"],[0.1111111111111111,\"#46039f\"],[0.2222222222222222,\"#7201a8\"],[0.3333333333333333,\"#9c179e\"],[0.4444444444444444,\"#bd3786\"],[0.5555555555555556,\"#d8576b\"],[0.6666666666666666,\"#ed7953\"],[0.7777777777777778,\"#fb9f3a\"],[0.8888888888888888,\"#fdca26\"],[1.0,\"#f0f921\"]],\"sequentialminus\":[[0.0,\"#0d0887\"],[0.1111111111111111,\"#46039f\"],[0.2222222222222222,\"#7201a8\"],[0.3333333333333333,\"#9c179e\"],[0.4444444444444444,\"#bd3786\"],[0.5555555555555556,\"#d8576b\"],[0.6666666666666666,\"#ed7953\"],[0.7777777777777778,\"#fb9f3a\"],[0.8888888888888888,\"#fdca26\"],[1.0,\"#f0f921\"]]},\"colorway\":[\"#636efa\",\"#EF553B\",\"#00cc96\",\"#ab63fa\",\"#FFA15A\",\"#19d3f3\",\"#FF6692\",\"#B6E880\",\"#FF97FF\",\"#FECB52\"],\"font\":{\"color\":\"#2a3f5f\"},\"geo\":{\"bgcolor\":\"white\",\"lakecolor\":\"white\",\"landcolor\":\"#E5ECF6\",\"showlakes\":true,\"showland\":true,\"subunitcolor\":\"white\"},\"hoverlabel\":{\"align\":\"left\"},\"hovermode\":\"closest\",\"mapbox\":{\"style\":\"light\"},\"paper_bgcolor\":\"white\",\"plot_bgcolor\":\"#E5ECF6\",\"polar\":{\"angularaxis\":{\"gridcolor\":\"white\",\"linecolor\":\"white\",\"ticks\":\"\"},\"bgcolor\":\"#E5ECF6\",\"radialaxis\":{\"gridcolor\":\"white\",\"linecolor\":\"white\",\"ticks\":\"\"}},\"scene\":{\"xaxis\":{\"backgroundcolor\":\"#E5ECF6\",\"gridcolor\":\"white\",\"gridwidth\":2,\"linecolor\":\"white\",\"showbackground\":true,\"ticks\":\"\",\"zerolinecolor\":\"white\"},\"yaxis\":{\"backgroundcolor\":\"#E5ECF6\",\"gridcolor\":\"white\",\"gridwidth\":2,\"linecolor\":\"white\",\"showbackground\":true,\"ticks\":\"\",\"zerolinecolor\":\"white\"},\"zaxis\":{\"backgroundcolor\":\"#E5ECF6\",\"gridcolor\":\"white\",\"gridwidth\":2,\"linecolor\":\"white\",\"showbackground\":true,\"ticks\":\"\",\"zerolinecolor\":\"white\"}},\"shapedefaults\":{\"line\":{\"color\":\"#2a3f5f\"}},\"ternary\":{\"aaxis\":{\"gridcolor\":\"white\",\"linecolor\":\"white\",\"ticks\":\"\"},\"baxis\":{\"gridcolor\":\"white\",\"linecolor\":\"white\",\"ticks\":\"\"},\"bgcolor\":\"#E5ECF6\",\"caxis\":{\"gridcolor\":\"white\",\"linecolor\":\"white\",\"ticks\":\"\"}},\"title\":{\"x\":0.05},\"xaxis\":{\"automargin\":true,\"gridcolor\":\"white\",\"linecolor\":\"white\",\"ticks\":\"\",\"title\":{\"standoff\":15},\"zerolinecolor\":\"white\",\"zerolinewidth\":2},\"yaxis\":{\"automargin\":true,\"gridcolor\":\"white\",\"linecolor\":\"white\",\"ticks\":\"\",\"title\":{\"standoff\":15},\"zerolinecolor\":\"white\",\"zerolinewidth\":2}}},\"xaxis\":{\"anchor\":\"y\",\"domain\":[0.0,1.0],\"title\":{\"text\":\"race\"}},\"yaxis\":{\"anchor\":\"x\",\"domain\":[0.0,1.0],\"title\":{\"text\":\"age\"}},\"legend\":{\"title\":{\"text\":\"attempt_suicide\"},\"tracegroupgap\":0},\"margin\":{\"t\":60},\"barmode\":\"stack\"},                        {\"responsive\": true}                    ).then(function(){\n                            \nvar gd = document.getElementById('fe83bdec-d688-4b85-9584-73687d19a241');\nvar x = new MutationObserver(function (mutations, observer) {{\n        var display = window.getComputedStyle(gd).display;\n        if (!display || display === 'none') {{\n            console.log([gd, 'removed!']);\n            Plotly.purge(gd);\n            observer.disconnect();\n        }}\n}});\n\n// Listen for the removal of the full notebook cells\nvar notebookContainer = gd.closest('#notebook-container');\nif (notebookContainer) {{\n    x.observe(notebookContainer, {childList: true});\n}}\n\n// Listen for the clearing of the current output cell\nvar outputEl = gd.closest('.output');\nif (outputEl) {{\n    x.observe(outputEl, {childList: true});\n}}\n\n                        })                };                            </script>        </div>\n</body>\n</html>"
     },
     "execution_count": 21,
     "metadata": {
     },
     "output_type": "execute_result"
    }
   ],
   "source": [
    "import plotly.express as px\n",
    " \n",
    "\n",
    "fig = px.bar(suicide_risk, x=\"race\", y=\"age\", color=\"attempt_suicide\", barmode = 'stack')\n",
    " \n",
    "fig.show()"
   ]
  },
  {
   "cell_type": "code",
   "execution_count": 30,
   "metadata": {
    "collapsed": false
   },
   "outputs": [
    {
     "name": "stderr",
     "output_type": "stream",
     "text": [
      "/projects/803caf18-2f52-4012-a187-684798bd4465/miniconda3/envs/ds_env/lib/python3.8/site-packages/seaborn/categorical.py:1296: UserWarning:\n",
      "\n",
      "39.8% of the points cannot be placed; you may want to decrease the size of the markers or use stripplot.\n",
      "\n"
     ]
    },
    {
     "data": {
      "text/plain": [
       "<AxesSubplot:xlabel='attempt_suicide', ylabel='age'>"
      ]
     },
     "execution_count": 30,
     "metadata": {
     },
     "output_type": "execute_result"
    },
    {
     "data": {
      "image/png": "[encoded data removed]",
      "text/plain": [
       "<Figure size 432x288 with 1 Axes>"
      ]
     },
     "execution_count": 30,
     "metadata": {
      "needs_background": "light"
     },
     "output_type": "execute_result"
    }
   ],
   "source": [
    "# sns.violinplot(x ='attempt_suicide', y ='age', data = suicide_risk)\n",
    "sns.swarmplot(x ='attempt_suicide', y ='age', data = suicide_risk)"
   ]
  },
  {
   "cell_type": "code",
   "execution_count": 0,
   "metadata": {
    "collapsed": false
   },
   "outputs": [
   ],
   "source": [
   ]
  },
  {
   "cell_type": "code",
   "execution_count": 24,
   "metadata": {
    "collapsed": false
   },
   "outputs": [
    {
     "data": {
      "text/plain": [
       "Therapy             130\n",
       "Go to/join a gym    124\n",
       "Other               109\n",
       "None                106\n",
       "Name: improve_yourself_how, dtype: int64"
      ]
     },
     "execution_count": 24,
     "metadata": {
     },
     "output_type": "execute_result"
    }
   ],
   "source": [
    "#LMAO GOOD LUCK ! - XGBOOST\n",
    "\n",
    "#I don't need luck for where I'm cleaning ! - Certified Data Janitor\n",
    "\n",
    "\n",
    "columns_to_drop = [\"time\"]\n",
    "suicide_risk.drop(columns_to_drop, axis=1, inplace=True)\n",
    "\n",
    "race_freq = (suicide_risk['race'].value_counts())/suicide_risk.shape[0]\n",
    "less_freq_race = race_freq[race_freq<=0.04]\n",
    "suicide_risk.loc[suicide_risk['race'].isin(less_freq_race.index.tolist()), \"race\"] = \"other\"\n",
    "suicide_risk[\"race\"].value_counts()\n",
    "\n",
    "paysex_freq = (suicide_risk['pay_for_sex'].value_counts())/suicide_risk.shape[0]\n",
    "less_freq_paysex = paysex_freq[paysex_freq<=0.3]\n",
    "suicide_risk.loc[suicide_risk['pay_for_sex'].isin(less_freq_paysex.index.tolist()), \"pay_for_sex\"] = \"Yes\"\n",
    "suicide_risk[\"pay_for_sex\"].value_counts()\n",
    "\n",
    "sxlty_freq = (suicide_risk['sexuallity'].value_counts())/suicide_risk.shape[0]\n",
    "less_freq_sxlty = sxlty_freq[sxlty_freq<=0.1]\n",
    "suicide_risk.loc[suicide_risk['sexuallity'].isin(less_freq_sxlty.index.tolist()), \"sexuallity\"] = \"Bi/Gay/Lesbian\"\n",
    "suicide_risk[\"sexuallity\"].value_counts()\n",
    "\n",
    "help_freq = (suicide_risk['what_help_from_others'].value_counts())/suicide_risk.shape[0]\n",
    "less_freq_help = help_freq[help_freq<=0.15]\n",
    "suicide_risk.loc[suicide_risk['what_help_from_others'].isin(less_freq_help.index.tolist()), \"what_help_from_others\"] = \"Some form of help\"\n",
    "suicide_risk[\"what_help_from_others\"].value_counts()\n",
    "\n",
    "suicide_risk = suicide_risk.replace({'employment':  {'A homemaker': \"Employed\", 'Retired': \"Unemployed\", 'Military': \"Employed\", 'Unable to work': \"Unemployed\", 'Self-employed': \"Employed\", 'Out of work and looking for work': \"Unemployed\", 'Out of work but not currently looking for work': \"Unemployed\", 'Employed for wages': \"Employed\", 'A student': \"Student\"}})\n",
    "\n",
    "suicide_risk.loc[suicide_risk['gender'].isin([\"Transgender female\"]),\"gender\"] = \"Female\"\n",
    "suicide_risk.loc[suicide_risk['gender'].isin([\"Transgender male\"]),\"gender\"] = \"Male\"\n",
    "\n",
    "suicide_risk =suicide_risk.astype({\"improve_yourself_how\": str})\n",
    "\n",
    "suicide_risk.loc[suicide_risk.improve_yourself_how.str.contains(\"Therapy\"), \"improve_yourself_how\"] = \"Therapy\"\n",
    "suicide_risk.loc[suicide_risk.improve_yourself_how.str.contains(\"gym\"), \"improve_yourself_how\"] = \"Go to/join a gym\"\n",
    "\n",
    "improve_freq = (suicide_risk['improve_yourself_how'].value_counts())/suicide_risk.shape[0]\n",
    "less_freq_improve = improve_freq[improve_freq<=0.2]\n",
    "suicide_risk.loc[suicide_risk['improve_yourself_how'].isin(less_freq_improve.index.tolist()), \"improve_yourself_how\"] = \"Other\"\n",
    "suicide_risk[\"improve_yourself_how\"].value_counts()"
   ]
  },
  {
   "cell_type": "code",
   "execution_count": 0,
   "metadata": {
    "collapsed": false
   },
   "outputs": [
   ],
   "source": [
   ]
  },
  {
   "cell_type": "code",
   "execution_count": 0,
   "metadata": {
    "collapsed": false
   },
   "outputs": [
   ],
   "source": [
   ]
  },
  {
   "cell_type": "code",
   "execution_count": 0,
   "metadata": {
    "collapsed": false
   },
   "outputs": [
   ],
   "source": [
   ]
  },
  {
   "cell_type": "code",
   "execution_count": 0,
   "metadata": {
    "collapsed": false
   },
   "outputs": [
   ],
   "source": [
   ]
  },
  {
   "cell_type": "code",
   "execution_count": 0,
   "metadata": {
    "collapsed": false
   },
   "outputs": [
   ],
   "source": [
   ]
  },
  {
   "cell_type": "code",
   "execution_count": 16,
   "metadata": {
    "collapsed": false
   },
   "outputs": [
    {
     "data": {
      "text/plain": [
       "Therapy                                                                                                                                                                                21\n",
       "Joined a gym/go to the gym, Therapy                                                                                                                                                    20\n",
       "Joined a gym/go to the gym, Therapy, Other exercise, join clubs/socual clubs/meet ups                                                                                                  20\n",
       "Therapy, Other exercise                                                                                                                                                                16\n",
       "Joined a gym/go to the gym, Therapy, join clubs/socual clubs/meet ups                                                                                                                  10\n",
       "Therapy, Other exercise, join clubs/socual clubs/meet ups                                                                                                                              10\n",
       "Therapy, join clubs/socual clubs/meet ups                                                                                                                                               7\n",
       "Cosmetic survey, Joined a gym/go to the gym, Therapy, Other exercise, join clubs/socual clubs/meet ups                                                                                  3\n",
       "Cosmetic survey, Joined a gym/go to the gym, Therapy, Other exercise                                                                                                                    3\n",
       "Joined a gym/go to the gym, Therapy, Other exercise                                                                                                                                     3\n",
       "Cosmetic survey, Joined a gym/go to the gym, Therapy                                                                                                                                    2\n",
       "Cosmetic survey, Joined a gym/go to the gym, Therapy, join clubs/socual clubs/meet ups                                                                                                  2\n",
       "Cosmetic survey, Joined a gym/go to the gym, Therapy, Other exercise, join clubs/socual clubs/meet ups, Fashion makeup personality etc                                                  1\n",
       "Therapy, Other exercise, None                                                                                                                                                           1\n",
       "Cosmetic survey, Therapy, join clubs/socual clubs/meet ups                                                                                                                              1\n",
       "Cosmetic survey, Therapy                                                                                                                                                                1\n",
       "Joined a gym/go to the gym, Therapy, Self analysis                                                                                                                                      1\n",
       "Therapy, join clubs/socual clubs/meet ups, None, Volunteering, social activism, traveling                                                                                               1\n",
       "Therapy, Other exercise, diets, change of wardrobe, medication, diet pills                                                                                                              1\n",
       "Therapy, join clubs/socual clubs/meet ups, medication                                                                                                                                   1\n",
       "Joined a gym/go to the gym, Therapy, Joined a German language learning course.                                                                                                          1\n",
       "Therapy, Other exercise, Develop hobbies                                                                                                                                                1\n",
       "Joined a gym/go to the gym, Therapy, Clubbing, living in a student house (at dorms)                                                                                                     1\n",
       "Cosmetic survey, Therapy, Other exercise, forced myself to free events or events w/acquintances advertised in fb; been part of a blog for five years and met some members in person     1\n",
       "Cosmetic surgery, Joined a gym/go to the gym, Therapy, Other exercise, join clubs/socual clubs/meet ups, None                                                                           1\n",
       "Name: improve_yourself_how, dtype: int64"
      ]
     },
     "execution_count": 16,
     "metadata": {
     },
     "output_type": "execute_result"
    }
   ],
   "source": [
    "suicide_risk[suicide_risk.improve_yourself_how.str.contains(\"Therapy\")][\"improve_yourself_how\"].value_counts()"
   ]
  },
  {
   "cell_type": "code",
   "execution_count": 0,
   "metadata": {
    "collapsed": false
   },
   "outputs": [
   ],
   "source": [
   ]
  },
  {
   "cell_type": "code",
   "execution_count": 0,
   "metadata": {
    "collapsed": false
   },
   "outputs": [
   ],
   "source": [
   ]
  },
  {
   "cell_type": "code",
   "execution_count": 0,
   "metadata": {
    "collapsed": false
   },
   "outputs": [
   ],
   "source": [
   ]
  },
  {
   "cell_type": "code",
   "execution_count": 0,
   "metadata": {
    "collapsed": false
   },
   "outputs": [
   ],
   "source": [
   ]
  },
  {
   "cell_type": "code",
   "execution_count": 0,
   "metadata": {
    "collapsed": false
   },
   "outputs": [
   ],
   "source": [
   ]
  },
  {
   "cell_type": "code",
   "execution_count": 0,
   "metadata": {
    "collapsed": false
   },
   "outputs": [
   ],
   "source": [
   ]
  },
  {
   "cell_type": "code",
   "execution_count": 21,
   "metadata": {
    "collapsed": false
   },
   "outputs": [
    {
     "ename": "ValueError",
     "evalue": "Value of 'color' is not the name of a column in 'data_frame'. Expected one of ['Country or region', 'Score', 'Social support', 'Healthy life expectancy', 'Freedom to make life choices', 'Generosity', 'Perceptions of corruption'] but received: #1f77b4",
     "output_type": "error",
     "traceback": [
      "\u001b[0;31m---------------------------------------------------------------------------\u001b[0m",
      "\u001b[0;31mValueError\u001b[0m                                Traceback (most recent call last)",
      "Input \u001b[0;32mIn [21]\u001b[0m, in \u001b[0;36m<cell line: 1>\u001b[0;34m()\u001b[0m\n\u001b[0;32m----> 1\u001b[0m \u001b[43mpx\u001b[49m\u001b[38;5;241;43m.\u001b[39;49m\u001b[43mscatter_3d\u001b[49m\u001b[43m(\u001b[49m\u001b[43mhappiness_report\u001b[49m\u001b[43m,\u001b[49m\u001b[43m \u001b[49m\u001b[43mx\u001b[49m\u001b[43m \u001b[49m\u001b[38;5;241;43m=\u001b[39;49m\u001b[43m \u001b[49m\u001b[38;5;124;43m'\u001b[39;49m\u001b[38;5;124;43mSocial support\u001b[39;49m\u001b[38;5;124;43m'\u001b[39;49m\u001b[43m,\u001b[49m\u001b[43m \u001b[49m\u001b[43my\u001b[49m\u001b[43m \u001b[49m\u001b[38;5;241;43m=\u001b[39;49m\u001b[43m \u001b[49m\u001b[38;5;124;43m'\u001b[39;49m\u001b[38;5;124;43mFreedom to make life choices\u001b[39;49m\u001b[38;5;124;43m'\u001b[39;49m\u001b[43m,\u001b[49m\u001b[43m \u001b[49m\u001b[43mz\u001b[49m\u001b[43m \u001b[49m\u001b[38;5;241;43m=\u001b[39;49m\u001b[43m \u001b[49m\u001b[38;5;124;43m'\u001b[39;49m\u001b[38;5;124;43mScore\u001b[39;49m\u001b[38;5;124;43m'\u001b[39;49m\u001b[43m,\u001b[49m\u001b[43m \u001b[49m\u001b[43mcolor\u001b[49m\u001b[43m \u001b[49m\u001b[38;5;241;43m=\u001b[39;49m\u001b[43m \u001b[49m\u001b[38;5;124;43m'\u001b[39;49m\u001b[38;5;124;43m#1f77b4\u001b[39;49m\u001b[38;5;124;43m'\u001b[39;49m\u001b[43m)\u001b[49m\n",
      "File \u001b[0;32m~/miniconda3/envs/ds_env/lib/python3.8/site-packages/plotly/express/_chart_types.py:762\u001b[0m, in \u001b[0;36mscatter_3d\u001b[0;34m(data_frame, x, y, z, color, symbol, size, text, hover_name, hover_data, custom_data, error_x, error_x_minus, error_y, error_y_minus, error_z, error_z_minus, animation_frame, animation_group, category_orders, labels, size_max, color_discrete_sequence, color_discrete_map, color_continuous_scale, range_color, color_continuous_midpoint, symbol_sequence, symbol_map, opacity, log_x, log_y, log_z, range_x, range_y, range_z, title, template, width, height)\u001b[0m\n\u001b[1;32m    716\u001b[0m \u001b[38;5;28;01mdef\u001b[39;00m \u001b[38;5;21mscatter_3d\u001b[39m(\n\u001b[1;32m    717\u001b[0m     data_frame\u001b[38;5;241m=\u001b[39m\u001b[38;5;28;01mNone\u001b[39;00m,\n\u001b[1;32m    718\u001b[0m     x\u001b[38;5;241m=\u001b[39m\u001b[38;5;28;01mNone\u001b[39;00m,\n\u001b[0;32m   (...)\u001b[0m\n\u001b[1;32m    756\u001b[0m     height\u001b[38;5;241m=\u001b[39m\u001b[38;5;28;01mNone\u001b[39;00m,\n\u001b[1;32m    757\u001b[0m ):\n\u001b[1;32m    758\u001b[0m     \u001b[38;5;124;03m\"\"\"\u001b[39;00m\n\u001b[1;32m    759\u001b[0m \u001b[38;5;124;03m    In a 3D scatter plot, each row of `data_frame` is represented by a\u001b[39;00m\n\u001b[1;32m    760\u001b[0m \u001b[38;5;124;03m    symbol mark in 3D space.\u001b[39;00m\n\u001b[1;32m    761\u001b[0m \u001b[38;5;124;03m    \"\"\"\u001b[39;00m\n\u001b[0;32m--> 762\u001b[0m     \u001b[38;5;28;01mreturn\u001b[39;00m \u001b[43mmake_figure\u001b[49m\u001b[43m(\u001b[49m\u001b[43margs\u001b[49m\u001b[38;5;241;43m=\u001b[39;49m\u001b[38;5;28;43mlocals\u001b[39;49m\u001b[43m(\u001b[49m\u001b[43m)\u001b[49m\u001b[43m,\u001b[49m\u001b[43m \u001b[49m\u001b[43mconstructor\u001b[49m\u001b[38;5;241;43m=\u001b[39;49m\u001b[43mgo\u001b[49m\u001b[38;5;241;43m.\u001b[39;49m\u001b[43mScatter3d\u001b[49m\u001b[43m)\u001b[49m\n",
      "File \u001b[0;32m~/miniconda3/envs/ds_env/lib/python3.8/site-packages/plotly/express/_core.py:1945\u001b[0m, in \u001b[0;36mmake_figure\u001b[0;34m(args, constructor, trace_patch, layout_patch)\u001b[0m\n\u001b[1;32m   1942\u001b[0m layout_patch \u001b[38;5;241m=\u001b[39m layout_patch \u001b[38;5;129;01mor\u001b[39;00m {}\n\u001b[1;32m   1943\u001b[0m apply_default_cascade(args)\n\u001b[0;32m-> 1945\u001b[0m args \u001b[38;5;241m=\u001b[39m \u001b[43mbuild_dataframe\u001b[49m\u001b[43m(\u001b[49m\u001b[43margs\u001b[49m\u001b[43m,\u001b[49m\u001b[43m \u001b[49m\u001b[43mconstructor\u001b[49m\u001b[43m)\u001b[49m\n\u001b[1;32m   1946\u001b[0m \u001b[38;5;28;01mif\u001b[39;00m constructor \u001b[38;5;129;01min\u001b[39;00m [go\u001b[38;5;241m.\u001b[39mTreemap, go\u001b[38;5;241m.\u001b[39mSunburst, go\u001b[38;5;241m.\u001b[39mIcicle] \u001b[38;5;129;01mand\u001b[39;00m args[\u001b[38;5;124m\"\u001b[39m\u001b[38;5;124mpath\u001b[39m\u001b[38;5;124m\"\u001b[39m] \u001b[38;5;129;01mis\u001b[39;00m \u001b[38;5;129;01mnot\u001b[39;00m \u001b[38;5;28;01mNone\u001b[39;00m:\n\u001b[1;32m   1947\u001b[0m     args \u001b[38;5;241m=\u001b[39m process_dataframe_hierarchy(args)\n",
      "File \u001b[0;32m~/miniconda3/envs/ds_env/lib/python3.8/site-packages/plotly/express/_core.py:1405\u001b[0m, in \u001b[0;36mbuild_dataframe\u001b[0;34m(args, constructor)\u001b[0m\n\u001b[1;32m   1402\u001b[0m     args[\u001b[38;5;124m\"\u001b[39m\u001b[38;5;124mcolor\u001b[39m\u001b[38;5;124m\"\u001b[39m] \u001b[38;5;241m=\u001b[39m \u001b[38;5;28;01mNone\u001b[39;00m\n\u001b[1;32m   1403\u001b[0m \u001b[38;5;66;03m# now that things have been prepped, we do the systematic rewriting of `args`\u001b[39;00m\n\u001b[0;32m-> 1405\u001b[0m df_output, wide_id_vars \u001b[38;5;241m=\u001b[39m \u001b[43mprocess_args_into_dataframe\u001b[49m\u001b[43m(\u001b[49m\n\u001b[1;32m   1406\u001b[0m \u001b[43m    \u001b[49m\u001b[43margs\u001b[49m\u001b[43m,\u001b[49m\u001b[43m \u001b[49m\u001b[43mwide_mode\u001b[49m\u001b[43m,\u001b[49m\u001b[43m \u001b[49m\u001b[43mvar_name\u001b[49m\u001b[43m,\u001b[49m\u001b[43m \u001b[49m\u001b[43mvalue_name\u001b[49m\n\u001b[1;32m   1407\u001b[0m \u001b[43m\u001b[49m\u001b[43m)\u001b[49m\n\u001b[1;32m   1409\u001b[0m \u001b[38;5;66;03m# now that `df_output` exists and `args` contains only references, we complete\u001b[39;00m\n\u001b[1;32m   1410\u001b[0m \u001b[38;5;66;03m# the special-case and wide-mode handling by further rewriting args and/or mutating\u001b[39;00m\n\u001b[1;32m   1411\u001b[0m \u001b[38;5;66;03m# df_output\u001b[39;00m\n\u001b[1;32m   1413\u001b[0m count_name \u001b[38;5;241m=\u001b[39m _escape_col_name(df_output, \u001b[38;5;124m\"\u001b[39m\u001b[38;5;124mcount\u001b[39m\u001b[38;5;124m\"\u001b[39m, [var_name, value_name])\n",
      "File \u001b[0;32m~/miniconda3/envs/ds_env/lib/python3.8/site-packages/plotly/express/_core.py:1207\u001b[0m, in \u001b[0;36mprocess_args_into_dataframe\u001b[0;34m(args, wide_mode, var_name, value_name)\u001b[0m\n\u001b[1;32m   1205\u001b[0m         \u001b[38;5;28;01mif\u001b[39;00m argument \u001b[38;5;241m==\u001b[39m \u001b[38;5;124m\"\u001b[39m\u001b[38;5;124mindex\u001b[39m\u001b[38;5;124m\"\u001b[39m:\n\u001b[1;32m   1206\u001b[0m             err_msg \u001b[38;5;241m+\u001b[39m\u001b[38;5;241m=\u001b[39m \u001b[38;5;124m\"\u001b[39m\u001b[38;5;130;01m\\n\u001b[39;00m\u001b[38;5;124m To use the index, pass it in directly as `df.index`.\u001b[39m\u001b[38;5;124m\"\u001b[39m\n\u001b[0;32m-> 1207\u001b[0m         \u001b[38;5;28;01mraise\u001b[39;00m \u001b[38;5;167;01mValueError\u001b[39;00m(err_msg)\n\u001b[1;32m   1208\u001b[0m \u001b[38;5;28;01melif\u001b[39;00m length \u001b[38;5;129;01mand\u001b[39;00m \u001b[38;5;28mlen\u001b[39m(df_input[argument]) \u001b[38;5;241m!=\u001b[39m length:\n\u001b[1;32m   1209\u001b[0m     \u001b[38;5;28;01mraise\u001b[39;00m \u001b[38;5;167;01mValueError\u001b[39;00m(\n\u001b[1;32m   1210\u001b[0m         \u001b[38;5;124m\"\u001b[39m\u001b[38;5;124mAll arguments should have the same length. \u001b[39m\u001b[38;5;124m\"\u001b[39m\n\u001b[1;32m   1211\u001b[0m         \u001b[38;5;124m\"\u001b[39m\u001b[38;5;124mThe length of column argument `df[\u001b[39m\u001b[38;5;132;01m%s\u001b[39;00m\u001b[38;5;124m]` is \u001b[39m\u001b[38;5;132;01m%d\u001b[39;00m\u001b[38;5;124m, whereas the \u001b[39m\u001b[38;5;124m\"\u001b[39m\n\u001b[0;32m   (...)\u001b[0m\n\u001b[1;32m   1218\u001b[0m         )\n\u001b[1;32m   1219\u001b[0m     )\n",
      "\u001b[0;31mValueError\u001b[0m: Value of 'color' is not the name of a column in 'data_frame'. Expected one of ['Country or region', 'Score', 'Social support', 'Healthy life expectancy', 'Freedom to make life choices', 'Generosity', 'Perceptions of corruption'] but received: #1f77b4"
     ]
    }
   ],
   "source": [
    "px.scatter_3d(happiness_report, x = 'Social support', y = 'Freedom to make life choices', z = 'Score', color = '#1f77b4')"
   ]
  },
  {
   "cell_type": "code",
   "execution_count": 0,
   "metadata": {
    "collapsed": false
   },
   "outputs": [
   ],
   "source": [
   ]
  },
  {
   "cell_type": "code",
   "execution_count": 0,
   "metadata": {
    "collapsed": false
   },
   "outputs": [
   ],
   "source": [
    "import matplotlib.pyplot as plt\n",
    "\n",
    "\n",
    "happin.plot.scatter(x='Flipper Length (mm)', y='Culmen Depth (mm)', c='DarkBlue')"
   ]
  },
  {
   "cell_type": "code",
   "execution_count": 0,
   "metadata": {
    "collapsed": false
   },
   "outputs": [
   ],
   "source": [
    "#pie chart"
   ]
  },
  {
   "cell_type": "code",
   "execution_count": 0,
   "metadata": {
    "collapsed": false
   },
   "outputs": [
   ],
   "source": [
    "happiness_report[happiness_report[\"Healthy life expectancy\"] == \"Netherlands\""
   ]
  },
  {
   "cell_type": "code",
   "execution_count": 0,
   "metadata": {
    "collapsed": false
   },
   "outputs": [
   ],
   "source": [
   ]
  },
  {
   "cell_type": "code",
   "execution_count": 0,
   "metadata": {
    "collapsed": false
   },
   "outputs": [
   ],
   "source": [
   ]
  },
  {
   "cell_type": "code",
   "execution_count": 0,
   "metadata": {
    "collapsed": false
   },
   "outputs": [
   ],
   "source": [
   ]
  }
 ],
 "metadata": {
  "kernelspec": {
   "display_name": "Python (ds_env)",
   "language": "python",
   "metadata": {
    "debugger": true
   },
   "name": "ds_env",
   "resource_dir": "/projects/803caf18-2f52-4012-a187-684798bd4465/.local/share/jupyter/kernels/ds_env"
  },
  "language_info": {
   "codemirror_mode": {
    "name": "ipython",
    "version": 3
   },
   "file_extension": ".py",
   "mimetype": "text/x-python",
   "name": "python",
   "nbconvert_exporter": "python",
   "pygments_lexer": "ipython3",
   "version": "3.8.13"
  }
 },
 "nbformat": 4,
 "nbformat_minor": 4
}